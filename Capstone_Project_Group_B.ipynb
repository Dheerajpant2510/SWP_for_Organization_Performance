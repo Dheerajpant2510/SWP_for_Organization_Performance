{
  "nbformat": 4,
  "nbformat_minor": 0,
  "metadata": {
    "colab": {
      "provenance": [],
      "authorship_tag": "ABX9TyPKENvLQ6dFJxQgKrn1tnkZ",
      "include_colab_link": true
    },
    "kernelspec": {
      "name": "python3",
      "display_name": "Python 3"
    },
    "language_info": {
      "name": "python"
    }
  },
  "cells": [
    {
      "cell_type": "markdown",
      "metadata": {
        "id": "view-in-github",
        "colab_type": "text"
      },
      "source": [
        "<a href=\"https://colab.research.google.com/github/Dheerajpant2510/SWP_for_Organization_Performance/blob/main/Capstone_Project_Group_B.ipynb\" target=\"_parent\"><img src=\"https://colab.research.google.com/assets/colab-badge.svg\" alt=\"Open In Colab\"/></a>"
      ]
    },
    {
      "cell_type": "markdown",
      "source": [
        "\n",
        "\n",
        "```\n",
        "## Web Scraping of Job Title, Job Category, Posting_date for multiple banks\n",
        "```\n",
        "\n"
      ],
      "metadata": {
        "id": "pTEBgWpPuj84"
      }
    },
    {
      "cell_type": "code",
      "source": [
        "import requests\n",
        "from bs4 import BeautifulSoup\n",
        "import csv"
      ],
      "metadata": {
        "id": "PwNrL2pMpOlA"
      },
      "execution_count": 5,
      "outputs": []
    },
    {
      "cell_type": "code",
      "source": [
        "\n",
        "# Maximum number of pages to scrape\n",
        "max_pages = 20\n",
        "\n",
        "# Create a list to hold job postings\n",
        "job_postings = []\n",
        "\n",
        "banks=[\"state-bank-of-india\",\"bank-of-baroda\",\"Punjab-National-Bank\",\"axis-bank\",\"icici-bank\",\"HDFC-Bank\",\"Kotak-Mahindra-Bank\"]\n",
        "\n",
        "for bank in banks:\n",
        "  for page in range(1, max_pages + 1):\n",
        "      # Create URL for the page\n",
        "      URL = f\"https://timesascent.com/latest-jobs/{bank}/?page={page}\"\n",
        "      html_text = requests.get(URL,verify=False).text\n",
        "\n",
        "      soup=BeautifulSoup(html_text,'lxml')\n",
        "      jobs=soup.find_all('div',class_='mt-4')\n",
        "\n",
        "      for job in jobs:\n",
        "         try:\n",
        "              Company_Name=job.find('div',class_='text-sm font-medium text-gray-900 line-clamp-2').text.replace(' ','')\n",
        "              posting_date=job.find('div',class_='text-sm text-gray-500').text.replace(' ','')\n",
        "              job_title=job.find('div',class_='mt-4 text-base font-medium text-gray-900').text.replace(' ','')\n",
        "              job_category=job.find('div',class_='flex flex-shrink-0 ali px-2').text.replace(' ','')\n",
        "\n",
        "              # Append a dictionary representing the job posting to the list\n",
        "              job_postings.append({\n",
        "                  'Company Name': Company_Name,\n",
        "                  'Posting Date': posting_date,\n",
        "                  'Job Title': job_title,\n",
        "                  'Job Category': job_category\n",
        "              })\n",
        "         except AttributeError:\n",
        "            print('Failed to extract one of the job postings')\n",
        "\n",
        "  # Field names for the CSV file\n",
        "  fields = ['Company Name', 'Posting Date', 'Job Title', 'Job Category']\n"
      ],
      "metadata": {
        "colab": {
          "base_uri": "https://localhost:8080/"
        },
        "id": "2diIwCU0p1CE",
        "outputId": "60f4bf95-ff32-4c4f-c213-45c5fffa929d"
      },
      "execution_count": 20,
      "outputs": [
        {
          "output_type": "stream",
          "name": "stderr",
          "text": [
            "/usr/local/lib/python3.10/dist-packages/urllib3/connectionpool.py:1045: InsecureRequestWarning: Unverified HTTPS request is being made to host 'timesascent.com'. Adding certificate verification is strongly advised. See: https://urllib3.readthedocs.io/en/1.26.x/advanced-usage.html#ssl-warnings\n",
            "  warnings.warn(\n",
            "/usr/local/lib/python3.10/dist-packages/urllib3/connectionpool.py:1045: InsecureRequestWarning: Unverified HTTPS request is being made to host 'timesascent.com'. Adding certificate verification is strongly advised. See: https://urllib3.readthedocs.io/en/1.26.x/advanced-usage.html#ssl-warnings\n",
            "  warnings.warn(\n"
          ]
        },
        {
          "output_type": "stream",
          "name": "stdout",
          "text": [
            "Failed to extract one of the job postings\n",
            "Failed to extract one of the job postings\n",
            "Failed to extract one of the job postings\n",
            "Failed to extract one of the job postings\n",
            "Failed to extract one of the job postings\n",
            "Failed to extract one of the job postings\n",
            "Failed to extract one of the job postings\n",
            "Failed to extract one of the job postings\n",
            "Failed to extract one of the job postings\n",
            "Failed to extract one of the job postings\n",
            "Failed to extract one of the job postings\n",
            "Failed to extract one of the job postings\n",
            "Failed to extract one of the job postings\n",
            "Failed to extract one of the job postings\n",
            "Failed to extract one of the job postings\n",
            "Failed to extract one of the job postings\n",
            "Failed to extract one of the job postings\n",
            "Failed to extract one of the job postings\n",
            "Failed to extract one of the job postings\n",
            "Failed to extract one of the job postings\n",
            "Failed to extract one of the job postings\n",
            "Failed to extract one of the job postings\n",
            "Failed to extract one of the job postings\n",
            "Failed to extract one of the job postings\n",
            "Failed to extract one of the job postings\n",
            "Failed to extract one of the job postings\n",
            "Failed to extract one of the job postings\n",
            "Failed to extract one of the job postings\n"
          ]
        },
        {
          "output_type": "stream",
          "name": "stderr",
          "text": [
            "/usr/local/lib/python3.10/dist-packages/urllib3/connectionpool.py:1045: InsecureRequestWarning: Unverified HTTPS request is being made to host 'timesascent.com'. Adding certificate verification is strongly advised. See: https://urllib3.readthedocs.io/en/1.26.x/advanced-usage.html#ssl-warnings\n",
            "  warnings.warn(\n",
            "/usr/local/lib/python3.10/dist-packages/urllib3/connectionpool.py:1045: InsecureRequestWarning: Unverified HTTPS request is being made to host 'timesascent.com'. Adding certificate verification is strongly advised. See: https://urllib3.readthedocs.io/en/1.26.x/advanced-usage.html#ssl-warnings\n",
            "  warnings.warn(\n"
          ]
        },
        {
          "output_type": "stream",
          "name": "stdout",
          "text": [
            "Failed to extract one of the job postings\n",
            "Failed to extract one of the job postings\n",
            "Failed to extract one of the job postings\n",
            "Failed to extract one of the job postings\n",
            "Failed to extract one of the job postings\n",
            "Failed to extract one of the job postings\n",
            "Failed to extract one of the job postings\n",
            "Failed to extract one of the job postings\n",
            "Failed to extract one of the job postings\n",
            "Failed to extract one of the job postings\n",
            "Failed to extract one of the job postings\n",
            "Failed to extract one of the job postings\n",
            "Failed to extract one of the job postings\n",
            "Failed to extract one of the job postings\n",
            "Failed to extract one of the job postings\n",
            "Failed to extract one of the job postings\n",
            "Failed to extract one of the job postings\n",
            "Failed to extract one of the job postings\n",
            "Failed to extract one of the job postings\n",
            "Failed to extract one of the job postings\n",
            "Failed to extract one of the job postings\n",
            "Failed to extract one of the job postings\n",
            "Failed to extract one of the job postings\n",
            "Failed to extract one of the job postings\n",
            "Failed to extract one of the job postings\n",
            "Failed to extract one of the job postings\n",
            "Failed to extract one of the job postings\n",
            "Failed to extract one of the job postings\n"
          ]
        },
        {
          "output_type": "stream",
          "name": "stderr",
          "text": [
            "/usr/local/lib/python3.10/dist-packages/urllib3/connectionpool.py:1045: InsecureRequestWarning: Unverified HTTPS request is being made to host 'timesascent.com'. Adding certificate verification is strongly advised. See: https://urllib3.readthedocs.io/en/1.26.x/advanced-usage.html#ssl-warnings\n",
            "  warnings.warn(\n",
            "/usr/local/lib/python3.10/dist-packages/urllib3/connectionpool.py:1045: InsecureRequestWarning: Unverified HTTPS request is being made to host 'timesascent.com'. Adding certificate verification is strongly advised. See: https://urllib3.readthedocs.io/en/1.26.x/advanced-usage.html#ssl-warnings\n",
            "  warnings.warn(\n"
          ]
        },
        {
          "output_type": "stream",
          "name": "stdout",
          "text": [
            "Failed to extract one of the job postings\n",
            "Failed to extract one of the job postings\n",
            "Failed to extract one of the job postings\n",
            "Failed to extract one of the job postings\n",
            "Failed to extract one of the job postings\n",
            "Failed to extract one of the job postings\n",
            "Failed to extract one of the job postings\n",
            "Failed to extract one of the job postings\n",
            "Failed to extract one of the job postings\n",
            "Failed to extract one of the job postings\n",
            "Failed to extract one of the job postings\n",
            "Failed to extract one of the job postings\n",
            "Failed to extract one of the job postings\n",
            "Failed to extract one of the job postings\n",
            "Failed to extract one of the job postings\n",
            "Failed to extract one of the job postings\n",
            "Failed to extract one of the job postings\n",
            "Failed to extract one of the job postings\n",
            "Failed to extract one of the job postings\n",
            "Failed to extract one of the job postings\n",
            "Failed to extract one of the job postings\n",
            "Failed to extract one of the job postings\n",
            "Failed to extract one of the job postings\n",
            "Failed to extract one of the job postings\n",
            "Failed to extract one of the job postings\n",
            "Failed to extract one of the job postings\n",
            "Failed to extract one of the job postings\n",
            "Failed to extract one of the job postings\n"
          ]
        },
        {
          "output_type": "stream",
          "name": "stderr",
          "text": [
            "/usr/local/lib/python3.10/dist-packages/urllib3/connectionpool.py:1045: InsecureRequestWarning: Unverified HTTPS request is being made to host 'timesascent.com'. Adding certificate verification is strongly advised. See: https://urllib3.readthedocs.io/en/1.26.x/advanced-usage.html#ssl-warnings\n",
            "  warnings.warn(\n",
            "/usr/local/lib/python3.10/dist-packages/urllib3/connectionpool.py:1045: InsecureRequestWarning: Unverified HTTPS request is being made to host 'timesascent.com'. Adding certificate verification is strongly advised. See: https://urllib3.readthedocs.io/en/1.26.x/advanced-usage.html#ssl-warnings\n",
            "  warnings.warn(\n"
          ]
        },
        {
          "output_type": "stream",
          "name": "stdout",
          "text": [
            "Failed to extract one of the job postings\n",
            "Failed to extract one of the job postings\n",
            "Failed to extract one of the job postings\n",
            "Failed to extract one of the job postings\n",
            "Failed to extract one of the job postings\n",
            "Failed to extract one of the job postings\n",
            "Failed to extract one of the job postings\n",
            "Failed to extract one of the job postings\n",
            "Failed to extract one of the job postings\n",
            "Failed to extract one of the job postings\n",
            "Failed to extract one of the job postings\n",
            "Failed to extract one of the job postings\n",
            "Failed to extract one of the job postings\n",
            "Failed to extract one of the job postings\n",
            "Failed to extract one of the job postings\n",
            "Failed to extract one of the job postings\n",
            "Failed to extract one of the job postings\n",
            "Failed to extract one of the job postings\n",
            "Failed to extract one of the job postings\n",
            "Failed to extract one of the job postings\n",
            "Failed to extract one of the job postings\n",
            "Failed to extract one of the job postings\n",
            "Failed to extract one of the job postings\n",
            "Failed to extract one of the job postings\n",
            "Failed to extract one of the job postings\n",
            "Failed to extract one of the job postings\n",
            "Failed to extract one of the job postings\n",
            "Failed to extract one of the job postings\n"
          ]
        },
        {
          "output_type": "stream",
          "name": "stderr",
          "text": [
            "/usr/local/lib/python3.10/dist-packages/urllib3/connectionpool.py:1045: InsecureRequestWarning: Unverified HTTPS request is being made to host 'timesascent.com'. Adding certificate verification is strongly advised. See: https://urllib3.readthedocs.io/en/1.26.x/advanced-usage.html#ssl-warnings\n",
            "  warnings.warn(\n",
            "/usr/local/lib/python3.10/dist-packages/urllib3/connectionpool.py:1045: InsecureRequestWarning: Unverified HTTPS request is being made to host 'timesascent.com'. Adding certificate verification is strongly advised. See: https://urllib3.readthedocs.io/en/1.26.x/advanced-usage.html#ssl-warnings\n",
            "  warnings.warn(\n"
          ]
        },
        {
          "output_type": "stream",
          "name": "stdout",
          "text": [
            "Failed to extract one of the job postings\n",
            "Failed to extract one of the job postings\n",
            "Failed to extract one of the job postings\n",
            "Failed to extract one of the job postings\n",
            "Failed to extract one of the job postings\n",
            "Failed to extract one of the job postings\n",
            "Failed to extract one of the job postings\n",
            "Failed to extract one of the job postings\n",
            "Failed to extract one of the job postings\n",
            "Failed to extract one of the job postings\n",
            "Failed to extract one of the job postings\n",
            "Failed to extract one of the job postings\n",
            "Failed to extract one of the job postings\n",
            "Failed to extract one of the job postings\n",
            "Failed to extract one of the job postings\n",
            "Failed to extract one of the job postings\n",
            "Failed to extract one of the job postings\n",
            "Failed to extract one of the job postings\n",
            "Failed to extract one of the job postings\n",
            "Failed to extract one of the job postings\n",
            "Failed to extract one of the job postings\n",
            "Failed to extract one of the job postings\n",
            "Failed to extract one of the job postings\n",
            "Failed to extract one of the job postings\n",
            "Failed to extract one of the job postings\n",
            "Failed to extract one of the job postings\n",
            "Failed to extract one of the job postings\n",
            "Failed to extract one of the job postings\n"
          ]
        },
        {
          "output_type": "stream",
          "name": "stderr",
          "text": [
            "/usr/local/lib/python3.10/dist-packages/urllib3/connectionpool.py:1045: InsecureRequestWarning: Unverified HTTPS request is being made to host 'timesascent.com'. Adding certificate verification is strongly advised. See: https://urllib3.readthedocs.io/en/1.26.x/advanced-usage.html#ssl-warnings\n",
            "  warnings.warn(\n",
            "/usr/local/lib/python3.10/dist-packages/urllib3/connectionpool.py:1045: InsecureRequestWarning: Unverified HTTPS request is being made to host 'timesascent.com'. Adding certificate verification is strongly advised. See: https://urllib3.readthedocs.io/en/1.26.x/advanced-usage.html#ssl-warnings\n",
            "  warnings.warn(\n"
          ]
        },
        {
          "output_type": "stream",
          "name": "stdout",
          "text": [
            "Failed to extract one of the job postings\n",
            "Failed to extract one of the job postings\n",
            "Failed to extract one of the job postings\n",
            "Failed to extract one of the job postings\n",
            "Failed to extract one of the job postings\n",
            "Failed to extract one of the job postings\n",
            "Failed to extract one of the job postings\n",
            "Failed to extract one of the job postings\n",
            "Failed to extract one of the job postings\n",
            "Failed to extract one of the job postings\n",
            "Failed to extract one of the job postings\n",
            "Failed to extract one of the job postings\n",
            "Failed to extract one of the job postings\n",
            "Failed to extract one of the job postings\n",
            "Failed to extract one of the job postings\n",
            "Failed to extract one of the job postings\n",
            "Failed to extract one of the job postings\n",
            "Failed to extract one of the job postings\n",
            "Failed to extract one of the job postings\n",
            "Failed to extract one of the job postings\n",
            "Failed to extract one of the job postings\n",
            "Failed to extract one of the job postings\n",
            "Failed to extract one of the job postings\n",
            "Failed to extract one of the job postings\n",
            "Failed to extract one of the job postings\n",
            "Failed to extract one of the job postings\n",
            "Failed to extract one of the job postings\n",
            "Failed to extract one of the job postings\n"
          ]
        },
        {
          "output_type": "stream",
          "name": "stderr",
          "text": [
            "/usr/local/lib/python3.10/dist-packages/urllib3/connectionpool.py:1045: InsecureRequestWarning: Unverified HTTPS request is being made to host 'timesascent.com'. Adding certificate verification is strongly advised. See: https://urllib3.readthedocs.io/en/1.26.x/advanced-usage.html#ssl-warnings\n",
            "  warnings.warn(\n",
            "/usr/local/lib/python3.10/dist-packages/urllib3/connectionpool.py:1045: InsecureRequestWarning: Unverified HTTPS request is being made to host 'timesascent.com'. Adding certificate verification is strongly advised. See: https://urllib3.readthedocs.io/en/1.26.x/advanced-usage.html#ssl-warnings\n",
            "  warnings.warn(\n"
          ]
        },
        {
          "output_type": "stream",
          "name": "stdout",
          "text": [
            "Failed to extract one of the job postings\n",
            "Failed to extract one of the job postings\n",
            "Failed to extract one of the job postings\n",
            "Failed to extract one of the job postings\n",
            "Failed to extract one of the job postings\n",
            "Failed to extract one of the job postings\n",
            "Failed to extract one of the job postings\n",
            "Failed to extract one of the job postings\n",
            "Failed to extract one of the job postings\n",
            "Failed to extract one of the job postings\n",
            "Failed to extract one of the job postings\n",
            "Failed to extract one of the job postings\n",
            "Failed to extract one of the job postings\n",
            "Failed to extract one of the job postings\n",
            "Failed to extract one of the job postings\n",
            "Failed to extract one of the job postings\n",
            "Failed to extract one of the job postings\n",
            "Failed to extract one of the job postings\n",
            "Failed to extract one of the job postings\n",
            "Failed to extract one of the job postings\n",
            "Failed to extract one of the job postings\n",
            "Failed to extract one of the job postings\n",
            "Failed to extract one of the job postings\n",
            "Failed to extract one of the job postings\n",
            "Failed to extract one of the job postings\n",
            "Failed to extract one of the job postings\n",
            "Failed to extract one of the job postings\n",
            "Failed to extract one of the job postings\n"
          ]
        },
        {
          "output_type": "stream",
          "name": "stderr",
          "text": [
            "/usr/local/lib/python3.10/dist-packages/urllib3/connectionpool.py:1045: InsecureRequestWarning: Unverified HTTPS request is being made to host 'timesascent.com'. Adding certificate verification is strongly advised. See: https://urllib3.readthedocs.io/en/1.26.x/advanced-usage.html#ssl-warnings\n",
            "  warnings.warn(\n",
            "/usr/local/lib/python3.10/dist-packages/urllib3/connectionpool.py:1045: InsecureRequestWarning: Unverified HTTPS request is being made to host 'timesascent.com'. Adding certificate verification is strongly advised. See: https://urllib3.readthedocs.io/en/1.26.x/advanced-usage.html#ssl-warnings\n",
            "  warnings.warn(\n"
          ]
        },
        {
          "output_type": "stream",
          "name": "stdout",
          "text": [
            "Failed to extract one of the job postings\n",
            "Failed to extract one of the job postings\n",
            "Failed to extract one of the job postings\n",
            "Failed to extract one of the job postings\n",
            "Failed to extract one of the job postings\n",
            "Failed to extract one of the job postings\n",
            "Failed to extract one of the job postings\n",
            "Failed to extract one of the job postings\n",
            "Failed to extract one of the job postings\n",
            "Failed to extract one of the job postings\n",
            "Failed to extract one of the job postings\n",
            "Failed to extract one of the job postings\n",
            "Failed to extract one of the job postings\n",
            "Failed to extract one of the job postings\n",
            "Failed to extract one of the job postings\n",
            "Failed to extract one of the job postings\n",
            "Failed to extract one of the job postings\n",
            "Failed to extract one of the job postings\n",
            "Failed to extract one of the job postings\n",
            "Failed to extract one of the job postings\n",
            "Failed to extract one of the job postings\n",
            "Failed to extract one of the job postings\n",
            "Failed to extract one of the job postings\n",
            "Failed to extract one of the job postings\n",
            "Failed to extract one of the job postings\n",
            "Failed to extract one of the job postings\n",
            "Failed to extract one of the job postings\n",
            "Failed to extract one of the job postings\n"
          ]
        },
        {
          "output_type": "stream",
          "name": "stderr",
          "text": [
            "/usr/local/lib/python3.10/dist-packages/urllib3/connectionpool.py:1045: InsecureRequestWarning: Unverified HTTPS request is being made to host 'timesascent.com'. Adding certificate verification is strongly advised. See: https://urllib3.readthedocs.io/en/1.26.x/advanced-usage.html#ssl-warnings\n",
            "  warnings.warn(\n",
            "/usr/local/lib/python3.10/dist-packages/urllib3/connectionpool.py:1045: InsecureRequestWarning: Unverified HTTPS request is being made to host 'timesascent.com'. Adding certificate verification is strongly advised. See: https://urllib3.readthedocs.io/en/1.26.x/advanced-usage.html#ssl-warnings\n",
            "  warnings.warn(\n"
          ]
        },
        {
          "output_type": "stream",
          "name": "stdout",
          "text": [
            "Failed to extract one of the job postings\n",
            "Failed to extract one of the job postings\n",
            "Failed to extract one of the job postings\n",
            "Failed to extract one of the job postings\n",
            "Failed to extract one of the job postings\n",
            "Failed to extract one of the job postings\n",
            "Failed to extract one of the job postings\n",
            "Failed to extract one of the job postings\n",
            "Failed to extract one of the job postings\n",
            "Failed to extract one of the job postings\n",
            "Failed to extract one of the job postings\n",
            "Failed to extract one of the job postings\n",
            "Failed to extract one of the job postings\n",
            "Failed to extract one of the job postings\n",
            "Failed to extract one of the job postings\n",
            "Failed to extract one of the job postings\n",
            "Failed to extract one of the job postings\n",
            "Failed to extract one of the job postings\n",
            "Failed to extract one of the job postings\n",
            "Failed to extract one of the job postings\n",
            "Failed to extract one of the job postings\n",
            "Failed to extract one of the job postings\n",
            "Failed to extract one of the job postings\n",
            "Failed to extract one of the job postings\n",
            "Failed to extract one of the job postings\n",
            "Failed to extract one of the job postings\n",
            "Failed to extract one of the job postings\n",
            "Failed to extract one of the job postings\n"
          ]
        },
        {
          "output_type": "stream",
          "name": "stderr",
          "text": [
            "/usr/local/lib/python3.10/dist-packages/urllib3/connectionpool.py:1045: InsecureRequestWarning: Unverified HTTPS request is being made to host 'timesascent.com'. Adding certificate verification is strongly advised. See: https://urllib3.readthedocs.io/en/1.26.x/advanced-usage.html#ssl-warnings\n",
            "  warnings.warn(\n",
            "/usr/local/lib/python3.10/dist-packages/urllib3/connectionpool.py:1045: InsecureRequestWarning: Unverified HTTPS request is being made to host 'timesascent.com'. Adding certificate verification is strongly advised. See: https://urllib3.readthedocs.io/en/1.26.x/advanced-usage.html#ssl-warnings\n",
            "  warnings.warn(\n"
          ]
        },
        {
          "output_type": "stream",
          "name": "stdout",
          "text": [
            "Failed to extract one of the job postings\n",
            "Failed to extract one of the job postings\n",
            "Failed to extract one of the job postings\n",
            "Failed to extract one of the job postings\n",
            "Failed to extract one of the job postings\n",
            "Failed to extract one of the job postings\n",
            "Failed to extract one of the job postings\n",
            "Failed to extract one of the job postings\n",
            "Failed to extract one of the job postings\n",
            "Failed to extract one of the job postings\n",
            "Failed to extract one of the job postings\n",
            "Failed to extract one of the job postings\n",
            "Failed to extract one of the job postings\n",
            "Failed to extract one of the job postings\n",
            "Failed to extract one of the job postings\n",
            "Failed to extract one of the job postings\n",
            "Failed to extract one of the job postings\n",
            "Failed to extract one of the job postings\n",
            "Failed to extract one of the job postings\n",
            "Failed to extract one of the job postings\n",
            "Failed to extract one of the job postings\n",
            "Failed to extract one of the job postings\n",
            "Failed to extract one of the job postings\n",
            "Failed to extract one of the job postings\n",
            "Failed to extract one of the job postings\n",
            "Failed to extract one of the job postings\n",
            "Failed to extract one of the job postings\n",
            "Failed to extract one of the job postings\n"
          ]
        },
        {
          "output_type": "stream",
          "name": "stderr",
          "text": [
            "/usr/local/lib/python3.10/dist-packages/urllib3/connectionpool.py:1045: InsecureRequestWarning: Unverified HTTPS request is being made to host 'timesascent.com'. Adding certificate verification is strongly advised. See: https://urllib3.readthedocs.io/en/1.26.x/advanced-usage.html#ssl-warnings\n",
            "  warnings.warn(\n",
            "/usr/local/lib/python3.10/dist-packages/urllib3/connectionpool.py:1045: InsecureRequestWarning: Unverified HTTPS request is being made to host 'timesascent.com'. Adding certificate verification is strongly advised. See: https://urllib3.readthedocs.io/en/1.26.x/advanced-usage.html#ssl-warnings\n",
            "  warnings.warn(\n"
          ]
        },
        {
          "output_type": "stream",
          "name": "stdout",
          "text": [
            "Failed to extract one of the job postings\n",
            "Failed to extract one of the job postings\n",
            "Failed to extract one of the job postings\n",
            "Failed to extract one of the job postings\n",
            "Failed to extract one of the job postings\n",
            "Failed to extract one of the job postings\n",
            "Failed to extract one of the job postings\n",
            "Failed to extract one of the job postings\n",
            "Failed to extract one of the job postings\n",
            "Failed to extract one of the job postings\n",
            "Failed to extract one of the job postings\n",
            "Failed to extract one of the job postings\n",
            "Failed to extract one of the job postings\n",
            "Failed to extract one of the job postings\n",
            "Failed to extract one of the job postings\n",
            "Failed to extract one of the job postings\n",
            "Failed to extract one of the job postings\n",
            "Failed to extract one of the job postings\n",
            "Failed to extract one of the job postings\n",
            "Failed to extract one of the job postings\n",
            "Failed to extract one of the job postings\n",
            "Failed to extract one of the job postings\n",
            "Failed to extract one of the job postings\n",
            "Failed to extract one of the job postings\n",
            "Failed to extract one of the job postings\n",
            "Failed to extract one of the job postings\n",
            "Failed to extract one of the job postings\n",
            "Failed to extract one of the job postings\n"
          ]
        },
        {
          "output_type": "stream",
          "name": "stderr",
          "text": [
            "/usr/local/lib/python3.10/dist-packages/urllib3/connectionpool.py:1045: InsecureRequestWarning: Unverified HTTPS request is being made to host 'timesascent.com'. Adding certificate verification is strongly advised. See: https://urllib3.readthedocs.io/en/1.26.x/advanced-usage.html#ssl-warnings\n",
            "  warnings.warn(\n",
            "/usr/local/lib/python3.10/dist-packages/urllib3/connectionpool.py:1045: InsecureRequestWarning: Unverified HTTPS request is being made to host 'timesascent.com'. Adding certificate verification is strongly advised. See: https://urllib3.readthedocs.io/en/1.26.x/advanced-usage.html#ssl-warnings\n",
            "  warnings.warn(\n"
          ]
        },
        {
          "output_type": "stream",
          "name": "stdout",
          "text": [
            "Failed to extract one of the job postings\n",
            "Failed to extract one of the job postings\n",
            "Failed to extract one of the job postings\n",
            "Failed to extract one of the job postings\n",
            "Failed to extract one of the job postings\n",
            "Failed to extract one of the job postings\n",
            "Failed to extract one of the job postings\n",
            "Failed to extract one of the job postings\n",
            "Failed to extract one of the job postings\n",
            "Failed to extract one of the job postings\n",
            "Failed to extract one of the job postings\n",
            "Failed to extract one of the job postings\n",
            "Failed to extract one of the job postings\n",
            "Failed to extract one of the job postings\n",
            "Failed to extract one of the job postings\n",
            "Failed to extract one of the job postings\n",
            "Failed to extract one of the job postings\n",
            "Failed to extract one of the job postings\n",
            "Failed to extract one of the job postings\n",
            "Failed to extract one of the job postings\n",
            "Failed to extract one of the job postings\n",
            "Failed to extract one of the job postings\n",
            "Failed to extract one of the job postings\n",
            "Failed to extract one of the job postings\n",
            "Failed to extract one of the job postings\n",
            "Failed to extract one of the job postings\n",
            "Failed to extract one of the job postings\n",
            "Failed to extract one of the job postings\n"
          ]
        },
        {
          "output_type": "stream",
          "name": "stderr",
          "text": [
            "/usr/local/lib/python3.10/dist-packages/urllib3/connectionpool.py:1045: InsecureRequestWarning: Unverified HTTPS request is being made to host 'timesascent.com'. Adding certificate verification is strongly advised. See: https://urllib3.readthedocs.io/en/1.26.x/advanced-usage.html#ssl-warnings\n",
            "  warnings.warn(\n",
            "/usr/local/lib/python3.10/dist-packages/urllib3/connectionpool.py:1045: InsecureRequestWarning: Unverified HTTPS request is being made to host 'timesascent.com'. Adding certificate verification is strongly advised. See: https://urllib3.readthedocs.io/en/1.26.x/advanced-usage.html#ssl-warnings\n",
            "  warnings.warn(\n"
          ]
        },
        {
          "output_type": "stream",
          "name": "stdout",
          "text": [
            "Failed to extract one of the job postings\n",
            "Failed to extract one of the job postings\n",
            "Failed to extract one of the job postings\n",
            "Failed to extract one of the job postings\n",
            "Failed to extract one of the job postings\n",
            "Failed to extract one of the job postings\n",
            "Failed to extract one of the job postings\n",
            "Failed to extract one of the job postings\n",
            "Failed to extract one of the job postings\n",
            "Failed to extract one of the job postings\n",
            "Failed to extract one of the job postings\n",
            "Failed to extract one of the job postings\n",
            "Failed to extract one of the job postings\n",
            "Failed to extract one of the job postings\n",
            "Failed to extract one of the job postings\n",
            "Failed to extract one of the job postings\n",
            "Failed to extract one of the job postings\n",
            "Failed to extract one of the job postings\n",
            "Failed to extract one of the job postings\n",
            "Failed to extract one of the job postings\n",
            "Failed to extract one of the job postings\n",
            "Failed to extract one of the job postings\n",
            "Failed to extract one of the job postings\n",
            "Failed to extract one of the job postings\n",
            "Failed to extract one of the job postings\n",
            "Failed to extract one of the job postings\n",
            "Failed to extract one of the job postings\n",
            "Failed to extract one of the job postings\n"
          ]
        },
        {
          "output_type": "stream",
          "name": "stderr",
          "text": [
            "/usr/local/lib/python3.10/dist-packages/urllib3/connectionpool.py:1045: InsecureRequestWarning: Unverified HTTPS request is being made to host 'timesascent.com'. Adding certificate verification is strongly advised. See: https://urllib3.readthedocs.io/en/1.26.x/advanced-usage.html#ssl-warnings\n",
            "  warnings.warn(\n",
            "/usr/local/lib/python3.10/dist-packages/urllib3/connectionpool.py:1045: InsecureRequestWarning: Unverified HTTPS request is being made to host 'timesascent.com'. Adding certificate verification is strongly advised. See: https://urllib3.readthedocs.io/en/1.26.x/advanced-usage.html#ssl-warnings\n",
            "  warnings.warn(\n"
          ]
        },
        {
          "output_type": "stream",
          "name": "stdout",
          "text": [
            "Failed to extract one of the job postings\n",
            "Failed to extract one of the job postings\n",
            "Failed to extract one of the job postings\n",
            "Failed to extract one of the job postings\n",
            "Failed to extract one of the job postings\n",
            "Failed to extract one of the job postings\n",
            "Failed to extract one of the job postings\n",
            "Failed to extract one of the job postings\n",
            "Failed to extract one of the job postings\n",
            "Failed to extract one of the job postings\n",
            "Failed to extract one of the job postings\n",
            "Failed to extract one of the job postings\n",
            "Failed to extract one of the job postings\n",
            "Failed to extract one of the job postings\n",
            "Failed to extract one of the job postings\n",
            "Failed to extract one of the job postings\n",
            "Failed to extract one of the job postings\n",
            "Failed to extract one of the job postings\n",
            "Failed to extract one of the job postings\n",
            "Failed to extract one of the job postings\n",
            "Failed to extract one of the job postings\n",
            "Failed to extract one of the job postings\n",
            "Failed to extract one of the job postings\n",
            "Failed to extract one of the job postings\n",
            "Failed to extract one of the job postings\n",
            "Failed to extract one of the job postings\n",
            "Failed to extract one of the job postings\n",
            "Failed to extract one of the job postings\n"
          ]
        },
        {
          "output_type": "stream",
          "name": "stderr",
          "text": [
            "/usr/local/lib/python3.10/dist-packages/urllib3/connectionpool.py:1045: InsecureRequestWarning: Unverified HTTPS request is being made to host 'timesascent.com'. Adding certificate verification is strongly advised. See: https://urllib3.readthedocs.io/en/1.26.x/advanced-usage.html#ssl-warnings\n",
            "  warnings.warn(\n",
            "/usr/local/lib/python3.10/dist-packages/urllib3/connectionpool.py:1045: InsecureRequestWarning: Unverified HTTPS request is being made to host 'timesascent.com'. Adding certificate verification is strongly advised. See: https://urllib3.readthedocs.io/en/1.26.x/advanced-usage.html#ssl-warnings\n",
            "  warnings.warn(\n"
          ]
        },
        {
          "output_type": "stream",
          "name": "stdout",
          "text": [
            "Failed to extract one of the job postings\n",
            "Failed to extract one of the job postings\n",
            "Failed to extract one of the job postings\n",
            "Failed to extract one of the job postings\n",
            "Failed to extract one of the job postings\n",
            "Failed to extract one of the job postings\n",
            "Failed to extract one of the job postings\n",
            "Failed to extract one of the job postings\n",
            "Failed to extract one of the job postings\n",
            "Failed to extract one of the job postings\n",
            "Failed to extract one of the job postings\n",
            "Failed to extract one of the job postings\n",
            "Failed to extract one of the job postings\n",
            "Failed to extract one of the job postings\n",
            "Failed to extract one of the job postings\n",
            "Failed to extract one of the job postings\n",
            "Failed to extract one of the job postings\n",
            "Failed to extract one of the job postings\n",
            "Failed to extract one of the job postings\n",
            "Failed to extract one of the job postings\n",
            "Failed to extract one of the job postings\n",
            "Failed to extract one of the job postings\n",
            "Failed to extract one of the job postings\n",
            "Failed to extract one of the job postings\n",
            "Failed to extract one of the job postings\n",
            "Failed to extract one of the job postings\n",
            "Failed to extract one of the job postings\n",
            "Failed to extract one of the job postings\n"
          ]
        },
        {
          "output_type": "stream",
          "name": "stderr",
          "text": [
            "/usr/local/lib/python3.10/dist-packages/urllib3/connectionpool.py:1045: InsecureRequestWarning: Unverified HTTPS request is being made to host 'timesascent.com'. Adding certificate verification is strongly advised. See: https://urllib3.readthedocs.io/en/1.26.x/advanced-usage.html#ssl-warnings\n",
            "  warnings.warn(\n",
            "/usr/local/lib/python3.10/dist-packages/urllib3/connectionpool.py:1045: InsecureRequestWarning: Unverified HTTPS request is being made to host 'timesascent.com'. Adding certificate verification is strongly advised. See: https://urllib3.readthedocs.io/en/1.26.x/advanced-usage.html#ssl-warnings\n",
            "  warnings.warn(\n"
          ]
        },
        {
          "output_type": "stream",
          "name": "stdout",
          "text": [
            "Failed to extract one of the job postings\n",
            "Failed to extract one of the job postings\n",
            "Failed to extract one of the job postings\n",
            "Failed to extract one of the job postings\n",
            "Failed to extract one of the job postings\n",
            "Failed to extract one of the job postings\n",
            "Failed to extract one of the job postings\n",
            "Failed to extract one of the job postings\n",
            "Failed to extract one of the job postings\n",
            "Failed to extract one of the job postings\n",
            "Failed to extract one of the job postings\n",
            "Failed to extract one of the job postings\n",
            "Failed to extract one of the job postings\n",
            "Failed to extract one of the job postings\n",
            "Failed to extract one of the job postings\n",
            "Failed to extract one of the job postings\n",
            "Failed to extract one of the job postings\n",
            "Failed to extract one of the job postings\n",
            "Failed to extract one of the job postings\n",
            "Failed to extract one of the job postings\n",
            "Failed to extract one of the job postings\n",
            "Failed to extract one of the job postings\n",
            "Failed to extract one of the job postings\n",
            "Failed to extract one of the job postings\n",
            "Failed to extract one of the job postings\n",
            "Failed to extract one of the job postings\n",
            "Failed to extract one of the job postings\n",
            "Failed to extract one of the job postings\n"
          ]
        },
        {
          "output_type": "stream",
          "name": "stderr",
          "text": [
            "/usr/local/lib/python3.10/dist-packages/urllib3/connectionpool.py:1045: InsecureRequestWarning: Unverified HTTPS request is being made to host 'timesascent.com'. Adding certificate verification is strongly advised. See: https://urllib3.readthedocs.io/en/1.26.x/advanced-usage.html#ssl-warnings\n",
            "  warnings.warn(\n",
            "/usr/local/lib/python3.10/dist-packages/urllib3/connectionpool.py:1045: InsecureRequestWarning: Unverified HTTPS request is being made to host 'timesascent.com'. Adding certificate verification is strongly advised. See: https://urllib3.readthedocs.io/en/1.26.x/advanced-usage.html#ssl-warnings\n",
            "  warnings.warn(\n"
          ]
        },
        {
          "output_type": "stream",
          "name": "stdout",
          "text": [
            "Failed to extract one of the job postings\n",
            "Failed to extract one of the job postings\n",
            "Failed to extract one of the job postings\n",
            "Failed to extract one of the job postings\n",
            "Failed to extract one of the job postings\n",
            "Failed to extract one of the job postings\n",
            "Failed to extract one of the job postings\n",
            "Failed to extract one of the job postings\n",
            "Failed to extract one of the job postings\n",
            "Failed to extract one of the job postings\n",
            "Failed to extract one of the job postings\n",
            "Failed to extract one of the job postings\n",
            "Failed to extract one of the job postings\n",
            "Failed to extract one of the job postings\n",
            "Failed to extract one of the job postings\n",
            "Failed to extract one of the job postings\n",
            "Failed to extract one of the job postings\n",
            "Failed to extract one of the job postings\n",
            "Failed to extract one of the job postings\n",
            "Failed to extract one of the job postings\n",
            "Failed to extract one of the job postings\n",
            "Failed to extract one of the job postings\n",
            "Failed to extract one of the job postings\n",
            "Failed to extract one of the job postings\n",
            "Failed to extract one of the job postings\n",
            "Failed to extract one of the job postings\n",
            "Failed to extract one of the job postings\n",
            "Failed to extract one of the job postings\n"
          ]
        },
        {
          "output_type": "stream",
          "name": "stderr",
          "text": [
            "/usr/local/lib/python3.10/dist-packages/urllib3/connectionpool.py:1045: InsecureRequestWarning: Unverified HTTPS request is being made to host 'timesascent.com'. Adding certificate verification is strongly advised. See: https://urllib3.readthedocs.io/en/1.26.x/advanced-usage.html#ssl-warnings\n",
            "  warnings.warn(\n",
            "/usr/local/lib/python3.10/dist-packages/urllib3/connectionpool.py:1045: InsecureRequestWarning: Unverified HTTPS request is being made to host 'timesascent.com'. Adding certificate verification is strongly advised. See: https://urllib3.readthedocs.io/en/1.26.x/advanced-usage.html#ssl-warnings\n",
            "  warnings.warn(\n"
          ]
        },
        {
          "output_type": "stream",
          "name": "stdout",
          "text": [
            "Failed to extract one of the job postings\n",
            "Failed to extract one of the job postings\n",
            "Failed to extract one of the job postings\n",
            "Failed to extract one of the job postings\n",
            "Failed to extract one of the job postings\n",
            "Failed to extract one of the job postings\n",
            "Failed to extract one of the job postings\n",
            "Failed to extract one of the job postings\n",
            "Failed to extract one of the job postings\n",
            "Failed to extract one of the job postings\n",
            "Failed to extract one of the job postings\n",
            "Failed to extract one of the job postings\n",
            "Failed to extract one of the job postings\n",
            "Failed to extract one of the job postings\n",
            "Failed to extract one of the job postings\n",
            "Failed to extract one of the job postings\n",
            "Failed to extract one of the job postings\n",
            "Failed to extract one of the job postings\n",
            "Failed to extract one of the job postings\n",
            "Failed to extract one of the job postings\n",
            "Failed to extract one of the job postings\n",
            "Failed to extract one of the job postings\n",
            "Failed to extract one of the job postings\n",
            "Failed to extract one of the job postings\n",
            "Failed to extract one of the job postings\n",
            "Failed to extract one of the job postings\n",
            "Failed to extract one of the job postings\n",
            "Failed to extract one of the job postings\n"
          ]
        },
        {
          "output_type": "stream",
          "name": "stderr",
          "text": [
            "/usr/local/lib/python3.10/dist-packages/urllib3/connectionpool.py:1045: InsecureRequestWarning: Unverified HTTPS request is being made to host 'timesascent.com'. Adding certificate verification is strongly advised. See: https://urllib3.readthedocs.io/en/1.26.x/advanced-usage.html#ssl-warnings\n",
            "  warnings.warn(\n",
            "/usr/local/lib/python3.10/dist-packages/urllib3/connectionpool.py:1045: InsecureRequestWarning: Unverified HTTPS request is being made to host 'timesascent.com'. Adding certificate verification is strongly advised. See: https://urllib3.readthedocs.io/en/1.26.x/advanced-usage.html#ssl-warnings\n",
            "  warnings.warn(\n"
          ]
        },
        {
          "output_type": "stream",
          "name": "stdout",
          "text": [
            "Failed to extract one of the job postings\n",
            "Failed to extract one of the job postings\n",
            "Failed to extract one of the job postings\n",
            "Failed to extract one of the job postings\n",
            "Failed to extract one of the job postings\n",
            "Failed to extract one of the job postings\n",
            "Failed to extract one of the job postings\n",
            "Failed to extract one of the job postings\n",
            "Failed to extract one of the job postings\n",
            "Failed to extract one of the job postings\n",
            "Failed to extract one of the job postings\n",
            "Failed to extract one of the job postings\n",
            "Failed to extract one of the job postings\n",
            "Failed to extract one of the job postings\n",
            "Failed to extract one of the job postings\n",
            "Failed to extract one of the job postings\n",
            "Failed to extract one of the job postings\n",
            "Failed to extract one of the job postings\n",
            "Failed to extract one of the job postings\n",
            "Failed to extract one of the job postings\n",
            "Failed to extract one of the job postings\n",
            "Failed to extract one of the job postings\n",
            "Failed to extract one of the job postings\n",
            "Failed to extract one of the job postings\n",
            "Failed to extract one of the job postings\n",
            "Failed to extract one of the job postings\n",
            "Failed to extract one of the job postings\n",
            "Failed to extract one of the job postings\n"
          ]
        },
        {
          "output_type": "stream",
          "name": "stderr",
          "text": [
            "/usr/local/lib/python3.10/dist-packages/urllib3/connectionpool.py:1045: InsecureRequestWarning: Unverified HTTPS request is being made to host 'timesascent.com'. Adding certificate verification is strongly advised. See: https://urllib3.readthedocs.io/en/1.26.x/advanced-usage.html#ssl-warnings\n",
            "  warnings.warn(\n",
            "/usr/local/lib/python3.10/dist-packages/urllib3/connectionpool.py:1045: InsecureRequestWarning: Unverified HTTPS request is being made to host 'timesascent.com'. Adding certificate verification is strongly advised. See: https://urllib3.readthedocs.io/en/1.26.x/advanced-usage.html#ssl-warnings\n",
            "  warnings.warn(\n"
          ]
        },
        {
          "output_type": "stream",
          "name": "stdout",
          "text": [
            "Failed to extract one of the job postings\n",
            "Failed to extract one of the job postings\n",
            "Failed to extract one of the job postings\n",
            "Failed to extract one of the job postings\n",
            "Failed to extract one of the job postings\n",
            "Failed to extract one of the job postings\n",
            "Failed to extract one of the job postings\n",
            "Failed to extract one of the job postings\n",
            "Failed to extract one of the job postings\n",
            "Failed to extract one of the job postings\n",
            "Failed to extract one of the job postings\n",
            "Failed to extract one of the job postings\n",
            "Failed to extract one of the job postings\n",
            "Failed to extract one of the job postings\n",
            "Failed to extract one of the job postings\n",
            "Failed to extract one of the job postings\n",
            "Failed to extract one of the job postings\n",
            "Failed to extract one of the job postings\n",
            "Failed to extract one of the job postings\n",
            "Failed to extract one of the job postings\n",
            "Failed to extract one of the job postings\n",
            "Failed to extract one of the job postings\n",
            "Failed to extract one of the job postings\n",
            "Failed to extract one of the job postings\n",
            "Failed to extract one of the job postings\n",
            "Failed to extract one of the job postings\n",
            "Failed to extract one of the job postings\n",
            "Failed to extract one of the job postings\n"
          ]
        },
        {
          "output_type": "stream",
          "name": "stderr",
          "text": [
            "/usr/local/lib/python3.10/dist-packages/urllib3/connectionpool.py:1045: InsecureRequestWarning: Unverified HTTPS request is being made to host 'timesascent.com'. Adding certificate verification is strongly advised. See: https://urllib3.readthedocs.io/en/1.26.x/advanced-usage.html#ssl-warnings\n",
            "  warnings.warn(\n",
            "/usr/local/lib/python3.10/dist-packages/urllib3/connectionpool.py:1045: InsecureRequestWarning: Unverified HTTPS request is being made to host 'timesascent.com'. Adding certificate verification is strongly advised. See: https://urllib3.readthedocs.io/en/1.26.x/advanced-usage.html#ssl-warnings\n",
            "  warnings.warn(\n"
          ]
        },
        {
          "output_type": "stream",
          "name": "stdout",
          "text": [
            "Failed to extract one of the job postings\n",
            "Failed to extract one of the job postings\n",
            "Failed to extract one of the job postings\n",
            "Failed to extract one of the job postings\n",
            "Failed to extract one of the job postings\n",
            "Failed to extract one of the job postings\n",
            "Failed to extract one of the job postings\n",
            "Failed to extract one of the job postings\n",
            "Failed to extract one of the job postings\n",
            "Failed to extract one of the job postings\n",
            "Failed to extract one of the job postings\n",
            "Failed to extract one of the job postings\n",
            "Failed to extract one of the job postings\n",
            "Failed to extract one of the job postings\n",
            "Failed to extract one of the job postings\n",
            "Failed to extract one of the job postings\n",
            "Failed to extract one of the job postings\n",
            "Failed to extract one of the job postings\n",
            "Failed to extract one of the job postings\n",
            "Failed to extract one of the job postings\n",
            "Failed to extract one of the job postings\n",
            "Failed to extract one of the job postings\n",
            "Failed to extract one of the job postings\n",
            "Failed to extract one of the job postings\n",
            "Failed to extract one of the job postings\n",
            "Failed to extract one of the job postings\n",
            "Failed to extract one of the job postings\n",
            "Failed to extract one of the job postings\n"
          ]
        },
        {
          "output_type": "stream",
          "name": "stderr",
          "text": [
            "/usr/local/lib/python3.10/dist-packages/urllib3/connectionpool.py:1045: InsecureRequestWarning: Unverified HTTPS request is being made to host 'timesascent.com'. Adding certificate verification is strongly advised. See: https://urllib3.readthedocs.io/en/1.26.x/advanced-usage.html#ssl-warnings\n",
            "  warnings.warn(\n",
            "/usr/local/lib/python3.10/dist-packages/urllib3/connectionpool.py:1045: InsecureRequestWarning: Unverified HTTPS request is being made to host 'timesascent.com'. Adding certificate verification is strongly advised. See: https://urllib3.readthedocs.io/en/1.26.x/advanced-usage.html#ssl-warnings\n",
            "  warnings.warn(\n"
          ]
        },
        {
          "output_type": "stream",
          "name": "stdout",
          "text": [
            "Failed to extract one of the job postings\n",
            "Failed to extract one of the job postings\n",
            "Failed to extract one of the job postings\n",
            "Failed to extract one of the job postings\n",
            "Failed to extract one of the job postings\n",
            "Failed to extract one of the job postings\n",
            "Failed to extract one of the job postings\n",
            "Failed to extract one of the job postings\n",
            "Failed to extract one of the job postings\n",
            "Failed to extract one of the job postings\n",
            "Failed to extract one of the job postings\n",
            "Failed to extract one of the job postings\n",
            "Failed to extract one of the job postings\n",
            "Failed to extract one of the job postings\n",
            "Failed to extract one of the job postings\n",
            "Failed to extract one of the job postings\n",
            "Failed to extract one of the job postings\n",
            "Failed to extract one of the job postings\n",
            "Failed to extract one of the job postings\n",
            "Failed to extract one of the job postings\n",
            "Failed to extract one of the job postings\n",
            "Failed to extract one of the job postings\n",
            "Failed to extract one of the job postings\n",
            "Failed to extract one of the job postings\n",
            "Failed to extract one of the job postings\n",
            "Failed to extract one of the job postings\n",
            "Failed to extract one of the job postings\n",
            "Failed to extract one of the job postings\n"
          ]
        },
        {
          "output_type": "stream",
          "name": "stderr",
          "text": [
            "/usr/local/lib/python3.10/dist-packages/urllib3/connectionpool.py:1045: InsecureRequestWarning: Unverified HTTPS request is being made to host 'timesascent.com'. Adding certificate verification is strongly advised. See: https://urllib3.readthedocs.io/en/1.26.x/advanced-usage.html#ssl-warnings\n",
            "  warnings.warn(\n",
            "/usr/local/lib/python3.10/dist-packages/urllib3/connectionpool.py:1045: InsecureRequestWarning: Unverified HTTPS request is being made to host 'timesascent.com'. Adding certificate verification is strongly advised. See: https://urllib3.readthedocs.io/en/1.26.x/advanced-usage.html#ssl-warnings\n",
            "  warnings.warn(\n"
          ]
        },
        {
          "output_type": "stream",
          "name": "stdout",
          "text": [
            "Failed to extract one of the job postings\n",
            "Failed to extract one of the job postings\n",
            "Failed to extract one of the job postings\n",
            "Failed to extract one of the job postings\n",
            "Failed to extract one of the job postings\n",
            "Failed to extract one of the job postings\n",
            "Failed to extract one of the job postings\n",
            "Failed to extract one of the job postings\n",
            "Failed to extract one of the job postings\n",
            "Failed to extract one of the job postings\n",
            "Failed to extract one of the job postings\n",
            "Failed to extract one of the job postings\n",
            "Failed to extract one of the job postings\n",
            "Failed to extract one of the job postings\n",
            "Failed to extract one of the job postings\n",
            "Failed to extract one of the job postings\n",
            "Failed to extract one of the job postings\n",
            "Failed to extract one of the job postings\n",
            "Failed to extract one of the job postings\n",
            "Failed to extract one of the job postings\n",
            "Failed to extract one of the job postings\n",
            "Failed to extract one of the job postings\n",
            "Failed to extract one of the job postings\n",
            "Failed to extract one of the job postings\n",
            "Failed to extract one of the job postings\n",
            "Failed to extract one of the job postings\n",
            "Failed to extract one of the job postings\n",
            "Failed to extract one of the job postings\n"
          ]
        },
        {
          "output_type": "stream",
          "name": "stderr",
          "text": [
            "/usr/local/lib/python3.10/dist-packages/urllib3/connectionpool.py:1045: InsecureRequestWarning: Unverified HTTPS request is being made to host 'timesascent.com'. Adding certificate verification is strongly advised. See: https://urllib3.readthedocs.io/en/1.26.x/advanced-usage.html#ssl-warnings\n",
            "  warnings.warn(\n",
            "/usr/local/lib/python3.10/dist-packages/urllib3/connectionpool.py:1045: InsecureRequestWarning: Unverified HTTPS request is being made to host 'timesascent.com'. Adding certificate verification is strongly advised. See: https://urllib3.readthedocs.io/en/1.26.x/advanced-usage.html#ssl-warnings\n",
            "  warnings.warn(\n"
          ]
        },
        {
          "output_type": "stream",
          "name": "stdout",
          "text": [
            "Failed to extract one of the job postings\n",
            "Failed to extract one of the job postings\n",
            "Failed to extract one of the job postings\n",
            "Failed to extract one of the job postings\n",
            "Failed to extract one of the job postings\n",
            "Failed to extract one of the job postings\n",
            "Failed to extract one of the job postings\n",
            "Failed to extract one of the job postings\n",
            "Failed to extract one of the job postings\n",
            "Failed to extract one of the job postings\n",
            "Failed to extract one of the job postings\n",
            "Failed to extract one of the job postings\n",
            "Failed to extract one of the job postings\n",
            "Failed to extract one of the job postings\n",
            "Failed to extract one of the job postings\n",
            "Failed to extract one of the job postings\n",
            "Failed to extract one of the job postings\n",
            "Failed to extract one of the job postings\n",
            "Failed to extract one of the job postings\n",
            "Failed to extract one of the job postings\n",
            "Failed to extract one of the job postings\n",
            "Failed to extract one of the job postings\n",
            "Failed to extract one of the job postings\n",
            "Failed to extract one of the job postings\n",
            "Failed to extract one of the job postings\n",
            "Failed to extract one of the job postings\n",
            "Failed to extract one of the job postings\n",
            "Failed to extract one of the job postings\n"
          ]
        },
        {
          "output_type": "stream",
          "name": "stderr",
          "text": [
            "/usr/local/lib/python3.10/dist-packages/urllib3/connectionpool.py:1045: InsecureRequestWarning: Unverified HTTPS request is being made to host 'timesascent.com'. Adding certificate verification is strongly advised. See: https://urllib3.readthedocs.io/en/1.26.x/advanced-usage.html#ssl-warnings\n",
            "  warnings.warn(\n",
            "/usr/local/lib/python3.10/dist-packages/urllib3/connectionpool.py:1045: InsecureRequestWarning: Unverified HTTPS request is being made to host 'timesascent.com'. Adding certificate verification is strongly advised. See: https://urllib3.readthedocs.io/en/1.26.x/advanced-usage.html#ssl-warnings\n",
            "  warnings.warn(\n"
          ]
        },
        {
          "output_type": "stream",
          "name": "stdout",
          "text": [
            "Failed to extract one of the job postings\n",
            "Failed to extract one of the job postings\n",
            "Failed to extract one of the job postings\n",
            "Failed to extract one of the job postings\n",
            "Failed to extract one of the job postings\n",
            "Failed to extract one of the job postings\n",
            "Failed to extract one of the job postings\n",
            "Failed to extract one of the job postings\n",
            "Failed to extract one of the job postings\n",
            "Failed to extract one of the job postings\n",
            "Failed to extract one of the job postings\n",
            "Failed to extract one of the job postings\n",
            "Failed to extract one of the job postings\n",
            "Failed to extract one of the job postings\n",
            "Failed to extract one of the job postings\n",
            "Failed to extract one of the job postings\n",
            "Failed to extract one of the job postings\n",
            "Failed to extract one of the job postings\n",
            "Failed to extract one of the job postings\n",
            "Failed to extract one of the job postings\n",
            "Failed to extract one of the job postings\n",
            "Failed to extract one of the job postings\n",
            "Failed to extract one of the job postings\n",
            "Failed to extract one of the job postings\n",
            "Failed to extract one of the job postings\n",
            "Failed to extract one of the job postings\n",
            "Failed to extract one of the job postings\n",
            "Failed to extract one of the job postings\n"
          ]
        },
        {
          "output_type": "stream",
          "name": "stderr",
          "text": [
            "/usr/local/lib/python3.10/dist-packages/urllib3/connectionpool.py:1045: InsecureRequestWarning: Unverified HTTPS request is being made to host 'timesascent.com'. Adding certificate verification is strongly advised. See: https://urllib3.readthedocs.io/en/1.26.x/advanced-usage.html#ssl-warnings\n",
            "  warnings.warn(\n",
            "/usr/local/lib/python3.10/dist-packages/urllib3/connectionpool.py:1045: InsecureRequestWarning: Unverified HTTPS request is being made to host 'timesascent.com'. Adding certificate verification is strongly advised. See: https://urllib3.readthedocs.io/en/1.26.x/advanced-usage.html#ssl-warnings\n",
            "  warnings.warn(\n"
          ]
        },
        {
          "output_type": "stream",
          "name": "stdout",
          "text": [
            "Failed to extract one of the job postings\n",
            "Failed to extract one of the job postings\n",
            "Failed to extract one of the job postings\n",
            "Failed to extract one of the job postings\n",
            "Failed to extract one of the job postings\n",
            "Failed to extract one of the job postings\n",
            "Failed to extract one of the job postings\n",
            "Failed to extract one of the job postings\n",
            "Failed to extract one of the job postings\n",
            "Failed to extract one of the job postings\n",
            "Failed to extract one of the job postings\n",
            "Failed to extract one of the job postings\n",
            "Failed to extract one of the job postings\n",
            "Failed to extract one of the job postings\n",
            "Failed to extract one of the job postings\n",
            "Failed to extract one of the job postings\n",
            "Failed to extract one of the job postings\n",
            "Failed to extract one of the job postings\n",
            "Failed to extract one of the job postings\n",
            "Failed to extract one of the job postings\n",
            "Failed to extract one of the job postings\n",
            "Failed to extract one of the job postings\n",
            "Failed to extract one of the job postings\n",
            "Failed to extract one of the job postings\n",
            "Failed to extract one of the job postings\n",
            "Failed to extract one of the job postings\n",
            "Failed to extract one of the job postings\n",
            "Failed to extract one of the job postings\n"
          ]
        },
        {
          "output_type": "stream",
          "name": "stderr",
          "text": [
            "/usr/local/lib/python3.10/dist-packages/urllib3/connectionpool.py:1045: InsecureRequestWarning: Unverified HTTPS request is being made to host 'timesascent.com'. Adding certificate verification is strongly advised. See: https://urllib3.readthedocs.io/en/1.26.x/advanced-usage.html#ssl-warnings\n",
            "  warnings.warn(\n",
            "/usr/local/lib/python3.10/dist-packages/urllib3/connectionpool.py:1045: InsecureRequestWarning: Unverified HTTPS request is being made to host 'timesascent.com'. Adding certificate verification is strongly advised. See: https://urllib3.readthedocs.io/en/1.26.x/advanced-usage.html#ssl-warnings\n",
            "  warnings.warn(\n"
          ]
        },
        {
          "output_type": "stream",
          "name": "stdout",
          "text": [
            "Failed to extract one of the job postings\n",
            "Failed to extract one of the job postings\n",
            "Failed to extract one of the job postings\n",
            "Failed to extract one of the job postings\n",
            "Failed to extract one of the job postings\n",
            "Failed to extract one of the job postings\n",
            "Failed to extract one of the job postings\n",
            "Failed to extract one of the job postings\n",
            "Failed to extract one of the job postings\n",
            "Failed to extract one of the job postings\n",
            "Failed to extract one of the job postings\n",
            "Failed to extract one of the job postings\n",
            "Failed to extract one of the job postings\n",
            "Failed to extract one of the job postings\n",
            "Failed to extract one of the job postings\n",
            "Failed to extract one of the job postings\n",
            "Failed to extract one of the job postings\n",
            "Failed to extract one of the job postings\n",
            "Failed to extract one of the job postings\n",
            "Failed to extract one of the job postings\n",
            "Failed to extract one of the job postings\n",
            "Failed to extract one of the job postings\n",
            "Failed to extract one of the job postings\n",
            "Failed to extract one of the job postings\n",
            "Failed to extract one of the job postings\n",
            "Failed to extract one of the job postings\n",
            "Failed to extract one of the job postings\n",
            "Failed to extract one of the job postings\n"
          ]
        },
        {
          "output_type": "stream",
          "name": "stderr",
          "text": [
            "/usr/local/lib/python3.10/dist-packages/urllib3/connectionpool.py:1045: InsecureRequestWarning: Unverified HTTPS request is being made to host 'timesascent.com'. Adding certificate verification is strongly advised. See: https://urllib3.readthedocs.io/en/1.26.x/advanced-usage.html#ssl-warnings\n",
            "  warnings.warn(\n",
            "/usr/local/lib/python3.10/dist-packages/urllib3/connectionpool.py:1045: InsecureRequestWarning: Unverified HTTPS request is being made to host 'timesascent.com'. Adding certificate verification is strongly advised. See: https://urllib3.readthedocs.io/en/1.26.x/advanced-usage.html#ssl-warnings\n",
            "  warnings.warn(\n"
          ]
        },
        {
          "output_type": "stream",
          "name": "stdout",
          "text": [
            "Failed to extract one of the job postings\n",
            "Failed to extract one of the job postings\n",
            "Failed to extract one of the job postings\n",
            "Failed to extract one of the job postings\n",
            "Failed to extract one of the job postings\n",
            "Failed to extract one of the job postings\n",
            "Failed to extract one of the job postings\n",
            "Failed to extract one of the job postings\n",
            "Failed to extract one of the job postings\n",
            "Failed to extract one of the job postings\n",
            "Failed to extract one of the job postings\n",
            "Failed to extract one of the job postings\n",
            "Failed to extract one of the job postings\n",
            "Failed to extract one of the job postings\n",
            "Failed to extract one of the job postings\n",
            "Failed to extract one of the job postings\n",
            "Failed to extract one of the job postings\n",
            "Failed to extract one of the job postings\n",
            "Failed to extract one of the job postings\n",
            "Failed to extract one of the job postings\n",
            "Failed to extract one of the job postings\n",
            "Failed to extract one of the job postings\n",
            "Failed to extract one of the job postings\n",
            "Failed to extract one of the job postings\n",
            "Failed to extract one of the job postings\n",
            "Failed to extract one of the job postings\n",
            "Failed to extract one of the job postings\n",
            "Failed to extract one of the job postings\n"
          ]
        },
        {
          "output_type": "stream",
          "name": "stderr",
          "text": [
            "/usr/local/lib/python3.10/dist-packages/urllib3/connectionpool.py:1045: InsecureRequestWarning: Unverified HTTPS request is being made to host 'timesascent.com'. Adding certificate verification is strongly advised. See: https://urllib3.readthedocs.io/en/1.26.x/advanced-usage.html#ssl-warnings\n",
            "  warnings.warn(\n",
            "/usr/local/lib/python3.10/dist-packages/urllib3/connectionpool.py:1045: InsecureRequestWarning: Unverified HTTPS request is being made to host 'timesascent.com'. Adding certificate verification is strongly advised. See: https://urllib3.readthedocs.io/en/1.26.x/advanced-usage.html#ssl-warnings\n",
            "  warnings.warn(\n"
          ]
        },
        {
          "output_type": "stream",
          "name": "stdout",
          "text": [
            "Failed to extract one of the job postings\n",
            "Failed to extract one of the job postings\n",
            "Failed to extract one of the job postings\n",
            "Failed to extract one of the job postings\n",
            "Failed to extract one of the job postings\n",
            "Failed to extract one of the job postings\n",
            "Failed to extract one of the job postings\n",
            "Failed to extract one of the job postings\n",
            "Failed to extract one of the job postings\n",
            "Failed to extract one of the job postings\n",
            "Failed to extract one of the job postings\n",
            "Failed to extract one of the job postings\n",
            "Failed to extract one of the job postings\n",
            "Failed to extract one of the job postings\n",
            "Failed to extract one of the job postings\n",
            "Failed to extract one of the job postings\n",
            "Failed to extract one of the job postings\n",
            "Failed to extract one of the job postings\n",
            "Failed to extract one of the job postings\n",
            "Failed to extract one of the job postings\n",
            "Failed to extract one of the job postings\n",
            "Failed to extract one of the job postings\n",
            "Failed to extract one of the job postings\n",
            "Failed to extract one of the job postings\n",
            "Failed to extract one of the job postings\n",
            "Failed to extract one of the job postings\n",
            "Failed to extract one of the job postings\n",
            "Failed to extract one of the job postings\n"
          ]
        },
        {
          "output_type": "stream",
          "name": "stderr",
          "text": [
            "/usr/local/lib/python3.10/dist-packages/urllib3/connectionpool.py:1045: InsecureRequestWarning: Unverified HTTPS request is being made to host 'timesascent.com'. Adding certificate verification is strongly advised. See: https://urllib3.readthedocs.io/en/1.26.x/advanced-usage.html#ssl-warnings\n",
            "  warnings.warn(\n",
            "/usr/local/lib/python3.10/dist-packages/urllib3/connectionpool.py:1045: InsecureRequestWarning: Unverified HTTPS request is being made to host 'timesascent.com'. Adding certificate verification is strongly advised. See: https://urllib3.readthedocs.io/en/1.26.x/advanced-usage.html#ssl-warnings\n",
            "  warnings.warn(\n"
          ]
        },
        {
          "output_type": "stream",
          "name": "stdout",
          "text": [
            "Failed to extract one of the job postings\n",
            "Failed to extract one of the job postings\n",
            "Failed to extract one of the job postings\n",
            "Failed to extract one of the job postings\n",
            "Failed to extract one of the job postings\n",
            "Failed to extract one of the job postings\n",
            "Failed to extract one of the job postings\n",
            "Failed to extract one of the job postings\n",
            "Failed to extract one of the job postings\n",
            "Failed to extract one of the job postings\n",
            "Failed to extract one of the job postings\n",
            "Failed to extract one of the job postings\n",
            "Failed to extract one of the job postings\n",
            "Failed to extract one of the job postings\n",
            "Failed to extract one of the job postings\n",
            "Failed to extract one of the job postings\n",
            "Failed to extract one of the job postings\n",
            "Failed to extract one of the job postings\n",
            "Failed to extract one of the job postings\n",
            "Failed to extract one of the job postings\n",
            "Failed to extract one of the job postings\n",
            "Failed to extract one of the job postings\n",
            "Failed to extract one of the job postings\n",
            "Failed to extract one of the job postings\n",
            "Failed to extract one of the job postings\n",
            "Failed to extract one of the job postings\n",
            "Failed to extract one of the job postings\n",
            "Failed to extract one of the job postings\n"
          ]
        },
        {
          "output_type": "stream",
          "name": "stderr",
          "text": [
            "/usr/local/lib/python3.10/dist-packages/urllib3/connectionpool.py:1045: InsecureRequestWarning: Unverified HTTPS request is being made to host 'timesascent.com'. Adding certificate verification is strongly advised. See: https://urllib3.readthedocs.io/en/1.26.x/advanced-usage.html#ssl-warnings\n",
            "  warnings.warn(\n",
            "/usr/local/lib/python3.10/dist-packages/urllib3/connectionpool.py:1045: InsecureRequestWarning: Unverified HTTPS request is being made to host 'timesascent.com'. Adding certificate verification is strongly advised. See: https://urllib3.readthedocs.io/en/1.26.x/advanced-usage.html#ssl-warnings\n",
            "  warnings.warn(\n"
          ]
        },
        {
          "output_type": "stream",
          "name": "stdout",
          "text": [
            "Failed to extract one of the job postings\n",
            "Failed to extract one of the job postings\n",
            "Failed to extract one of the job postings\n",
            "Failed to extract one of the job postings\n",
            "Failed to extract one of the job postings\n",
            "Failed to extract one of the job postings\n",
            "Failed to extract one of the job postings\n",
            "Failed to extract one of the job postings\n",
            "Failed to extract one of the job postings\n",
            "Failed to extract one of the job postings\n",
            "Failed to extract one of the job postings\n",
            "Failed to extract one of the job postings\n",
            "Failed to extract one of the job postings\n",
            "Failed to extract one of the job postings\n",
            "Failed to extract one of the job postings\n",
            "Failed to extract one of the job postings\n",
            "Failed to extract one of the job postings\n",
            "Failed to extract one of the job postings\n",
            "Failed to extract one of the job postings\n",
            "Failed to extract one of the job postings\n",
            "Failed to extract one of the job postings\n",
            "Failed to extract one of the job postings\n",
            "Failed to extract one of the job postings\n",
            "Failed to extract one of the job postings\n",
            "Failed to extract one of the job postings\n",
            "Failed to extract one of the job postings\n",
            "Failed to extract one of the job postings\n",
            "Failed to extract one of the job postings\n"
          ]
        },
        {
          "output_type": "stream",
          "name": "stderr",
          "text": [
            "/usr/local/lib/python3.10/dist-packages/urllib3/connectionpool.py:1045: InsecureRequestWarning: Unverified HTTPS request is being made to host 'timesascent.com'. Adding certificate verification is strongly advised. See: https://urllib3.readthedocs.io/en/1.26.x/advanced-usage.html#ssl-warnings\n",
            "  warnings.warn(\n",
            "/usr/local/lib/python3.10/dist-packages/urllib3/connectionpool.py:1045: InsecureRequestWarning: Unverified HTTPS request is being made to host 'timesascent.com'. Adding certificate verification is strongly advised. See: https://urllib3.readthedocs.io/en/1.26.x/advanced-usage.html#ssl-warnings\n",
            "  warnings.warn(\n"
          ]
        },
        {
          "output_type": "stream",
          "name": "stdout",
          "text": [
            "Failed to extract one of the job postings\n",
            "Failed to extract one of the job postings\n",
            "Failed to extract one of the job postings\n",
            "Failed to extract one of the job postings\n",
            "Failed to extract one of the job postings\n",
            "Failed to extract one of the job postings\n",
            "Failed to extract one of the job postings\n",
            "Failed to extract one of the job postings\n",
            "Failed to extract one of the job postings\n",
            "Failed to extract one of the job postings\n",
            "Failed to extract one of the job postings\n",
            "Failed to extract one of the job postings\n",
            "Failed to extract one of the job postings\n",
            "Failed to extract one of the job postings\n",
            "Failed to extract one of the job postings\n",
            "Failed to extract one of the job postings\n",
            "Failed to extract one of the job postings\n",
            "Failed to extract one of the job postings\n",
            "Failed to extract one of the job postings\n",
            "Failed to extract one of the job postings\n",
            "Failed to extract one of the job postings\n",
            "Failed to extract one of the job postings\n",
            "Failed to extract one of the job postings\n",
            "Failed to extract one of the job postings\n",
            "Failed to extract one of the job postings\n",
            "Failed to extract one of the job postings\n",
            "Failed to extract one of the job postings\n",
            "Failed to extract one of the job postings\n"
          ]
        },
        {
          "output_type": "stream",
          "name": "stderr",
          "text": [
            "/usr/local/lib/python3.10/dist-packages/urllib3/connectionpool.py:1045: InsecureRequestWarning: Unverified HTTPS request is being made to host 'timesascent.com'. Adding certificate verification is strongly advised. See: https://urllib3.readthedocs.io/en/1.26.x/advanced-usage.html#ssl-warnings\n",
            "  warnings.warn(\n",
            "/usr/local/lib/python3.10/dist-packages/urllib3/connectionpool.py:1045: InsecureRequestWarning: Unverified HTTPS request is being made to host 'timesascent.com'. Adding certificate verification is strongly advised. See: https://urllib3.readthedocs.io/en/1.26.x/advanced-usage.html#ssl-warnings\n",
            "  warnings.warn(\n"
          ]
        },
        {
          "output_type": "stream",
          "name": "stdout",
          "text": [
            "Failed to extract one of the job postings\n",
            "Failed to extract one of the job postings\n",
            "Failed to extract one of the job postings\n",
            "Failed to extract one of the job postings\n",
            "Failed to extract one of the job postings\n",
            "Failed to extract one of the job postings\n",
            "Failed to extract one of the job postings\n",
            "Failed to extract one of the job postings\n",
            "Failed to extract one of the job postings\n",
            "Failed to extract one of the job postings\n",
            "Failed to extract one of the job postings\n",
            "Failed to extract one of the job postings\n",
            "Failed to extract one of the job postings\n",
            "Failed to extract one of the job postings\n",
            "Failed to extract one of the job postings\n",
            "Failed to extract one of the job postings\n",
            "Failed to extract one of the job postings\n",
            "Failed to extract one of the job postings\n",
            "Failed to extract one of the job postings\n",
            "Failed to extract one of the job postings\n",
            "Failed to extract one of the job postings\n",
            "Failed to extract one of the job postings\n",
            "Failed to extract one of the job postings\n",
            "Failed to extract one of the job postings\n",
            "Failed to extract one of the job postings\n",
            "Failed to extract one of the job postings\n",
            "Failed to extract one of the job postings\n",
            "Failed to extract one of the job postings\n"
          ]
        },
        {
          "output_type": "stream",
          "name": "stderr",
          "text": [
            "/usr/local/lib/python3.10/dist-packages/urllib3/connectionpool.py:1045: InsecureRequestWarning: Unverified HTTPS request is being made to host 'timesascent.com'. Adding certificate verification is strongly advised. See: https://urllib3.readthedocs.io/en/1.26.x/advanced-usage.html#ssl-warnings\n",
            "  warnings.warn(\n",
            "/usr/local/lib/python3.10/dist-packages/urllib3/connectionpool.py:1045: InsecureRequestWarning: Unverified HTTPS request is being made to host 'timesascent.com'. Adding certificate verification is strongly advised. See: https://urllib3.readthedocs.io/en/1.26.x/advanced-usage.html#ssl-warnings\n",
            "  warnings.warn(\n"
          ]
        },
        {
          "output_type": "stream",
          "name": "stdout",
          "text": [
            "Failed to extract one of the job postings\n",
            "Failed to extract one of the job postings\n",
            "Failed to extract one of the job postings\n",
            "Failed to extract one of the job postings\n",
            "Failed to extract one of the job postings\n",
            "Failed to extract one of the job postings\n",
            "Failed to extract one of the job postings\n",
            "Failed to extract one of the job postings\n",
            "Failed to extract one of the job postings\n",
            "Failed to extract one of the job postings\n",
            "Failed to extract one of the job postings\n",
            "Failed to extract one of the job postings\n",
            "Failed to extract one of the job postings\n",
            "Failed to extract one of the job postings\n",
            "Failed to extract one of the job postings\n"
          ]
        },
        {
          "output_type": "stream",
          "name": "stderr",
          "text": [
            "/usr/local/lib/python3.10/dist-packages/urllib3/connectionpool.py:1045: InsecureRequestWarning: Unverified HTTPS request is being made to host 'timesascent.com'. Adding certificate verification is strongly advised. See: https://urllib3.readthedocs.io/en/1.26.x/advanced-usage.html#ssl-warnings\n",
            "  warnings.warn(\n",
            "/usr/local/lib/python3.10/dist-packages/urllib3/connectionpool.py:1045: InsecureRequestWarning: Unverified HTTPS request is being made to host 'timesascent.com'. Adding certificate verification is strongly advised. See: https://urllib3.readthedocs.io/en/1.26.x/advanced-usage.html#ssl-warnings\n",
            "  warnings.warn(\n"
          ]
        },
        {
          "output_type": "stream",
          "name": "stdout",
          "text": [
            "Failed to extract one of the job postings\n",
            "Failed to extract one of the job postings\n",
            "Failed to extract one of the job postings\n",
            "Failed to extract one of the job postings\n"
          ]
        },
        {
          "output_type": "stream",
          "name": "stderr",
          "text": [
            "/usr/local/lib/python3.10/dist-packages/urllib3/connectionpool.py:1045: InsecureRequestWarning: Unverified HTTPS request is being made to host 'timesascent.com'. Adding certificate verification is strongly advised. See: https://urllib3.readthedocs.io/en/1.26.x/advanced-usage.html#ssl-warnings\n",
            "  warnings.warn(\n",
            "/usr/local/lib/python3.10/dist-packages/urllib3/connectionpool.py:1045: InsecureRequestWarning: Unverified HTTPS request is being made to host 'timesascent.com'. Adding certificate verification is strongly advised. See: https://urllib3.readthedocs.io/en/1.26.x/advanced-usage.html#ssl-warnings\n",
            "  warnings.warn(\n"
          ]
        },
        {
          "output_type": "stream",
          "name": "stdout",
          "text": [
            "Failed to extract one of the job postings\n",
            "Failed to extract one of the job postings\n",
            "Failed to extract one of the job postings\n",
            "Failed to extract one of the job postings\n"
          ]
        },
        {
          "output_type": "stream",
          "name": "stderr",
          "text": [
            "/usr/local/lib/python3.10/dist-packages/urllib3/connectionpool.py:1045: InsecureRequestWarning: Unverified HTTPS request is being made to host 'timesascent.com'. Adding certificate verification is strongly advised. See: https://urllib3.readthedocs.io/en/1.26.x/advanced-usage.html#ssl-warnings\n",
            "  warnings.warn(\n",
            "/usr/local/lib/python3.10/dist-packages/urllib3/connectionpool.py:1045: InsecureRequestWarning: Unverified HTTPS request is being made to host 'timesascent.com'. Adding certificate verification is strongly advised. See: https://urllib3.readthedocs.io/en/1.26.x/advanced-usage.html#ssl-warnings\n",
            "  warnings.warn(\n"
          ]
        },
        {
          "output_type": "stream",
          "name": "stdout",
          "text": [
            "Failed to extract one of the job postings\n",
            "Failed to extract one of the job postings\n",
            "Failed to extract one of the job postings\n",
            "Failed to extract one of the job postings\n"
          ]
        },
        {
          "output_type": "stream",
          "name": "stderr",
          "text": [
            "/usr/local/lib/python3.10/dist-packages/urllib3/connectionpool.py:1045: InsecureRequestWarning: Unverified HTTPS request is being made to host 'timesascent.com'. Adding certificate verification is strongly advised. See: https://urllib3.readthedocs.io/en/1.26.x/advanced-usage.html#ssl-warnings\n",
            "  warnings.warn(\n",
            "/usr/local/lib/python3.10/dist-packages/urllib3/connectionpool.py:1045: InsecureRequestWarning: Unverified HTTPS request is being made to host 'timesascent.com'. Adding certificate verification is strongly advised. See: https://urllib3.readthedocs.io/en/1.26.x/advanced-usage.html#ssl-warnings\n",
            "  warnings.warn(\n"
          ]
        },
        {
          "output_type": "stream",
          "name": "stdout",
          "text": [
            "Failed to extract one of the job postings\n",
            "Failed to extract one of the job postings\n",
            "Failed to extract one of the job postings\n",
            "Failed to extract one of the job postings\n"
          ]
        },
        {
          "output_type": "stream",
          "name": "stderr",
          "text": [
            "/usr/local/lib/python3.10/dist-packages/urllib3/connectionpool.py:1045: InsecureRequestWarning: Unverified HTTPS request is being made to host 'timesascent.com'. Adding certificate verification is strongly advised. See: https://urllib3.readthedocs.io/en/1.26.x/advanced-usage.html#ssl-warnings\n",
            "  warnings.warn(\n",
            "/usr/local/lib/python3.10/dist-packages/urllib3/connectionpool.py:1045: InsecureRequestWarning: Unverified HTTPS request is being made to host 'timesascent.com'. Adding certificate verification is strongly advised. See: https://urllib3.readthedocs.io/en/1.26.x/advanced-usage.html#ssl-warnings\n",
            "  warnings.warn(\n"
          ]
        },
        {
          "output_type": "stream",
          "name": "stdout",
          "text": [
            "Failed to extract one of the job postings\n",
            "Failed to extract one of the job postings\n",
            "Failed to extract one of the job postings\n",
            "Failed to extract one of the job postings\n"
          ]
        },
        {
          "output_type": "stream",
          "name": "stderr",
          "text": [
            "/usr/local/lib/python3.10/dist-packages/urllib3/connectionpool.py:1045: InsecureRequestWarning: Unverified HTTPS request is being made to host 'timesascent.com'. Adding certificate verification is strongly advised. See: https://urllib3.readthedocs.io/en/1.26.x/advanced-usage.html#ssl-warnings\n",
            "  warnings.warn(\n",
            "/usr/local/lib/python3.10/dist-packages/urllib3/connectionpool.py:1045: InsecureRequestWarning: Unverified HTTPS request is being made to host 'timesascent.com'. Adding certificate verification is strongly advised. See: https://urllib3.readthedocs.io/en/1.26.x/advanced-usage.html#ssl-warnings\n",
            "  warnings.warn(\n"
          ]
        },
        {
          "output_type": "stream",
          "name": "stdout",
          "text": [
            "Failed to extract one of the job postings\n",
            "Failed to extract one of the job postings\n",
            "Failed to extract one of the job postings\n",
            "Failed to extract one of the job postings\n"
          ]
        },
        {
          "output_type": "stream",
          "name": "stderr",
          "text": [
            "/usr/local/lib/python3.10/dist-packages/urllib3/connectionpool.py:1045: InsecureRequestWarning: Unverified HTTPS request is being made to host 'timesascent.com'. Adding certificate verification is strongly advised. See: https://urllib3.readthedocs.io/en/1.26.x/advanced-usage.html#ssl-warnings\n",
            "  warnings.warn(\n",
            "/usr/local/lib/python3.10/dist-packages/urllib3/connectionpool.py:1045: InsecureRequestWarning: Unverified HTTPS request is being made to host 'timesascent.com'. Adding certificate verification is strongly advised. See: https://urllib3.readthedocs.io/en/1.26.x/advanced-usage.html#ssl-warnings\n",
            "  warnings.warn(\n"
          ]
        },
        {
          "output_type": "stream",
          "name": "stdout",
          "text": [
            "Failed to extract one of the job postings\n",
            "Failed to extract one of the job postings\n",
            "Failed to extract one of the job postings\n",
            "Failed to extract one of the job postings\n",
            "Failed to extract one of the job postings\n",
            "Failed to extract one of the job postings\n",
            "Failed to extract one of the job postings\n",
            "Failed to extract one of the job postings\n",
            "Failed to extract one of the job postings\n",
            "Failed to extract one of the job postings\n",
            "Failed to extract one of the job postings\n",
            "Failed to extract one of the job postings\n",
            "Failed to extract one of the job postings\n",
            "Failed to extract one of the job postings\n",
            "Failed to extract one of the job postings\n",
            "Failed to extract one of the job postings\n",
            "Failed to extract one of the job postings\n",
            "Failed to extract one of the job postings\n",
            "Failed to extract one of the job postings\n",
            "Failed to extract one of the job postings\n",
            "Failed to extract one of the job postings\n",
            "Failed to extract one of the job postings\n",
            "Failed to extract one of the job postings\n",
            "Failed to extract one of the job postings\n",
            "Failed to extract one of the job postings\n",
            "Failed to extract one of the job postings\n",
            "Failed to extract one of the job postings\n",
            "Failed to extract one of the job postings\n"
          ]
        },
        {
          "output_type": "stream",
          "name": "stderr",
          "text": [
            "/usr/local/lib/python3.10/dist-packages/urllib3/connectionpool.py:1045: InsecureRequestWarning: Unverified HTTPS request is being made to host 'timesascent.com'. Adding certificate verification is strongly advised. See: https://urllib3.readthedocs.io/en/1.26.x/advanced-usage.html#ssl-warnings\n",
            "  warnings.warn(\n",
            "/usr/local/lib/python3.10/dist-packages/urllib3/connectionpool.py:1045: InsecureRequestWarning: Unverified HTTPS request is being made to host 'timesascent.com'. Adding certificate verification is strongly advised. See: https://urllib3.readthedocs.io/en/1.26.x/advanced-usage.html#ssl-warnings\n",
            "  warnings.warn(\n"
          ]
        },
        {
          "output_type": "stream",
          "name": "stdout",
          "text": [
            "Failed to extract one of the job postings\n",
            "Failed to extract one of the job postings\n",
            "Failed to extract one of the job postings\n",
            "Failed to extract one of the job postings\n",
            "Failed to extract one of the job postings\n",
            "Failed to extract one of the job postings\n",
            "Failed to extract one of the job postings\n",
            "Failed to extract one of the job postings\n",
            "Failed to extract one of the job postings\n",
            "Failed to extract one of the job postings\n",
            "Failed to extract one of the job postings\n",
            "Failed to extract one of the job postings\n",
            "Failed to extract one of the job postings\n",
            "Failed to extract one of the job postings\n",
            "Failed to extract one of the job postings\n",
            "Failed to extract one of the job postings\n",
            "Failed to extract one of the job postings\n",
            "Failed to extract one of the job postings\n",
            "Failed to extract one of the job postings\n",
            "Failed to extract one of the job postings\n",
            "Failed to extract one of the job postings\n",
            "Failed to extract one of the job postings\n",
            "Failed to extract one of the job postings\n",
            "Failed to extract one of the job postings\n",
            "Failed to extract one of the job postings\n",
            "Failed to extract one of the job postings\n",
            "Failed to extract one of the job postings\n",
            "Failed to extract one of the job postings\n"
          ]
        },
        {
          "output_type": "stream",
          "name": "stderr",
          "text": [
            "/usr/local/lib/python3.10/dist-packages/urllib3/connectionpool.py:1045: InsecureRequestWarning: Unverified HTTPS request is being made to host 'timesascent.com'. Adding certificate verification is strongly advised. See: https://urllib3.readthedocs.io/en/1.26.x/advanced-usage.html#ssl-warnings\n",
            "  warnings.warn(\n",
            "/usr/local/lib/python3.10/dist-packages/urllib3/connectionpool.py:1045: InsecureRequestWarning: Unverified HTTPS request is being made to host 'timesascent.com'. Adding certificate verification is strongly advised. See: https://urllib3.readthedocs.io/en/1.26.x/advanced-usage.html#ssl-warnings\n",
            "  warnings.warn(\n"
          ]
        },
        {
          "output_type": "stream",
          "name": "stdout",
          "text": [
            "Failed to extract one of the job postings\n",
            "Failed to extract one of the job postings\n",
            "Failed to extract one of the job postings\n",
            "Failed to extract one of the job postings\n",
            "Failed to extract one of the job postings\n",
            "Failed to extract one of the job postings\n",
            "Failed to extract one of the job postings\n",
            "Failed to extract one of the job postings\n",
            "Failed to extract one of the job postings\n",
            "Failed to extract one of the job postings\n",
            "Failed to extract one of the job postings\n",
            "Failed to extract one of the job postings\n",
            "Failed to extract one of the job postings\n",
            "Failed to extract one of the job postings\n",
            "Failed to extract one of the job postings\n",
            "Failed to extract one of the job postings\n",
            "Failed to extract one of the job postings\n",
            "Failed to extract one of the job postings\n",
            "Failed to extract one of the job postings\n",
            "Failed to extract one of the job postings\n",
            "Failed to extract one of the job postings\n",
            "Failed to extract one of the job postings\n",
            "Failed to extract one of the job postings\n",
            "Failed to extract one of the job postings\n",
            "Failed to extract one of the job postings\n",
            "Failed to extract one of the job postings\n",
            "Failed to extract one of the job postings\n",
            "Failed to extract one of the job postings\n"
          ]
        },
        {
          "output_type": "stream",
          "name": "stderr",
          "text": [
            "/usr/local/lib/python3.10/dist-packages/urllib3/connectionpool.py:1045: InsecureRequestWarning: Unverified HTTPS request is being made to host 'timesascent.com'. Adding certificate verification is strongly advised. See: https://urllib3.readthedocs.io/en/1.26.x/advanced-usage.html#ssl-warnings\n",
            "  warnings.warn(\n",
            "/usr/local/lib/python3.10/dist-packages/urllib3/connectionpool.py:1045: InsecureRequestWarning: Unverified HTTPS request is being made to host 'timesascent.com'. Adding certificate verification is strongly advised. See: https://urllib3.readthedocs.io/en/1.26.x/advanced-usage.html#ssl-warnings\n",
            "  warnings.warn(\n"
          ]
        },
        {
          "output_type": "stream",
          "name": "stdout",
          "text": [
            "Failed to extract one of the job postings\n",
            "Failed to extract one of the job postings\n",
            "Failed to extract one of the job postings\n",
            "Failed to extract one of the job postings\n",
            "Failed to extract one of the job postings\n",
            "Failed to extract one of the job postings\n",
            "Failed to extract one of the job postings\n",
            "Failed to extract one of the job postings\n",
            "Failed to extract one of the job postings\n",
            "Failed to extract one of the job postings\n",
            "Failed to extract one of the job postings\n",
            "Failed to extract one of the job postings\n",
            "Failed to extract one of the job postings\n",
            "Failed to extract one of the job postings\n",
            "Failed to extract one of the job postings\n",
            "Failed to extract one of the job postings\n",
            "Failed to extract one of the job postings\n",
            "Failed to extract one of the job postings\n",
            "Failed to extract one of the job postings\n",
            "Failed to extract one of the job postings\n",
            "Failed to extract one of the job postings\n",
            "Failed to extract one of the job postings\n",
            "Failed to extract one of the job postings\n",
            "Failed to extract one of the job postings\n",
            "Failed to extract one of the job postings\n",
            "Failed to extract one of the job postings\n",
            "Failed to extract one of the job postings\n",
            "Failed to extract one of the job postings\n"
          ]
        },
        {
          "output_type": "stream",
          "name": "stderr",
          "text": [
            "/usr/local/lib/python3.10/dist-packages/urllib3/connectionpool.py:1045: InsecureRequestWarning: Unverified HTTPS request is being made to host 'timesascent.com'. Adding certificate verification is strongly advised. See: https://urllib3.readthedocs.io/en/1.26.x/advanced-usage.html#ssl-warnings\n",
            "  warnings.warn(\n",
            "/usr/local/lib/python3.10/dist-packages/urllib3/connectionpool.py:1045: InsecureRequestWarning: Unverified HTTPS request is being made to host 'timesascent.com'. Adding certificate verification is strongly advised. See: https://urllib3.readthedocs.io/en/1.26.x/advanced-usage.html#ssl-warnings\n",
            "  warnings.warn(\n"
          ]
        },
        {
          "output_type": "stream",
          "name": "stdout",
          "text": [
            "Failed to extract one of the job postings\n",
            "Failed to extract one of the job postings\n",
            "Failed to extract one of the job postings\n",
            "Failed to extract one of the job postings\n",
            "Failed to extract one of the job postings\n",
            "Failed to extract one of the job postings\n",
            "Failed to extract one of the job postings\n",
            "Failed to extract one of the job postings\n",
            "Failed to extract one of the job postings\n",
            "Failed to extract one of the job postings\n",
            "Failed to extract one of the job postings\n",
            "Failed to extract one of the job postings\n",
            "Failed to extract one of the job postings\n",
            "Failed to extract one of the job postings\n",
            "Failed to extract one of the job postings\n",
            "Failed to extract one of the job postings\n",
            "Failed to extract one of the job postings\n",
            "Failed to extract one of the job postings\n",
            "Failed to extract one of the job postings\n",
            "Failed to extract one of the job postings\n",
            "Failed to extract one of the job postings\n",
            "Failed to extract one of the job postings\n",
            "Failed to extract one of the job postings\n",
            "Failed to extract one of the job postings\n",
            "Failed to extract one of the job postings\n",
            "Failed to extract one of the job postings\n",
            "Failed to extract one of the job postings\n",
            "Failed to extract one of the job postings\n"
          ]
        },
        {
          "output_type": "stream",
          "name": "stderr",
          "text": [
            "/usr/local/lib/python3.10/dist-packages/urllib3/connectionpool.py:1045: InsecureRequestWarning: Unverified HTTPS request is being made to host 'timesascent.com'. Adding certificate verification is strongly advised. See: https://urllib3.readthedocs.io/en/1.26.x/advanced-usage.html#ssl-warnings\n",
            "  warnings.warn(\n",
            "/usr/local/lib/python3.10/dist-packages/urllib3/connectionpool.py:1045: InsecureRequestWarning: Unverified HTTPS request is being made to host 'timesascent.com'. Adding certificate verification is strongly advised. See: https://urllib3.readthedocs.io/en/1.26.x/advanced-usage.html#ssl-warnings\n",
            "  warnings.warn(\n"
          ]
        },
        {
          "output_type": "stream",
          "name": "stdout",
          "text": [
            "Failed to extract one of the job postings\n",
            "Failed to extract one of the job postings\n",
            "Failed to extract one of the job postings\n",
            "Failed to extract one of the job postings\n",
            "Failed to extract one of the job postings\n",
            "Failed to extract one of the job postings\n",
            "Failed to extract one of the job postings\n",
            "Failed to extract one of the job postings\n",
            "Failed to extract one of the job postings\n",
            "Failed to extract one of the job postings\n",
            "Failed to extract one of the job postings\n",
            "Failed to extract one of the job postings\n",
            "Failed to extract one of the job postings\n",
            "Failed to extract one of the job postings\n",
            "Failed to extract one of the job postings\n",
            "Failed to extract one of the job postings\n",
            "Failed to extract one of the job postings\n",
            "Failed to extract one of the job postings\n",
            "Failed to extract one of the job postings\n",
            "Failed to extract one of the job postings\n",
            "Failed to extract one of the job postings\n",
            "Failed to extract one of the job postings\n",
            "Failed to extract one of the job postings\n",
            "Failed to extract one of the job postings\n",
            "Failed to extract one of the job postings\n",
            "Failed to extract one of the job postings\n",
            "Failed to extract one of the job postings\n",
            "Failed to extract one of the job postings\n"
          ]
        },
        {
          "output_type": "stream",
          "name": "stderr",
          "text": [
            "/usr/local/lib/python3.10/dist-packages/urllib3/connectionpool.py:1045: InsecureRequestWarning: Unverified HTTPS request is being made to host 'timesascent.com'. Adding certificate verification is strongly advised. See: https://urllib3.readthedocs.io/en/1.26.x/advanced-usage.html#ssl-warnings\n",
            "  warnings.warn(\n",
            "/usr/local/lib/python3.10/dist-packages/urllib3/connectionpool.py:1045: InsecureRequestWarning: Unverified HTTPS request is being made to host 'timesascent.com'. Adding certificate verification is strongly advised. See: https://urllib3.readthedocs.io/en/1.26.x/advanced-usage.html#ssl-warnings\n",
            "  warnings.warn(\n"
          ]
        },
        {
          "output_type": "stream",
          "name": "stdout",
          "text": [
            "Failed to extract one of the job postings\n",
            "Failed to extract one of the job postings\n",
            "Failed to extract one of the job postings\n",
            "Failed to extract one of the job postings\n",
            "Failed to extract one of the job postings\n",
            "Failed to extract one of the job postings\n",
            "Failed to extract one of the job postings\n",
            "Failed to extract one of the job postings\n",
            "Failed to extract one of the job postings\n",
            "Failed to extract one of the job postings\n",
            "Failed to extract one of the job postings\n",
            "Failed to extract one of the job postings\n",
            "Failed to extract one of the job postings\n",
            "Failed to extract one of the job postings\n",
            "Failed to extract one of the job postings\n",
            "Failed to extract one of the job postings\n",
            "Failed to extract one of the job postings\n",
            "Failed to extract one of the job postings\n",
            "Failed to extract one of the job postings\n",
            "Failed to extract one of the job postings\n",
            "Failed to extract one of the job postings\n",
            "Failed to extract one of the job postings\n",
            "Failed to extract one of the job postings\n",
            "Failed to extract one of the job postings\n",
            "Failed to extract one of the job postings\n",
            "Failed to extract one of the job postings\n",
            "Failed to extract one of the job postings\n",
            "Failed to extract one of the job postings\n"
          ]
        },
        {
          "output_type": "stream",
          "name": "stderr",
          "text": [
            "/usr/local/lib/python3.10/dist-packages/urllib3/connectionpool.py:1045: InsecureRequestWarning: Unverified HTTPS request is being made to host 'timesascent.com'. Adding certificate verification is strongly advised. See: https://urllib3.readthedocs.io/en/1.26.x/advanced-usage.html#ssl-warnings\n",
            "  warnings.warn(\n",
            "/usr/local/lib/python3.10/dist-packages/urllib3/connectionpool.py:1045: InsecureRequestWarning: Unverified HTTPS request is being made to host 'timesascent.com'. Adding certificate verification is strongly advised. See: https://urllib3.readthedocs.io/en/1.26.x/advanced-usage.html#ssl-warnings\n",
            "  warnings.warn(\n"
          ]
        },
        {
          "output_type": "stream",
          "name": "stdout",
          "text": [
            "Failed to extract one of the job postings\n",
            "Failed to extract one of the job postings\n",
            "Failed to extract one of the job postings\n",
            "Failed to extract one of the job postings\n",
            "Failed to extract one of the job postings\n",
            "Failed to extract one of the job postings\n",
            "Failed to extract one of the job postings\n",
            "Failed to extract one of the job postings\n",
            "Failed to extract one of the job postings\n",
            "Failed to extract one of the job postings\n",
            "Failed to extract one of the job postings\n",
            "Failed to extract one of the job postings\n",
            "Failed to extract one of the job postings\n",
            "Failed to extract one of the job postings\n",
            "Failed to extract one of the job postings\n"
          ]
        },
        {
          "output_type": "stream",
          "name": "stderr",
          "text": [
            "/usr/local/lib/python3.10/dist-packages/urllib3/connectionpool.py:1045: InsecureRequestWarning: Unverified HTTPS request is being made to host 'timesascent.com'. Adding certificate verification is strongly advised. See: https://urllib3.readthedocs.io/en/1.26.x/advanced-usage.html#ssl-warnings\n",
            "  warnings.warn(\n",
            "/usr/local/lib/python3.10/dist-packages/urllib3/connectionpool.py:1045: InsecureRequestWarning: Unverified HTTPS request is being made to host 'timesascent.com'. Adding certificate verification is strongly advised. See: https://urllib3.readthedocs.io/en/1.26.x/advanced-usage.html#ssl-warnings\n",
            "  warnings.warn(\n"
          ]
        },
        {
          "output_type": "stream",
          "name": "stdout",
          "text": [
            "Failed to extract one of the job postings\n",
            "Failed to extract one of the job postings\n",
            "Failed to extract one of the job postings\n",
            "Failed to extract one of the job postings\n"
          ]
        },
        {
          "output_type": "stream",
          "name": "stderr",
          "text": [
            "/usr/local/lib/python3.10/dist-packages/urllib3/connectionpool.py:1045: InsecureRequestWarning: Unverified HTTPS request is being made to host 'timesascent.com'. Adding certificate verification is strongly advised. See: https://urllib3.readthedocs.io/en/1.26.x/advanced-usage.html#ssl-warnings\n",
            "  warnings.warn(\n",
            "/usr/local/lib/python3.10/dist-packages/urllib3/connectionpool.py:1045: InsecureRequestWarning: Unverified HTTPS request is being made to host 'timesascent.com'. Adding certificate verification is strongly advised. See: https://urllib3.readthedocs.io/en/1.26.x/advanced-usage.html#ssl-warnings\n",
            "  warnings.warn(\n"
          ]
        },
        {
          "output_type": "stream",
          "name": "stdout",
          "text": [
            "Failed to extract one of the job postings\n",
            "Failed to extract one of the job postings\n",
            "Failed to extract one of the job postings\n",
            "Failed to extract one of the job postings\n"
          ]
        },
        {
          "output_type": "stream",
          "name": "stderr",
          "text": [
            "/usr/local/lib/python3.10/dist-packages/urllib3/connectionpool.py:1045: InsecureRequestWarning: Unverified HTTPS request is being made to host 'timesascent.com'. Adding certificate verification is strongly advised. See: https://urllib3.readthedocs.io/en/1.26.x/advanced-usage.html#ssl-warnings\n",
            "  warnings.warn(\n",
            "/usr/local/lib/python3.10/dist-packages/urllib3/connectionpool.py:1045: InsecureRequestWarning: Unverified HTTPS request is being made to host 'timesascent.com'. Adding certificate verification is strongly advised. See: https://urllib3.readthedocs.io/en/1.26.x/advanced-usage.html#ssl-warnings\n",
            "  warnings.warn(\n"
          ]
        },
        {
          "output_type": "stream",
          "name": "stdout",
          "text": [
            "Failed to extract one of the job postings\n",
            "Failed to extract one of the job postings\n",
            "Failed to extract one of the job postings\n",
            "Failed to extract one of the job postings\n"
          ]
        },
        {
          "output_type": "stream",
          "name": "stderr",
          "text": [
            "/usr/local/lib/python3.10/dist-packages/urllib3/connectionpool.py:1045: InsecureRequestWarning: Unverified HTTPS request is being made to host 'timesascent.com'. Adding certificate verification is strongly advised. See: https://urllib3.readthedocs.io/en/1.26.x/advanced-usage.html#ssl-warnings\n",
            "  warnings.warn(\n",
            "/usr/local/lib/python3.10/dist-packages/urllib3/connectionpool.py:1045: InsecureRequestWarning: Unverified HTTPS request is being made to host 'timesascent.com'. Adding certificate verification is strongly advised. See: https://urllib3.readthedocs.io/en/1.26.x/advanced-usage.html#ssl-warnings\n",
            "  warnings.warn(\n"
          ]
        },
        {
          "output_type": "stream",
          "name": "stdout",
          "text": [
            "Failed to extract one of the job postings\n",
            "Failed to extract one of the job postings\n",
            "Failed to extract one of the job postings\n",
            "Failed to extract one of the job postings\n"
          ]
        },
        {
          "output_type": "stream",
          "name": "stderr",
          "text": [
            "/usr/local/lib/python3.10/dist-packages/urllib3/connectionpool.py:1045: InsecureRequestWarning: Unverified HTTPS request is being made to host 'timesascent.com'. Adding certificate verification is strongly advised. See: https://urllib3.readthedocs.io/en/1.26.x/advanced-usage.html#ssl-warnings\n",
            "  warnings.warn(\n",
            "/usr/local/lib/python3.10/dist-packages/urllib3/connectionpool.py:1045: InsecureRequestWarning: Unverified HTTPS request is being made to host 'timesascent.com'. Adding certificate verification is strongly advised. See: https://urllib3.readthedocs.io/en/1.26.x/advanced-usage.html#ssl-warnings\n",
            "  warnings.warn(\n"
          ]
        },
        {
          "output_type": "stream",
          "name": "stdout",
          "text": [
            "Failed to extract one of the job postings\n",
            "Failed to extract one of the job postings\n",
            "Failed to extract one of the job postings\n",
            "Failed to extract one of the job postings\n"
          ]
        },
        {
          "output_type": "stream",
          "name": "stderr",
          "text": [
            "/usr/local/lib/python3.10/dist-packages/urllib3/connectionpool.py:1045: InsecureRequestWarning: Unverified HTTPS request is being made to host 'timesascent.com'. Adding certificate verification is strongly advised. See: https://urllib3.readthedocs.io/en/1.26.x/advanced-usage.html#ssl-warnings\n",
            "  warnings.warn(\n",
            "/usr/local/lib/python3.10/dist-packages/urllib3/connectionpool.py:1045: InsecureRequestWarning: Unverified HTTPS request is being made to host 'timesascent.com'. Adding certificate verification is strongly advised. See: https://urllib3.readthedocs.io/en/1.26.x/advanced-usage.html#ssl-warnings\n",
            "  warnings.warn(\n"
          ]
        },
        {
          "output_type": "stream",
          "name": "stdout",
          "text": [
            "Failed to extract one of the job postings\n",
            "Failed to extract one of the job postings\n",
            "Failed to extract one of the job postings\n",
            "Failed to extract one of the job postings\n"
          ]
        },
        {
          "output_type": "stream",
          "name": "stderr",
          "text": [
            "/usr/local/lib/python3.10/dist-packages/urllib3/connectionpool.py:1045: InsecureRequestWarning: Unverified HTTPS request is being made to host 'timesascent.com'. Adding certificate verification is strongly advised. See: https://urllib3.readthedocs.io/en/1.26.x/advanced-usage.html#ssl-warnings\n",
            "  warnings.warn(\n",
            "/usr/local/lib/python3.10/dist-packages/urllib3/connectionpool.py:1045: InsecureRequestWarning: Unverified HTTPS request is being made to host 'timesascent.com'. Adding certificate verification is strongly advised. See: https://urllib3.readthedocs.io/en/1.26.x/advanced-usage.html#ssl-warnings\n",
            "  warnings.warn(\n"
          ]
        },
        {
          "output_type": "stream",
          "name": "stdout",
          "text": [
            "Failed to extract one of the job postings\n",
            "Failed to extract one of the job postings\n",
            "Failed to extract one of the job postings\n",
            "Failed to extract one of the job postings\n"
          ]
        },
        {
          "output_type": "stream",
          "name": "stderr",
          "text": [
            "/usr/local/lib/python3.10/dist-packages/urllib3/connectionpool.py:1045: InsecureRequestWarning: Unverified HTTPS request is being made to host 'timesascent.com'. Adding certificate verification is strongly advised. See: https://urllib3.readthedocs.io/en/1.26.x/advanced-usage.html#ssl-warnings\n",
            "  warnings.warn(\n",
            "/usr/local/lib/python3.10/dist-packages/urllib3/connectionpool.py:1045: InsecureRequestWarning: Unverified HTTPS request is being made to host 'timesascent.com'. Adding certificate verification is strongly advised. See: https://urllib3.readthedocs.io/en/1.26.x/advanced-usage.html#ssl-warnings\n",
            "  warnings.warn(\n"
          ]
        },
        {
          "output_type": "stream",
          "name": "stdout",
          "text": [
            "Failed to extract one of the job postings\n",
            "Failed to extract one of the job postings\n",
            "Failed to extract one of the job postings\n",
            "Failed to extract one of the job postings\n"
          ]
        },
        {
          "output_type": "stream",
          "name": "stderr",
          "text": [
            "/usr/local/lib/python3.10/dist-packages/urllib3/connectionpool.py:1045: InsecureRequestWarning: Unverified HTTPS request is being made to host 'timesascent.com'. Adding certificate verification is strongly advised. See: https://urllib3.readthedocs.io/en/1.26.x/advanced-usage.html#ssl-warnings\n",
            "  warnings.warn(\n",
            "/usr/local/lib/python3.10/dist-packages/urllib3/connectionpool.py:1045: InsecureRequestWarning: Unverified HTTPS request is being made to host 'timesascent.com'. Adding certificate verification is strongly advised. See: https://urllib3.readthedocs.io/en/1.26.x/advanced-usage.html#ssl-warnings\n",
            "  warnings.warn(\n"
          ]
        },
        {
          "output_type": "stream",
          "name": "stdout",
          "text": [
            "Failed to extract one of the job postings\n",
            "Failed to extract one of the job postings\n",
            "Failed to extract one of the job postings\n",
            "Failed to extract one of the job postings\n"
          ]
        },
        {
          "output_type": "stream",
          "name": "stderr",
          "text": [
            "/usr/local/lib/python3.10/dist-packages/urllib3/connectionpool.py:1045: InsecureRequestWarning: Unverified HTTPS request is being made to host 'timesascent.com'. Adding certificate verification is strongly advised. See: https://urllib3.readthedocs.io/en/1.26.x/advanced-usage.html#ssl-warnings\n",
            "  warnings.warn(\n",
            "/usr/local/lib/python3.10/dist-packages/urllib3/connectionpool.py:1045: InsecureRequestWarning: Unverified HTTPS request is being made to host 'timesascent.com'. Adding certificate verification is strongly advised. See: https://urllib3.readthedocs.io/en/1.26.x/advanced-usage.html#ssl-warnings\n",
            "  warnings.warn(\n"
          ]
        },
        {
          "output_type": "stream",
          "name": "stdout",
          "text": [
            "Failed to extract one of the job postings\n",
            "Failed to extract one of the job postings\n",
            "Failed to extract one of the job postings\n",
            "Failed to extract one of the job postings\n"
          ]
        },
        {
          "output_type": "stream",
          "name": "stderr",
          "text": [
            "/usr/local/lib/python3.10/dist-packages/urllib3/connectionpool.py:1045: InsecureRequestWarning: Unverified HTTPS request is being made to host 'timesascent.com'. Adding certificate verification is strongly advised. See: https://urllib3.readthedocs.io/en/1.26.x/advanced-usage.html#ssl-warnings\n",
            "  warnings.warn(\n",
            "/usr/local/lib/python3.10/dist-packages/urllib3/connectionpool.py:1045: InsecureRequestWarning: Unverified HTTPS request is being made to host 'timesascent.com'. Adding certificate verification is strongly advised. See: https://urllib3.readthedocs.io/en/1.26.x/advanced-usage.html#ssl-warnings\n",
            "  warnings.warn(\n"
          ]
        },
        {
          "output_type": "stream",
          "name": "stdout",
          "text": [
            "Failed to extract one of the job postings\n",
            "Failed to extract one of the job postings\n",
            "Failed to extract one of the job postings\n",
            "Failed to extract one of the job postings\n"
          ]
        },
        {
          "output_type": "stream",
          "name": "stderr",
          "text": [
            "/usr/local/lib/python3.10/dist-packages/urllib3/connectionpool.py:1045: InsecureRequestWarning: Unverified HTTPS request is being made to host 'timesascent.com'. Adding certificate verification is strongly advised. See: https://urllib3.readthedocs.io/en/1.26.x/advanced-usage.html#ssl-warnings\n",
            "  warnings.warn(\n",
            "/usr/local/lib/python3.10/dist-packages/urllib3/connectionpool.py:1045: InsecureRequestWarning: Unverified HTTPS request is being made to host 'timesascent.com'. Adding certificate verification is strongly advised. See: https://urllib3.readthedocs.io/en/1.26.x/advanced-usage.html#ssl-warnings\n",
            "  warnings.warn(\n"
          ]
        },
        {
          "output_type": "stream",
          "name": "stdout",
          "text": [
            "Failed to extract one of the job postings\n",
            "Failed to extract one of the job postings\n",
            "Failed to extract one of the job postings\n",
            "Failed to extract one of the job postings\n"
          ]
        },
        {
          "output_type": "stream",
          "name": "stderr",
          "text": [
            "/usr/local/lib/python3.10/dist-packages/urllib3/connectionpool.py:1045: InsecureRequestWarning: Unverified HTTPS request is being made to host 'timesascent.com'. Adding certificate verification is strongly advised. See: https://urllib3.readthedocs.io/en/1.26.x/advanced-usage.html#ssl-warnings\n",
            "  warnings.warn(\n",
            "/usr/local/lib/python3.10/dist-packages/urllib3/connectionpool.py:1045: InsecureRequestWarning: Unverified HTTPS request is being made to host 'timesascent.com'. Adding certificate verification is strongly advised. See: https://urllib3.readthedocs.io/en/1.26.x/advanced-usage.html#ssl-warnings\n",
            "  warnings.warn(\n"
          ]
        },
        {
          "output_type": "stream",
          "name": "stdout",
          "text": [
            "Failed to extract one of the job postings\n",
            "Failed to extract one of the job postings\n",
            "Failed to extract one of the job postings\n",
            "Failed to extract one of the job postings\n",
            "Failed to extract one of the job postings\n",
            "Failed to extract one of the job postings\n",
            "Failed to extract one of the job postings\n",
            "Failed to extract one of the job postings\n",
            "Failed to extract one of the job postings\n",
            "Failed to extract one of the job postings\n",
            "Failed to extract one of the job postings\n",
            "Failed to extract one of the job postings\n",
            "Failed to extract one of the job postings\n",
            "Failed to extract one of the job postings\n",
            "Failed to extract one of the job postings\n",
            "Failed to extract one of the job postings\n",
            "Failed to extract one of the job postings\n",
            "Failed to extract one of the job postings\n",
            "Failed to extract one of the job postings\n",
            "Failed to extract one of the job postings\n",
            "Failed to extract one of the job postings\n",
            "Failed to extract one of the job postings\n",
            "Failed to extract one of the job postings\n",
            "Failed to extract one of the job postings\n",
            "Failed to extract one of the job postings\n",
            "Failed to extract one of the job postings\n",
            "Failed to extract one of the job postings\n",
            "Failed to extract one of the job postings\n"
          ]
        },
        {
          "output_type": "stream",
          "name": "stderr",
          "text": [
            "/usr/local/lib/python3.10/dist-packages/urllib3/connectionpool.py:1045: InsecureRequestWarning: Unverified HTTPS request is being made to host 'timesascent.com'. Adding certificate verification is strongly advised. See: https://urllib3.readthedocs.io/en/1.26.x/advanced-usage.html#ssl-warnings\n",
            "  warnings.warn(\n",
            "/usr/local/lib/python3.10/dist-packages/urllib3/connectionpool.py:1045: InsecureRequestWarning: Unverified HTTPS request is being made to host 'timesascent.com'. Adding certificate verification is strongly advised. See: https://urllib3.readthedocs.io/en/1.26.x/advanced-usage.html#ssl-warnings\n",
            "  warnings.warn(\n"
          ]
        },
        {
          "output_type": "stream",
          "name": "stdout",
          "text": [
            "Failed to extract one of the job postings\n",
            "Failed to extract one of the job postings\n",
            "Failed to extract one of the job postings\n",
            "Failed to extract one of the job postings\n",
            "Failed to extract one of the job postings\n",
            "Failed to extract one of the job postings\n",
            "Failed to extract one of the job postings\n",
            "Failed to extract one of the job postings\n",
            "Failed to extract one of the job postings\n",
            "Failed to extract one of the job postings\n",
            "Failed to extract one of the job postings\n",
            "Failed to extract one of the job postings\n",
            "Failed to extract one of the job postings\n",
            "Failed to extract one of the job postings\n",
            "Failed to extract one of the job postings\n",
            "Failed to extract one of the job postings\n",
            "Failed to extract one of the job postings\n",
            "Failed to extract one of the job postings\n",
            "Failed to extract one of the job postings\n",
            "Failed to extract one of the job postings\n",
            "Failed to extract one of the job postings\n",
            "Failed to extract one of the job postings\n",
            "Failed to extract one of the job postings\n",
            "Failed to extract one of the job postings\n",
            "Failed to extract one of the job postings\n",
            "Failed to extract one of the job postings\n",
            "Failed to extract one of the job postings\n",
            "Failed to extract one of the job postings\n"
          ]
        },
        {
          "output_type": "stream",
          "name": "stderr",
          "text": [
            "/usr/local/lib/python3.10/dist-packages/urllib3/connectionpool.py:1045: InsecureRequestWarning: Unverified HTTPS request is being made to host 'timesascent.com'. Adding certificate verification is strongly advised. See: https://urllib3.readthedocs.io/en/1.26.x/advanced-usage.html#ssl-warnings\n",
            "  warnings.warn(\n",
            "/usr/local/lib/python3.10/dist-packages/urllib3/connectionpool.py:1045: InsecureRequestWarning: Unverified HTTPS request is being made to host 'timesascent.com'. Adding certificate verification is strongly advised. See: https://urllib3.readthedocs.io/en/1.26.x/advanced-usage.html#ssl-warnings\n",
            "  warnings.warn(\n"
          ]
        },
        {
          "output_type": "stream",
          "name": "stdout",
          "text": [
            "Failed to extract one of the job postings\n",
            "Failed to extract one of the job postings\n",
            "Failed to extract one of the job postings\n",
            "Failed to extract one of the job postings\n",
            "Failed to extract one of the job postings\n",
            "Failed to extract one of the job postings\n",
            "Failed to extract one of the job postings\n",
            "Failed to extract one of the job postings\n",
            "Failed to extract one of the job postings\n",
            "Failed to extract one of the job postings\n",
            "Failed to extract one of the job postings\n",
            "Failed to extract one of the job postings\n",
            "Failed to extract one of the job postings\n",
            "Failed to extract one of the job postings\n",
            "Failed to extract one of the job postings\n",
            "Failed to extract one of the job postings\n",
            "Failed to extract one of the job postings\n",
            "Failed to extract one of the job postings\n",
            "Failed to extract one of the job postings\n",
            "Failed to extract one of the job postings\n",
            "Failed to extract one of the job postings\n",
            "Failed to extract one of the job postings\n",
            "Failed to extract one of the job postings\n",
            "Failed to extract one of the job postings\n",
            "Failed to extract one of the job postings\n",
            "Failed to extract one of the job postings\n",
            "Failed to extract one of the job postings\n",
            "Failed to extract one of the job postings\n"
          ]
        },
        {
          "output_type": "stream",
          "name": "stderr",
          "text": [
            "/usr/local/lib/python3.10/dist-packages/urllib3/connectionpool.py:1045: InsecureRequestWarning: Unverified HTTPS request is being made to host 'timesascent.com'. Adding certificate verification is strongly advised. See: https://urllib3.readthedocs.io/en/1.26.x/advanced-usage.html#ssl-warnings\n",
            "  warnings.warn(\n",
            "/usr/local/lib/python3.10/dist-packages/urllib3/connectionpool.py:1045: InsecureRequestWarning: Unverified HTTPS request is being made to host 'timesascent.com'. Adding certificate verification is strongly advised. See: https://urllib3.readthedocs.io/en/1.26.x/advanced-usage.html#ssl-warnings\n",
            "  warnings.warn(\n"
          ]
        },
        {
          "output_type": "stream",
          "name": "stdout",
          "text": [
            "Failed to extract one of the job postings\n",
            "Failed to extract one of the job postings\n",
            "Failed to extract one of the job postings\n",
            "Failed to extract one of the job postings\n",
            "Failed to extract one of the job postings\n",
            "Failed to extract one of the job postings\n",
            "Failed to extract one of the job postings\n",
            "Failed to extract one of the job postings\n",
            "Failed to extract one of the job postings\n",
            "Failed to extract one of the job postings\n",
            "Failed to extract one of the job postings\n",
            "Failed to extract one of the job postings\n",
            "Failed to extract one of the job postings\n",
            "Failed to extract one of the job postings\n",
            "Failed to extract one of the job postings\n",
            "Failed to extract one of the job postings\n",
            "Failed to extract one of the job postings\n",
            "Failed to extract one of the job postings\n",
            "Failed to extract one of the job postings\n",
            "Failed to extract one of the job postings\n",
            "Failed to extract one of the job postings\n",
            "Failed to extract one of the job postings\n",
            "Failed to extract one of the job postings\n",
            "Failed to extract one of the job postings\n",
            "Failed to extract one of the job postings\n",
            "Failed to extract one of the job postings\n",
            "Failed to extract one of the job postings\n",
            "Failed to extract one of the job postings\n"
          ]
        },
        {
          "output_type": "stream",
          "name": "stderr",
          "text": [
            "/usr/local/lib/python3.10/dist-packages/urllib3/connectionpool.py:1045: InsecureRequestWarning: Unverified HTTPS request is being made to host 'timesascent.com'. Adding certificate verification is strongly advised. See: https://urllib3.readthedocs.io/en/1.26.x/advanced-usage.html#ssl-warnings\n",
            "  warnings.warn(\n",
            "/usr/local/lib/python3.10/dist-packages/urllib3/connectionpool.py:1045: InsecureRequestWarning: Unverified HTTPS request is being made to host 'timesascent.com'. Adding certificate verification is strongly advised. See: https://urllib3.readthedocs.io/en/1.26.x/advanced-usage.html#ssl-warnings\n",
            "  warnings.warn(\n"
          ]
        },
        {
          "output_type": "stream",
          "name": "stdout",
          "text": [
            "Failed to extract one of the job postings\n",
            "Failed to extract one of the job postings\n",
            "Failed to extract one of the job postings\n",
            "Failed to extract one of the job postings\n",
            "Failed to extract one of the job postings\n",
            "Failed to extract one of the job postings\n",
            "Failed to extract one of the job postings\n",
            "Failed to extract one of the job postings\n",
            "Failed to extract one of the job postings\n",
            "Failed to extract one of the job postings\n",
            "Failed to extract one of the job postings\n",
            "Failed to extract one of the job postings\n",
            "Failed to extract one of the job postings\n",
            "Failed to extract one of the job postings\n",
            "Failed to extract one of the job postings\n",
            "Failed to extract one of the job postings\n",
            "Failed to extract one of the job postings\n",
            "Failed to extract one of the job postings\n",
            "Failed to extract one of the job postings\n",
            "Failed to extract one of the job postings\n",
            "Failed to extract one of the job postings\n"
          ]
        },
        {
          "output_type": "stream",
          "name": "stderr",
          "text": [
            "/usr/local/lib/python3.10/dist-packages/urllib3/connectionpool.py:1045: InsecureRequestWarning: Unverified HTTPS request is being made to host 'timesascent.com'. Adding certificate verification is strongly advised. See: https://urllib3.readthedocs.io/en/1.26.x/advanced-usage.html#ssl-warnings\n",
            "  warnings.warn(\n",
            "/usr/local/lib/python3.10/dist-packages/urllib3/connectionpool.py:1045: InsecureRequestWarning: Unverified HTTPS request is being made to host 'timesascent.com'. Adding certificate verification is strongly advised. See: https://urllib3.readthedocs.io/en/1.26.x/advanced-usage.html#ssl-warnings\n",
            "  warnings.warn(\n"
          ]
        },
        {
          "output_type": "stream",
          "name": "stdout",
          "text": [
            "Failed to extract one of the job postings\n",
            "Failed to extract one of the job postings\n",
            "Failed to extract one of the job postings\n",
            "Failed to extract one of the job postings\n"
          ]
        },
        {
          "output_type": "stream",
          "name": "stderr",
          "text": [
            "/usr/local/lib/python3.10/dist-packages/urllib3/connectionpool.py:1045: InsecureRequestWarning: Unverified HTTPS request is being made to host 'timesascent.com'. Adding certificate verification is strongly advised. See: https://urllib3.readthedocs.io/en/1.26.x/advanced-usage.html#ssl-warnings\n",
            "  warnings.warn(\n",
            "/usr/local/lib/python3.10/dist-packages/urllib3/connectionpool.py:1045: InsecureRequestWarning: Unverified HTTPS request is being made to host 'timesascent.com'. Adding certificate verification is strongly advised. See: https://urllib3.readthedocs.io/en/1.26.x/advanced-usage.html#ssl-warnings\n",
            "  warnings.warn(\n"
          ]
        },
        {
          "output_type": "stream",
          "name": "stdout",
          "text": [
            "Failed to extract one of the job postings\n",
            "Failed to extract one of the job postings\n",
            "Failed to extract one of the job postings\n",
            "Failed to extract one of the job postings\n"
          ]
        },
        {
          "output_type": "stream",
          "name": "stderr",
          "text": [
            "/usr/local/lib/python3.10/dist-packages/urllib3/connectionpool.py:1045: InsecureRequestWarning: Unverified HTTPS request is being made to host 'timesascent.com'. Adding certificate verification is strongly advised. See: https://urllib3.readthedocs.io/en/1.26.x/advanced-usage.html#ssl-warnings\n",
            "  warnings.warn(\n",
            "/usr/local/lib/python3.10/dist-packages/urllib3/connectionpool.py:1045: InsecureRequestWarning: Unverified HTTPS request is being made to host 'timesascent.com'. Adding certificate verification is strongly advised. See: https://urllib3.readthedocs.io/en/1.26.x/advanced-usage.html#ssl-warnings\n",
            "  warnings.warn(\n"
          ]
        },
        {
          "output_type": "stream",
          "name": "stdout",
          "text": [
            "Failed to extract one of the job postings\n",
            "Failed to extract one of the job postings\n",
            "Failed to extract one of the job postings\n",
            "Failed to extract one of the job postings\n"
          ]
        },
        {
          "output_type": "stream",
          "name": "stderr",
          "text": [
            "/usr/local/lib/python3.10/dist-packages/urllib3/connectionpool.py:1045: InsecureRequestWarning: Unverified HTTPS request is being made to host 'timesascent.com'. Adding certificate verification is strongly advised. See: https://urllib3.readthedocs.io/en/1.26.x/advanced-usage.html#ssl-warnings\n",
            "  warnings.warn(\n",
            "/usr/local/lib/python3.10/dist-packages/urllib3/connectionpool.py:1045: InsecureRequestWarning: Unverified HTTPS request is being made to host 'timesascent.com'. Adding certificate verification is strongly advised. See: https://urllib3.readthedocs.io/en/1.26.x/advanced-usage.html#ssl-warnings\n",
            "  warnings.warn(\n"
          ]
        },
        {
          "output_type": "stream",
          "name": "stdout",
          "text": [
            "Failed to extract one of the job postings\n",
            "Failed to extract one of the job postings\n",
            "Failed to extract one of the job postings\n",
            "Failed to extract one of the job postings\n"
          ]
        },
        {
          "output_type": "stream",
          "name": "stderr",
          "text": [
            "/usr/local/lib/python3.10/dist-packages/urllib3/connectionpool.py:1045: InsecureRequestWarning: Unverified HTTPS request is being made to host 'timesascent.com'. Adding certificate verification is strongly advised. See: https://urllib3.readthedocs.io/en/1.26.x/advanced-usage.html#ssl-warnings\n",
            "  warnings.warn(\n",
            "/usr/local/lib/python3.10/dist-packages/urllib3/connectionpool.py:1045: InsecureRequestWarning: Unverified HTTPS request is being made to host 'timesascent.com'. Adding certificate verification is strongly advised. See: https://urllib3.readthedocs.io/en/1.26.x/advanced-usage.html#ssl-warnings\n",
            "  warnings.warn(\n"
          ]
        },
        {
          "output_type": "stream",
          "name": "stdout",
          "text": [
            "Failed to extract one of the job postings\n",
            "Failed to extract one of the job postings\n",
            "Failed to extract one of the job postings\n",
            "Failed to extract one of the job postings\n"
          ]
        },
        {
          "output_type": "stream",
          "name": "stderr",
          "text": [
            "/usr/local/lib/python3.10/dist-packages/urllib3/connectionpool.py:1045: InsecureRequestWarning: Unverified HTTPS request is being made to host 'timesascent.com'. Adding certificate verification is strongly advised. See: https://urllib3.readthedocs.io/en/1.26.x/advanced-usage.html#ssl-warnings\n",
            "  warnings.warn(\n",
            "/usr/local/lib/python3.10/dist-packages/urllib3/connectionpool.py:1045: InsecureRequestWarning: Unverified HTTPS request is being made to host 'timesascent.com'. Adding certificate verification is strongly advised. See: https://urllib3.readthedocs.io/en/1.26.x/advanced-usage.html#ssl-warnings\n",
            "  warnings.warn(\n"
          ]
        },
        {
          "output_type": "stream",
          "name": "stdout",
          "text": [
            "Failed to extract one of the job postings\n",
            "Failed to extract one of the job postings\n",
            "Failed to extract one of the job postings\n",
            "Failed to extract one of the job postings\n"
          ]
        },
        {
          "output_type": "stream",
          "name": "stderr",
          "text": [
            "/usr/local/lib/python3.10/dist-packages/urllib3/connectionpool.py:1045: InsecureRequestWarning: Unverified HTTPS request is being made to host 'timesascent.com'. Adding certificate verification is strongly advised. See: https://urllib3.readthedocs.io/en/1.26.x/advanced-usage.html#ssl-warnings\n",
            "  warnings.warn(\n",
            "/usr/local/lib/python3.10/dist-packages/urllib3/connectionpool.py:1045: InsecureRequestWarning: Unverified HTTPS request is being made to host 'timesascent.com'. Adding certificate verification is strongly advised. See: https://urllib3.readthedocs.io/en/1.26.x/advanced-usage.html#ssl-warnings\n",
            "  warnings.warn(\n"
          ]
        },
        {
          "output_type": "stream",
          "name": "stdout",
          "text": [
            "Failed to extract one of the job postings\n",
            "Failed to extract one of the job postings\n",
            "Failed to extract one of the job postings\n",
            "Failed to extract one of the job postings\n"
          ]
        },
        {
          "output_type": "stream",
          "name": "stderr",
          "text": [
            "/usr/local/lib/python3.10/dist-packages/urllib3/connectionpool.py:1045: InsecureRequestWarning: Unverified HTTPS request is being made to host 'timesascent.com'. Adding certificate verification is strongly advised. See: https://urllib3.readthedocs.io/en/1.26.x/advanced-usage.html#ssl-warnings\n",
            "  warnings.warn(\n",
            "/usr/local/lib/python3.10/dist-packages/urllib3/connectionpool.py:1045: InsecureRequestWarning: Unverified HTTPS request is being made to host 'timesascent.com'. Adding certificate verification is strongly advised. See: https://urllib3.readthedocs.io/en/1.26.x/advanced-usage.html#ssl-warnings\n",
            "  warnings.warn(\n"
          ]
        },
        {
          "output_type": "stream",
          "name": "stdout",
          "text": [
            "Failed to extract one of the job postings\n",
            "Failed to extract one of the job postings\n",
            "Failed to extract one of the job postings\n",
            "Failed to extract one of the job postings\n"
          ]
        },
        {
          "output_type": "stream",
          "name": "stderr",
          "text": [
            "/usr/local/lib/python3.10/dist-packages/urllib3/connectionpool.py:1045: InsecureRequestWarning: Unverified HTTPS request is being made to host 'timesascent.com'. Adding certificate verification is strongly advised. See: https://urllib3.readthedocs.io/en/1.26.x/advanced-usage.html#ssl-warnings\n",
            "  warnings.warn(\n",
            "/usr/local/lib/python3.10/dist-packages/urllib3/connectionpool.py:1045: InsecureRequestWarning: Unverified HTTPS request is being made to host 'timesascent.com'. Adding certificate verification is strongly advised. See: https://urllib3.readthedocs.io/en/1.26.x/advanced-usage.html#ssl-warnings\n",
            "  warnings.warn(\n"
          ]
        },
        {
          "output_type": "stream",
          "name": "stdout",
          "text": [
            "Failed to extract one of the job postings\n",
            "Failed to extract one of the job postings\n",
            "Failed to extract one of the job postings\n",
            "Failed to extract one of the job postings\n"
          ]
        },
        {
          "output_type": "stream",
          "name": "stderr",
          "text": [
            "/usr/local/lib/python3.10/dist-packages/urllib3/connectionpool.py:1045: InsecureRequestWarning: Unverified HTTPS request is being made to host 'timesascent.com'. Adding certificate verification is strongly advised. See: https://urllib3.readthedocs.io/en/1.26.x/advanced-usage.html#ssl-warnings\n",
            "  warnings.warn(\n",
            "/usr/local/lib/python3.10/dist-packages/urllib3/connectionpool.py:1045: InsecureRequestWarning: Unverified HTTPS request is being made to host 'timesascent.com'. Adding certificate verification is strongly advised. See: https://urllib3.readthedocs.io/en/1.26.x/advanced-usage.html#ssl-warnings\n",
            "  warnings.warn(\n"
          ]
        },
        {
          "output_type": "stream",
          "name": "stdout",
          "text": [
            "Failed to extract one of the job postings\n",
            "Failed to extract one of the job postings\n",
            "Failed to extract one of the job postings\n",
            "Failed to extract one of the job postings\n"
          ]
        },
        {
          "output_type": "stream",
          "name": "stderr",
          "text": [
            "/usr/local/lib/python3.10/dist-packages/urllib3/connectionpool.py:1045: InsecureRequestWarning: Unverified HTTPS request is being made to host 'timesascent.com'. Adding certificate verification is strongly advised. See: https://urllib3.readthedocs.io/en/1.26.x/advanced-usage.html#ssl-warnings\n",
            "  warnings.warn(\n",
            "/usr/local/lib/python3.10/dist-packages/urllib3/connectionpool.py:1045: InsecureRequestWarning: Unverified HTTPS request is being made to host 'timesascent.com'. Adding certificate verification is strongly advised. See: https://urllib3.readthedocs.io/en/1.26.x/advanced-usage.html#ssl-warnings\n",
            "  warnings.warn(\n"
          ]
        },
        {
          "output_type": "stream",
          "name": "stdout",
          "text": [
            "Failed to extract one of the job postings\n",
            "Failed to extract one of the job postings\n",
            "Failed to extract one of the job postings\n",
            "Failed to extract one of the job postings\n"
          ]
        },
        {
          "output_type": "stream",
          "name": "stderr",
          "text": [
            "/usr/local/lib/python3.10/dist-packages/urllib3/connectionpool.py:1045: InsecureRequestWarning: Unverified HTTPS request is being made to host 'timesascent.com'. Adding certificate verification is strongly advised. See: https://urllib3.readthedocs.io/en/1.26.x/advanced-usage.html#ssl-warnings\n",
            "  warnings.warn(\n",
            "/usr/local/lib/python3.10/dist-packages/urllib3/connectionpool.py:1045: InsecureRequestWarning: Unverified HTTPS request is being made to host 'timesascent.com'. Adding certificate verification is strongly advised. See: https://urllib3.readthedocs.io/en/1.26.x/advanced-usage.html#ssl-warnings\n",
            "  warnings.warn(\n"
          ]
        },
        {
          "output_type": "stream",
          "name": "stdout",
          "text": [
            "Failed to extract one of the job postings\n",
            "Failed to extract one of the job postings\n",
            "Failed to extract one of the job postings\n",
            "Failed to extract one of the job postings\n"
          ]
        },
        {
          "output_type": "stream",
          "name": "stderr",
          "text": [
            "/usr/local/lib/python3.10/dist-packages/urllib3/connectionpool.py:1045: InsecureRequestWarning: Unverified HTTPS request is being made to host 'timesascent.com'. Adding certificate verification is strongly advised. See: https://urllib3.readthedocs.io/en/1.26.x/advanced-usage.html#ssl-warnings\n",
            "  warnings.warn(\n",
            "/usr/local/lib/python3.10/dist-packages/urllib3/connectionpool.py:1045: InsecureRequestWarning: Unverified HTTPS request is being made to host 'timesascent.com'. Adding certificate verification is strongly advised. See: https://urllib3.readthedocs.io/en/1.26.x/advanced-usage.html#ssl-warnings\n",
            "  warnings.warn(\n"
          ]
        },
        {
          "output_type": "stream",
          "name": "stdout",
          "text": [
            "Failed to extract one of the job postings\n",
            "Failed to extract one of the job postings\n",
            "Failed to extract one of the job postings\n",
            "Failed to extract one of the job postings\n"
          ]
        },
        {
          "output_type": "stream",
          "name": "stderr",
          "text": [
            "/usr/local/lib/python3.10/dist-packages/urllib3/connectionpool.py:1045: InsecureRequestWarning: Unverified HTTPS request is being made to host 'timesascent.com'. Adding certificate verification is strongly advised. See: https://urllib3.readthedocs.io/en/1.26.x/advanced-usage.html#ssl-warnings\n",
            "  warnings.warn(\n",
            "/usr/local/lib/python3.10/dist-packages/urllib3/connectionpool.py:1045: InsecureRequestWarning: Unverified HTTPS request is being made to host 'timesascent.com'. Adding certificate verification is strongly advised. See: https://urllib3.readthedocs.io/en/1.26.x/advanced-usage.html#ssl-warnings\n",
            "  warnings.warn(\n"
          ]
        },
        {
          "output_type": "stream",
          "name": "stdout",
          "text": [
            "Failed to extract one of the job postings\n",
            "Failed to extract one of the job postings\n",
            "Failed to extract one of the job postings\n",
            "Failed to extract one of the job postings\n"
          ]
        },
        {
          "output_type": "stream",
          "name": "stderr",
          "text": [
            "/usr/local/lib/python3.10/dist-packages/urllib3/connectionpool.py:1045: InsecureRequestWarning: Unverified HTTPS request is being made to host 'timesascent.com'. Adding certificate verification is strongly advised. See: https://urllib3.readthedocs.io/en/1.26.x/advanced-usage.html#ssl-warnings\n",
            "  warnings.warn(\n",
            "/usr/local/lib/python3.10/dist-packages/urllib3/connectionpool.py:1045: InsecureRequestWarning: Unverified HTTPS request is being made to host 'timesascent.com'. Adding certificate verification is strongly advised. See: https://urllib3.readthedocs.io/en/1.26.x/advanced-usage.html#ssl-warnings\n",
            "  warnings.warn(\n"
          ]
        },
        {
          "output_type": "stream",
          "name": "stdout",
          "text": [
            "Failed to extract one of the job postings\n",
            "Failed to extract one of the job postings\n",
            "Failed to extract one of the job postings\n",
            "Failed to extract one of the job postings\n"
          ]
        },
        {
          "output_type": "stream",
          "name": "stderr",
          "text": [
            "/usr/local/lib/python3.10/dist-packages/urllib3/connectionpool.py:1045: InsecureRequestWarning: Unverified HTTPS request is being made to host 'timesascent.com'. Adding certificate verification is strongly advised. See: https://urllib3.readthedocs.io/en/1.26.x/advanced-usage.html#ssl-warnings\n",
            "  warnings.warn(\n",
            "/usr/local/lib/python3.10/dist-packages/urllib3/connectionpool.py:1045: InsecureRequestWarning: Unverified HTTPS request is being made to host 'timesascent.com'. Adding certificate verification is strongly advised. See: https://urllib3.readthedocs.io/en/1.26.x/advanced-usage.html#ssl-warnings\n",
            "  warnings.warn(\n"
          ]
        },
        {
          "output_type": "stream",
          "name": "stdout",
          "text": [
            "Failed to extract one of the job postings\n",
            "Failed to extract one of the job postings\n",
            "Failed to extract one of the job postings\n",
            "Failed to extract one of the job postings\n",
            "Failed to extract one of the job postings\n",
            "Failed to extract one of the job postings\n",
            "Failed to extract one of the job postings\n",
            "Failed to extract one of the job postings\n",
            "Failed to extract one of the job postings\n",
            "Failed to extract one of the job postings\n",
            "Failed to extract one of the job postings\n",
            "Failed to extract one of the job postings\n",
            "Failed to extract one of the job postings\n",
            "Failed to extract one of the job postings\n",
            "Failed to extract one of the job postings\n",
            "Failed to extract one of the job postings\n",
            "Failed to extract one of the job postings\n",
            "Failed to extract one of the job postings\n",
            "Failed to extract one of the job postings\n",
            "Failed to extract one of the job postings\n",
            "Failed to extract one of the job postings\n",
            "Failed to extract one of the job postings\n",
            "Failed to extract one of the job postings\n",
            "Failed to extract one of the job postings\n",
            "Failed to extract one of the job postings\n",
            "Failed to extract one of the job postings\n",
            "Failed to extract one of the job postings\n",
            "Failed to extract one of the job postings\n"
          ]
        },
        {
          "output_type": "stream",
          "name": "stderr",
          "text": [
            "/usr/local/lib/python3.10/dist-packages/urllib3/connectionpool.py:1045: InsecureRequestWarning: Unverified HTTPS request is being made to host 'timesascent.com'. Adding certificate verification is strongly advised. See: https://urllib3.readthedocs.io/en/1.26.x/advanced-usage.html#ssl-warnings\n",
            "  warnings.warn(\n",
            "/usr/local/lib/python3.10/dist-packages/urllib3/connectionpool.py:1045: InsecureRequestWarning: Unverified HTTPS request is being made to host 'timesascent.com'. Adding certificate verification is strongly advised. See: https://urllib3.readthedocs.io/en/1.26.x/advanced-usage.html#ssl-warnings\n",
            "  warnings.warn(\n"
          ]
        },
        {
          "output_type": "stream",
          "name": "stdout",
          "text": [
            "Failed to extract one of the job postings\n",
            "Failed to extract one of the job postings\n",
            "Failed to extract one of the job postings\n",
            "Failed to extract one of the job postings\n",
            "Failed to extract one of the job postings\n",
            "Failed to extract one of the job postings\n",
            "Failed to extract one of the job postings\n",
            "Failed to extract one of the job postings\n",
            "Failed to extract one of the job postings\n",
            "Failed to extract one of the job postings\n",
            "Failed to extract one of the job postings\n",
            "Failed to extract one of the job postings\n",
            "Failed to extract one of the job postings\n",
            "Failed to extract one of the job postings\n",
            "Failed to extract one of the job postings\n",
            "Failed to extract one of the job postings\n",
            "Failed to extract one of the job postings\n",
            "Failed to extract one of the job postings\n",
            "Failed to extract one of the job postings\n",
            "Failed to extract one of the job postings\n",
            "Failed to extract one of the job postings\n",
            "Failed to extract one of the job postings\n",
            "Failed to extract one of the job postings\n",
            "Failed to extract one of the job postings\n",
            "Failed to extract one of the job postings\n",
            "Failed to extract one of the job postings\n",
            "Failed to extract one of the job postings\n",
            "Failed to extract one of the job postings\n"
          ]
        },
        {
          "output_type": "stream",
          "name": "stderr",
          "text": [
            "/usr/local/lib/python3.10/dist-packages/urllib3/connectionpool.py:1045: InsecureRequestWarning: Unverified HTTPS request is being made to host 'timesascent.com'. Adding certificate verification is strongly advised. See: https://urllib3.readthedocs.io/en/1.26.x/advanced-usage.html#ssl-warnings\n",
            "  warnings.warn(\n",
            "/usr/local/lib/python3.10/dist-packages/urllib3/connectionpool.py:1045: InsecureRequestWarning: Unverified HTTPS request is being made to host 'timesascent.com'. Adding certificate verification is strongly advised. See: https://urllib3.readthedocs.io/en/1.26.x/advanced-usage.html#ssl-warnings\n",
            "  warnings.warn(\n"
          ]
        },
        {
          "output_type": "stream",
          "name": "stdout",
          "text": [
            "Failed to extract one of the job postings\n",
            "Failed to extract one of the job postings\n",
            "Failed to extract one of the job postings\n",
            "Failed to extract one of the job postings\n",
            "Failed to extract one of the job postings\n",
            "Failed to extract one of the job postings\n",
            "Failed to extract one of the job postings\n",
            "Failed to extract one of the job postings\n",
            "Failed to extract one of the job postings\n",
            "Failed to extract one of the job postings\n",
            "Failed to extract one of the job postings\n",
            "Failed to extract one of the job postings\n",
            "Failed to extract one of the job postings\n",
            "Failed to extract one of the job postings\n",
            "Failed to extract one of the job postings\n",
            "Failed to extract one of the job postings\n",
            "Failed to extract one of the job postings\n",
            "Failed to extract one of the job postings\n",
            "Failed to extract one of the job postings\n",
            "Failed to extract one of the job postings\n",
            "Failed to extract one of the job postings\n",
            "Failed to extract one of the job postings\n",
            "Failed to extract one of the job postings\n",
            "Failed to extract one of the job postings\n",
            "Failed to extract one of the job postings\n",
            "Failed to extract one of the job postings\n",
            "Failed to extract one of the job postings\n",
            "Failed to extract one of the job postings\n"
          ]
        },
        {
          "output_type": "stream",
          "name": "stderr",
          "text": [
            "/usr/local/lib/python3.10/dist-packages/urllib3/connectionpool.py:1045: InsecureRequestWarning: Unverified HTTPS request is being made to host 'timesascent.com'. Adding certificate verification is strongly advised. See: https://urllib3.readthedocs.io/en/1.26.x/advanced-usage.html#ssl-warnings\n",
            "  warnings.warn(\n",
            "/usr/local/lib/python3.10/dist-packages/urllib3/connectionpool.py:1045: InsecureRequestWarning: Unverified HTTPS request is being made to host 'timesascent.com'. Adding certificate verification is strongly advised. See: https://urllib3.readthedocs.io/en/1.26.x/advanced-usage.html#ssl-warnings\n",
            "  warnings.warn(\n"
          ]
        },
        {
          "output_type": "stream",
          "name": "stdout",
          "text": [
            "Failed to extract one of the job postings\n",
            "Failed to extract one of the job postings\n",
            "Failed to extract one of the job postings\n",
            "Failed to extract one of the job postings\n",
            "Failed to extract one of the job postings\n",
            "Failed to extract one of the job postings\n",
            "Failed to extract one of the job postings\n"
          ]
        },
        {
          "output_type": "stream",
          "name": "stderr",
          "text": [
            "/usr/local/lib/python3.10/dist-packages/urllib3/connectionpool.py:1045: InsecureRequestWarning: Unverified HTTPS request is being made to host 'timesascent.com'. Adding certificate verification is strongly advised. See: https://urllib3.readthedocs.io/en/1.26.x/advanced-usage.html#ssl-warnings\n",
            "  warnings.warn(\n",
            "/usr/local/lib/python3.10/dist-packages/urllib3/connectionpool.py:1045: InsecureRequestWarning: Unverified HTTPS request is being made to host 'timesascent.com'. Adding certificate verification is strongly advised. See: https://urllib3.readthedocs.io/en/1.26.x/advanced-usage.html#ssl-warnings\n",
            "  warnings.warn(\n"
          ]
        },
        {
          "output_type": "stream",
          "name": "stdout",
          "text": [
            "Failed to extract one of the job postings\n",
            "Failed to extract one of the job postings\n",
            "Failed to extract one of the job postings\n",
            "Failed to extract one of the job postings\n"
          ]
        },
        {
          "output_type": "stream",
          "name": "stderr",
          "text": [
            "/usr/local/lib/python3.10/dist-packages/urllib3/connectionpool.py:1045: InsecureRequestWarning: Unverified HTTPS request is being made to host 'timesascent.com'. Adding certificate verification is strongly advised. See: https://urllib3.readthedocs.io/en/1.26.x/advanced-usage.html#ssl-warnings\n",
            "  warnings.warn(\n",
            "/usr/local/lib/python3.10/dist-packages/urllib3/connectionpool.py:1045: InsecureRequestWarning: Unverified HTTPS request is being made to host 'timesascent.com'. Adding certificate verification is strongly advised. See: https://urllib3.readthedocs.io/en/1.26.x/advanced-usage.html#ssl-warnings\n",
            "  warnings.warn(\n"
          ]
        },
        {
          "output_type": "stream",
          "name": "stdout",
          "text": [
            "Failed to extract one of the job postings\n",
            "Failed to extract one of the job postings\n",
            "Failed to extract one of the job postings\n",
            "Failed to extract one of the job postings\n"
          ]
        },
        {
          "output_type": "stream",
          "name": "stderr",
          "text": [
            "/usr/local/lib/python3.10/dist-packages/urllib3/connectionpool.py:1045: InsecureRequestWarning: Unverified HTTPS request is being made to host 'timesascent.com'. Adding certificate verification is strongly advised. See: https://urllib3.readthedocs.io/en/1.26.x/advanced-usage.html#ssl-warnings\n",
            "  warnings.warn(\n",
            "/usr/local/lib/python3.10/dist-packages/urllib3/connectionpool.py:1045: InsecureRequestWarning: Unverified HTTPS request is being made to host 'timesascent.com'. Adding certificate verification is strongly advised. See: https://urllib3.readthedocs.io/en/1.26.x/advanced-usage.html#ssl-warnings\n",
            "  warnings.warn(\n"
          ]
        },
        {
          "output_type": "stream",
          "name": "stdout",
          "text": [
            "Failed to extract one of the job postings\n",
            "Failed to extract one of the job postings\n",
            "Failed to extract one of the job postings\n",
            "Failed to extract one of the job postings\n"
          ]
        },
        {
          "output_type": "stream",
          "name": "stderr",
          "text": [
            "/usr/local/lib/python3.10/dist-packages/urllib3/connectionpool.py:1045: InsecureRequestWarning: Unverified HTTPS request is being made to host 'timesascent.com'. Adding certificate verification is strongly advised. See: https://urllib3.readthedocs.io/en/1.26.x/advanced-usage.html#ssl-warnings\n",
            "  warnings.warn(\n",
            "/usr/local/lib/python3.10/dist-packages/urllib3/connectionpool.py:1045: InsecureRequestWarning: Unverified HTTPS request is being made to host 'timesascent.com'. Adding certificate verification is strongly advised. See: https://urllib3.readthedocs.io/en/1.26.x/advanced-usage.html#ssl-warnings\n",
            "  warnings.warn(\n"
          ]
        },
        {
          "output_type": "stream",
          "name": "stdout",
          "text": [
            "Failed to extract one of the job postings\n",
            "Failed to extract one of the job postings\n",
            "Failed to extract one of the job postings\n",
            "Failed to extract one of the job postings\n"
          ]
        },
        {
          "output_type": "stream",
          "name": "stderr",
          "text": [
            "/usr/local/lib/python3.10/dist-packages/urllib3/connectionpool.py:1045: InsecureRequestWarning: Unverified HTTPS request is being made to host 'timesascent.com'. Adding certificate verification is strongly advised. See: https://urllib3.readthedocs.io/en/1.26.x/advanced-usage.html#ssl-warnings\n",
            "  warnings.warn(\n",
            "/usr/local/lib/python3.10/dist-packages/urllib3/connectionpool.py:1045: InsecureRequestWarning: Unverified HTTPS request is being made to host 'timesascent.com'. Adding certificate verification is strongly advised. See: https://urllib3.readthedocs.io/en/1.26.x/advanced-usage.html#ssl-warnings\n",
            "  warnings.warn(\n"
          ]
        },
        {
          "output_type": "stream",
          "name": "stdout",
          "text": [
            "Failed to extract one of the job postings\n",
            "Failed to extract one of the job postings\n",
            "Failed to extract one of the job postings\n",
            "Failed to extract one of the job postings\n"
          ]
        },
        {
          "output_type": "stream",
          "name": "stderr",
          "text": [
            "/usr/local/lib/python3.10/dist-packages/urllib3/connectionpool.py:1045: InsecureRequestWarning: Unverified HTTPS request is being made to host 'timesascent.com'. Adding certificate verification is strongly advised. See: https://urllib3.readthedocs.io/en/1.26.x/advanced-usage.html#ssl-warnings\n",
            "  warnings.warn(\n",
            "/usr/local/lib/python3.10/dist-packages/urllib3/connectionpool.py:1045: InsecureRequestWarning: Unverified HTTPS request is being made to host 'timesascent.com'. Adding certificate verification is strongly advised. See: https://urllib3.readthedocs.io/en/1.26.x/advanced-usage.html#ssl-warnings\n",
            "  warnings.warn(\n"
          ]
        },
        {
          "output_type": "stream",
          "name": "stdout",
          "text": [
            "Failed to extract one of the job postings\n",
            "Failed to extract one of the job postings\n",
            "Failed to extract one of the job postings\n",
            "Failed to extract one of the job postings\n"
          ]
        },
        {
          "output_type": "stream",
          "name": "stderr",
          "text": [
            "/usr/local/lib/python3.10/dist-packages/urllib3/connectionpool.py:1045: InsecureRequestWarning: Unverified HTTPS request is being made to host 'timesascent.com'. Adding certificate verification is strongly advised. See: https://urllib3.readthedocs.io/en/1.26.x/advanced-usage.html#ssl-warnings\n",
            "  warnings.warn(\n",
            "/usr/local/lib/python3.10/dist-packages/urllib3/connectionpool.py:1045: InsecureRequestWarning: Unverified HTTPS request is being made to host 'timesascent.com'. Adding certificate verification is strongly advised. See: https://urllib3.readthedocs.io/en/1.26.x/advanced-usage.html#ssl-warnings\n",
            "  warnings.warn(\n"
          ]
        },
        {
          "output_type": "stream",
          "name": "stdout",
          "text": [
            "Failed to extract one of the job postings\n",
            "Failed to extract one of the job postings\n",
            "Failed to extract one of the job postings\n",
            "Failed to extract one of the job postings\n"
          ]
        },
        {
          "output_type": "stream",
          "name": "stderr",
          "text": [
            "/usr/local/lib/python3.10/dist-packages/urllib3/connectionpool.py:1045: InsecureRequestWarning: Unverified HTTPS request is being made to host 'timesascent.com'. Adding certificate verification is strongly advised. See: https://urllib3.readthedocs.io/en/1.26.x/advanced-usage.html#ssl-warnings\n",
            "  warnings.warn(\n",
            "/usr/local/lib/python3.10/dist-packages/urllib3/connectionpool.py:1045: InsecureRequestWarning: Unverified HTTPS request is being made to host 'timesascent.com'. Adding certificate verification is strongly advised. See: https://urllib3.readthedocs.io/en/1.26.x/advanced-usage.html#ssl-warnings\n",
            "  warnings.warn(\n"
          ]
        },
        {
          "output_type": "stream",
          "name": "stdout",
          "text": [
            "Failed to extract one of the job postings\n",
            "Failed to extract one of the job postings\n",
            "Failed to extract one of the job postings\n",
            "Failed to extract one of the job postings\n"
          ]
        },
        {
          "output_type": "stream",
          "name": "stderr",
          "text": [
            "/usr/local/lib/python3.10/dist-packages/urllib3/connectionpool.py:1045: InsecureRequestWarning: Unverified HTTPS request is being made to host 'timesascent.com'. Adding certificate verification is strongly advised. See: https://urllib3.readthedocs.io/en/1.26.x/advanced-usage.html#ssl-warnings\n",
            "  warnings.warn(\n",
            "/usr/local/lib/python3.10/dist-packages/urllib3/connectionpool.py:1045: InsecureRequestWarning: Unverified HTTPS request is being made to host 'timesascent.com'. Adding certificate verification is strongly advised. See: https://urllib3.readthedocs.io/en/1.26.x/advanced-usage.html#ssl-warnings\n",
            "  warnings.warn(\n"
          ]
        },
        {
          "output_type": "stream",
          "name": "stdout",
          "text": [
            "Failed to extract one of the job postings\n",
            "Failed to extract one of the job postings\n",
            "Failed to extract one of the job postings\n",
            "Failed to extract one of the job postings\n"
          ]
        },
        {
          "output_type": "stream",
          "name": "stderr",
          "text": [
            "/usr/local/lib/python3.10/dist-packages/urllib3/connectionpool.py:1045: InsecureRequestWarning: Unverified HTTPS request is being made to host 'timesascent.com'. Adding certificate verification is strongly advised. See: https://urllib3.readthedocs.io/en/1.26.x/advanced-usage.html#ssl-warnings\n",
            "  warnings.warn(\n",
            "/usr/local/lib/python3.10/dist-packages/urllib3/connectionpool.py:1045: InsecureRequestWarning: Unverified HTTPS request is being made to host 'timesascent.com'. Adding certificate verification is strongly advised. See: https://urllib3.readthedocs.io/en/1.26.x/advanced-usage.html#ssl-warnings\n",
            "  warnings.warn(\n"
          ]
        },
        {
          "output_type": "stream",
          "name": "stdout",
          "text": [
            "Failed to extract one of the job postings\n",
            "Failed to extract one of the job postings\n",
            "Failed to extract one of the job postings\n",
            "Failed to extract one of the job postings\n"
          ]
        },
        {
          "output_type": "stream",
          "name": "stderr",
          "text": [
            "/usr/local/lib/python3.10/dist-packages/urllib3/connectionpool.py:1045: InsecureRequestWarning: Unverified HTTPS request is being made to host 'timesascent.com'. Adding certificate verification is strongly advised. See: https://urllib3.readthedocs.io/en/1.26.x/advanced-usage.html#ssl-warnings\n",
            "  warnings.warn(\n",
            "/usr/local/lib/python3.10/dist-packages/urllib3/connectionpool.py:1045: InsecureRequestWarning: Unverified HTTPS request is being made to host 'timesascent.com'. Adding certificate verification is strongly advised. See: https://urllib3.readthedocs.io/en/1.26.x/advanced-usage.html#ssl-warnings\n",
            "  warnings.warn(\n"
          ]
        },
        {
          "output_type": "stream",
          "name": "stdout",
          "text": [
            "Failed to extract one of the job postings\n",
            "Failed to extract one of the job postings\n",
            "Failed to extract one of the job postings\n",
            "Failed to extract one of the job postings\n"
          ]
        },
        {
          "output_type": "stream",
          "name": "stderr",
          "text": [
            "/usr/local/lib/python3.10/dist-packages/urllib3/connectionpool.py:1045: InsecureRequestWarning: Unverified HTTPS request is being made to host 'timesascent.com'. Adding certificate verification is strongly advised. See: https://urllib3.readthedocs.io/en/1.26.x/advanced-usage.html#ssl-warnings\n",
            "  warnings.warn(\n",
            "/usr/local/lib/python3.10/dist-packages/urllib3/connectionpool.py:1045: InsecureRequestWarning: Unverified HTTPS request is being made to host 'timesascent.com'. Adding certificate verification is strongly advised. See: https://urllib3.readthedocs.io/en/1.26.x/advanced-usage.html#ssl-warnings\n",
            "  warnings.warn(\n"
          ]
        },
        {
          "output_type": "stream",
          "name": "stdout",
          "text": [
            "Failed to extract one of the job postings\n",
            "Failed to extract one of the job postings\n",
            "Failed to extract one of the job postings\n",
            "Failed to extract one of the job postings\n"
          ]
        },
        {
          "output_type": "stream",
          "name": "stderr",
          "text": [
            "/usr/local/lib/python3.10/dist-packages/urllib3/connectionpool.py:1045: InsecureRequestWarning: Unverified HTTPS request is being made to host 'timesascent.com'. Adding certificate verification is strongly advised. See: https://urllib3.readthedocs.io/en/1.26.x/advanced-usage.html#ssl-warnings\n",
            "  warnings.warn(\n",
            "/usr/local/lib/python3.10/dist-packages/urllib3/connectionpool.py:1045: InsecureRequestWarning: Unverified HTTPS request is being made to host 'timesascent.com'. Adding certificate verification is strongly advised. See: https://urllib3.readthedocs.io/en/1.26.x/advanced-usage.html#ssl-warnings\n",
            "  warnings.warn(\n"
          ]
        },
        {
          "output_type": "stream",
          "name": "stdout",
          "text": [
            "Failed to extract one of the job postings\n",
            "Failed to extract one of the job postings\n",
            "Failed to extract one of the job postings\n",
            "Failed to extract one of the job postings\n"
          ]
        },
        {
          "output_type": "stream",
          "name": "stderr",
          "text": [
            "/usr/local/lib/python3.10/dist-packages/urllib3/connectionpool.py:1045: InsecureRequestWarning: Unverified HTTPS request is being made to host 'timesascent.com'. Adding certificate verification is strongly advised. See: https://urllib3.readthedocs.io/en/1.26.x/advanced-usage.html#ssl-warnings\n",
            "  warnings.warn(\n",
            "/usr/local/lib/python3.10/dist-packages/urllib3/connectionpool.py:1045: InsecureRequestWarning: Unverified HTTPS request is being made to host 'timesascent.com'. Adding certificate verification is strongly advised. See: https://urllib3.readthedocs.io/en/1.26.x/advanced-usage.html#ssl-warnings\n",
            "  warnings.warn(\n"
          ]
        },
        {
          "output_type": "stream",
          "name": "stdout",
          "text": [
            "Failed to extract one of the job postings\n",
            "Failed to extract one of the job postings\n",
            "Failed to extract one of the job postings\n",
            "Failed to extract one of the job postings\n"
          ]
        },
        {
          "output_type": "stream",
          "name": "stderr",
          "text": [
            "/usr/local/lib/python3.10/dist-packages/urllib3/connectionpool.py:1045: InsecureRequestWarning: Unverified HTTPS request is being made to host 'timesascent.com'. Adding certificate verification is strongly advised. See: https://urllib3.readthedocs.io/en/1.26.x/advanced-usage.html#ssl-warnings\n",
            "  warnings.warn(\n",
            "/usr/local/lib/python3.10/dist-packages/urllib3/connectionpool.py:1045: InsecureRequestWarning: Unverified HTTPS request is being made to host 'timesascent.com'. Adding certificate verification is strongly advised. See: https://urllib3.readthedocs.io/en/1.26.x/advanced-usage.html#ssl-warnings\n",
            "  warnings.warn(\n"
          ]
        },
        {
          "output_type": "stream",
          "name": "stdout",
          "text": [
            "Failed to extract one of the job postings\n",
            "Failed to extract one of the job postings\n",
            "Failed to extract one of the job postings\n",
            "Failed to extract one of the job postings\n"
          ]
        },
        {
          "output_type": "stream",
          "name": "stderr",
          "text": [
            "/usr/local/lib/python3.10/dist-packages/urllib3/connectionpool.py:1045: InsecureRequestWarning: Unverified HTTPS request is being made to host 'timesascent.com'. Adding certificate verification is strongly advised. See: https://urllib3.readthedocs.io/en/1.26.x/advanced-usage.html#ssl-warnings\n",
            "  warnings.warn(\n",
            "/usr/local/lib/python3.10/dist-packages/urllib3/connectionpool.py:1045: InsecureRequestWarning: Unverified HTTPS request is being made to host 'timesascent.com'. Adding certificate verification is strongly advised. See: https://urllib3.readthedocs.io/en/1.26.x/advanced-usage.html#ssl-warnings\n",
            "  warnings.warn(\n"
          ]
        },
        {
          "output_type": "stream",
          "name": "stdout",
          "text": [
            "Failed to extract one of the job postings\n",
            "Failed to extract one of the job postings\n",
            "Failed to extract one of the job postings\n",
            "Failed to extract one of the job postings\n"
          ]
        },
        {
          "output_type": "stream",
          "name": "stderr",
          "text": [
            "/usr/local/lib/python3.10/dist-packages/urllib3/connectionpool.py:1045: InsecureRequestWarning: Unverified HTTPS request is being made to host 'timesascent.com'. Adding certificate verification is strongly advised. See: https://urllib3.readthedocs.io/en/1.26.x/advanced-usage.html#ssl-warnings\n",
            "  warnings.warn(\n",
            "/usr/local/lib/python3.10/dist-packages/urllib3/connectionpool.py:1045: InsecureRequestWarning: Unverified HTTPS request is being made to host 'timesascent.com'. Adding certificate verification is strongly advised. See: https://urllib3.readthedocs.io/en/1.26.x/advanced-usage.html#ssl-warnings\n",
            "  warnings.warn(\n"
          ]
        },
        {
          "output_type": "stream",
          "name": "stdout",
          "text": [
            "Failed to extract one of the job postings\n",
            "Failed to extract one of the job postings\n",
            "Failed to extract one of the job postings\n",
            "Failed to extract one of the job postings\n",
            "Failed to extract one of the job postings\n",
            "Failed to extract one of the job postings\n",
            "Failed to extract one of the job postings\n",
            "Failed to extract one of the job postings\n",
            "Failed to extract one of the job postings\n",
            "Failed to extract one of the job postings\n",
            "Failed to extract one of the job postings\n",
            "Failed to extract one of the job postings\n",
            "Failed to extract one of the job postings\n",
            "Failed to extract one of the job postings\n",
            "Failed to extract one of the job postings\n",
            "Failed to extract one of the job postings\n",
            "Failed to extract one of the job postings\n",
            "Failed to extract one of the job postings\n",
            "Failed to extract one of the job postings\n",
            "Failed to extract one of the job postings\n",
            "Failed to extract one of the job postings\n",
            "Failed to extract one of the job postings\n",
            "Failed to extract one of the job postings\n",
            "Failed to extract one of the job postings\n",
            "Failed to extract one of the job postings\n",
            "Failed to extract one of the job postings\n",
            "Failed to extract one of the job postings\n",
            "Failed to extract one of the job postings\n"
          ]
        },
        {
          "output_type": "stream",
          "name": "stderr",
          "text": [
            "/usr/local/lib/python3.10/dist-packages/urllib3/connectionpool.py:1045: InsecureRequestWarning: Unverified HTTPS request is being made to host 'timesascent.com'. Adding certificate verification is strongly advised. See: https://urllib3.readthedocs.io/en/1.26.x/advanced-usage.html#ssl-warnings\n",
            "  warnings.warn(\n",
            "/usr/local/lib/python3.10/dist-packages/urllib3/connectionpool.py:1045: InsecureRequestWarning: Unverified HTTPS request is being made to host 'timesascent.com'. Adding certificate verification is strongly advised. See: https://urllib3.readthedocs.io/en/1.26.x/advanced-usage.html#ssl-warnings\n",
            "  warnings.warn(\n"
          ]
        },
        {
          "output_type": "stream",
          "name": "stdout",
          "text": [
            "Failed to extract one of the job postings\n",
            "Failed to extract one of the job postings\n",
            "Failed to extract one of the job postings\n",
            "Failed to extract one of the job postings\n",
            "Failed to extract one of the job postings\n",
            "Failed to extract one of the job postings\n",
            "Failed to extract one of the job postings\n",
            "Failed to extract one of the job postings\n",
            "Failed to extract one of the job postings\n",
            "Failed to extract one of the job postings\n",
            "Failed to extract one of the job postings\n",
            "Failed to extract one of the job postings\n",
            "Failed to extract one of the job postings\n",
            "Failed to extract one of the job postings\n",
            "Failed to extract one of the job postings\n",
            "Failed to extract one of the job postings\n",
            "Failed to extract one of the job postings\n",
            "Failed to extract one of the job postings\n",
            "Failed to extract one of the job postings\n",
            "Failed to extract one of the job postings\n",
            "Failed to extract one of the job postings\n"
          ]
        },
        {
          "output_type": "stream",
          "name": "stderr",
          "text": [
            "/usr/local/lib/python3.10/dist-packages/urllib3/connectionpool.py:1045: InsecureRequestWarning: Unverified HTTPS request is being made to host 'timesascent.com'. Adding certificate verification is strongly advised. See: https://urllib3.readthedocs.io/en/1.26.x/advanced-usage.html#ssl-warnings\n",
            "  warnings.warn(\n",
            "/usr/local/lib/python3.10/dist-packages/urllib3/connectionpool.py:1045: InsecureRequestWarning: Unverified HTTPS request is being made to host 'timesascent.com'. Adding certificate verification is strongly advised. See: https://urllib3.readthedocs.io/en/1.26.x/advanced-usage.html#ssl-warnings\n",
            "  warnings.warn(\n"
          ]
        },
        {
          "output_type": "stream",
          "name": "stdout",
          "text": [
            "Failed to extract one of the job postings\n",
            "Failed to extract one of the job postings\n",
            "Failed to extract one of the job postings\n",
            "Failed to extract one of the job postings\n"
          ]
        },
        {
          "output_type": "stream",
          "name": "stderr",
          "text": [
            "/usr/local/lib/python3.10/dist-packages/urllib3/connectionpool.py:1045: InsecureRequestWarning: Unverified HTTPS request is being made to host 'timesascent.com'. Adding certificate verification is strongly advised. See: https://urllib3.readthedocs.io/en/1.26.x/advanced-usage.html#ssl-warnings\n",
            "  warnings.warn(\n",
            "/usr/local/lib/python3.10/dist-packages/urllib3/connectionpool.py:1045: InsecureRequestWarning: Unverified HTTPS request is being made to host 'timesascent.com'. Adding certificate verification is strongly advised. See: https://urllib3.readthedocs.io/en/1.26.x/advanced-usage.html#ssl-warnings\n",
            "  warnings.warn(\n"
          ]
        },
        {
          "output_type": "stream",
          "name": "stdout",
          "text": [
            "Failed to extract one of the job postings\n",
            "Failed to extract one of the job postings\n",
            "Failed to extract one of the job postings\n",
            "Failed to extract one of the job postings\n"
          ]
        },
        {
          "output_type": "stream",
          "name": "stderr",
          "text": [
            "/usr/local/lib/python3.10/dist-packages/urllib3/connectionpool.py:1045: InsecureRequestWarning: Unverified HTTPS request is being made to host 'timesascent.com'. Adding certificate verification is strongly advised. See: https://urllib3.readthedocs.io/en/1.26.x/advanced-usage.html#ssl-warnings\n",
            "  warnings.warn(\n",
            "/usr/local/lib/python3.10/dist-packages/urllib3/connectionpool.py:1045: InsecureRequestWarning: Unverified HTTPS request is being made to host 'timesascent.com'. Adding certificate verification is strongly advised. See: https://urllib3.readthedocs.io/en/1.26.x/advanced-usage.html#ssl-warnings\n",
            "  warnings.warn(\n"
          ]
        },
        {
          "output_type": "stream",
          "name": "stdout",
          "text": [
            "Failed to extract one of the job postings\n",
            "Failed to extract one of the job postings\n",
            "Failed to extract one of the job postings\n",
            "Failed to extract one of the job postings\n"
          ]
        },
        {
          "output_type": "stream",
          "name": "stderr",
          "text": [
            "/usr/local/lib/python3.10/dist-packages/urllib3/connectionpool.py:1045: InsecureRequestWarning: Unverified HTTPS request is being made to host 'timesascent.com'. Adding certificate verification is strongly advised. See: https://urllib3.readthedocs.io/en/1.26.x/advanced-usage.html#ssl-warnings\n",
            "  warnings.warn(\n",
            "/usr/local/lib/python3.10/dist-packages/urllib3/connectionpool.py:1045: InsecureRequestWarning: Unverified HTTPS request is being made to host 'timesascent.com'. Adding certificate verification is strongly advised. See: https://urllib3.readthedocs.io/en/1.26.x/advanced-usage.html#ssl-warnings\n",
            "  warnings.warn(\n"
          ]
        },
        {
          "output_type": "stream",
          "name": "stdout",
          "text": [
            "Failed to extract one of the job postings\n",
            "Failed to extract one of the job postings\n",
            "Failed to extract one of the job postings\n",
            "Failed to extract one of the job postings\n"
          ]
        },
        {
          "output_type": "stream",
          "name": "stderr",
          "text": [
            "/usr/local/lib/python3.10/dist-packages/urllib3/connectionpool.py:1045: InsecureRequestWarning: Unverified HTTPS request is being made to host 'timesascent.com'. Adding certificate verification is strongly advised. See: https://urllib3.readthedocs.io/en/1.26.x/advanced-usage.html#ssl-warnings\n",
            "  warnings.warn(\n",
            "/usr/local/lib/python3.10/dist-packages/urllib3/connectionpool.py:1045: InsecureRequestWarning: Unverified HTTPS request is being made to host 'timesascent.com'. Adding certificate verification is strongly advised. See: https://urllib3.readthedocs.io/en/1.26.x/advanced-usage.html#ssl-warnings\n",
            "  warnings.warn(\n"
          ]
        },
        {
          "output_type": "stream",
          "name": "stdout",
          "text": [
            "Failed to extract one of the job postings\n",
            "Failed to extract one of the job postings\n",
            "Failed to extract one of the job postings\n",
            "Failed to extract one of the job postings\n"
          ]
        },
        {
          "output_type": "stream",
          "name": "stderr",
          "text": [
            "/usr/local/lib/python3.10/dist-packages/urllib3/connectionpool.py:1045: InsecureRequestWarning: Unverified HTTPS request is being made to host 'timesascent.com'. Adding certificate verification is strongly advised. See: https://urllib3.readthedocs.io/en/1.26.x/advanced-usage.html#ssl-warnings\n",
            "  warnings.warn(\n",
            "/usr/local/lib/python3.10/dist-packages/urllib3/connectionpool.py:1045: InsecureRequestWarning: Unverified HTTPS request is being made to host 'timesascent.com'. Adding certificate verification is strongly advised. See: https://urllib3.readthedocs.io/en/1.26.x/advanced-usage.html#ssl-warnings\n",
            "  warnings.warn(\n"
          ]
        },
        {
          "output_type": "stream",
          "name": "stdout",
          "text": [
            "Failed to extract one of the job postings\n",
            "Failed to extract one of the job postings\n",
            "Failed to extract one of the job postings\n",
            "Failed to extract one of the job postings\n"
          ]
        },
        {
          "output_type": "stream",
          "name": "stderr",
          "text": [
            "/usr/local/lib/python3.10/dist-packages/urllib3/connectionpool.py:1045: InsecureRequestWarning: Unverified HTTPS request is being made to host 'timesascent.com'. Adding certificate verification is strongly advised. See: https://urllib3.readthedocs.io/en/1.26.x/advanced-usage.html#ssl-warnings\n",
            "  warnings.warn(\n",
            "/usr/local/lib/python3.10/dist-packages/urllib3/connectionpool.py:1045: InsecureRequestWarning: Unverified HTTPS request is being made to host 'timesascent.com'. Adding certificate verification is strongly advised. See: https://urllib3.readthedocs.io/en/1.26.x/advanced-usage.html#ssl-warnings\n",
            "  warnings.warn(\n"
          ]
        },
        {
          "output_type": "stream",
          "name": "stdout",
          "text": [
            "Failed to extract one of the job postings\n",
            "Failed to extract one of the job postings\n",
            "Failed to extract one of the job postings\n",
            "Failed to extract one of the job postings\n"
          ]
        },
        {
          "output_type": "stream",
          "name": "stderr",
          "text": [
            "/usr/local/lib/python3.10/dist-packages/urllib3/connectionpool.py:1045: InsecureRequestWarning: Unverified HTTPS request is being made to host 'timesascent.com'. Adding certificate verification is strongly advised. See: https://urllib3.readthedocs.io/en/1.26.x/advanced-usage.html#ssl-warnings\n",
            "  warnings.warn(\n",
            "/usr/local/lib/python3.10/dist-packages/urllib3/connectionpool.py:1045: InsecureRequestWarning: Unverified HTTPS request is being made to host 'timesascent.com'. Adding certificate verification is strongly advised. See: https://urllib3.readthedocs.io/en/1.26.x/advanced-usage.html#ssl-warnings\n",
            "  warnings.warn(\n"
          ]
        },
        {
          "output_type": "stream",
          "name": "stdout",
          "text": [
            "Failed to extract one of the job postings\n",
            "Failed to extract one of the job postings\n",
            "Failed to extract one of the job postings\n",
            "Failed to extract one of the job postings\n"
          ]
        },
        {
          "output_type": "stream",
          "name": "stderr",
          "text": [
            "/usr/local/lib/python3.10/dist-packages/urllib3/connectionpool.py:1045: InsecureRequestWarning: Unverified HTTPS request is being made to host 'timesascent.com'. Adding certificate verification is strongly advised. See: https://urllib3.readthedocs.io/en/1.26.x/advanced-usage.html#ssl-warnings\n",
            "  warnings.warn(\n",
            "/usr/local/lib/python3.10/dist-packages/urllib3/connectionpool.py:1045: InsecureRequestWarning: Unverified HTTPS request is being made to host 'timesascent.com'. Adding certificate verification is strongly advised. See: https://urllib3.readthedocs.io/en/1.26.x/advanced-usage.html#ssl-warnings\n",
            "  warnings.warn(\n"
          ]
        },
        {
          "output_type": "stream",
          "name": "stdout",
          "text": [
            "Failed to extract one of the job postings\n",
            "Failed to extract one of the job postings\n",
            "Failed to extract one of the job postings\n",
            "Failed to extract one of the job postings\n"
          ]
        },
        {
          "output_type": "stream",
          "name": "stderr",
          "text": [
            "/usr/local/lib/python3.10/dist-packages/urllib3/connectionpool.py:1045: InsecureRequestWarning: Unverified HTTPS request is being made to host 'timesascent.com'. Adding certificate verification is strongly advised. See: https://urllib3.readthedocs.io/en/1.26.x/advanced-usage.html#ssl-warnings\n",
            "  warnings.warn(\n",
            "/usr/local/lib/python3.10/dist-packages/urllib3/connectionpool.py:1045: InsecureRequestWarning: Unverified HTTPS request is being made to host 'timesascent.com'. Adding certificate verification is strongly advised. See: https://urllib3.readthedocs.io/en/1.26.x/advanced-usage.html#ssl-warnings\n",
            "  warnings.warn(\n"
          ]
        },
        {
          "output_type": "stream",
          "name": "stdout",
          "text": [
            "Failed to extract one of the job postings\n",
            "Failed to extract one of the job postings\n",
            "Failed to extract one of the job postings\n",
            "Failed to extract one of the job postings\n"
          ]
        },
        {
          "output_type": "stream",
          "name": "stderr",
          "text": [
            "/usr/local/lib/python3.10/dist-packages/urllib3/connectionpool.py:1045: InsecureRequestWarning: Unverified HTTPS request is being made to host 'timesascent.com'. Adding certificate verification is strongly advised. See: https://urllib3.readthedocs.io/en/1.26.x/advanced-usage.html#ssl-warnings\n",
            "  warnings.warn(\n",
            "/usr/local/lib/python3.10/dist-packages/urllib3/connectionpool.py:1045: InsecureRequestWarning: Unverified HTTPS request is being made to host 'timesascent.com'. Adding certificate verification is strongly advised. See: https://urllib3.readthedocs.io/en/1.26.x/advanced-usage.html#ssl-warnings\n",
            "  warnings.warn(\n"
          ]
        },
        {
          "output_type": "stream",
          "name": "stdout",
          "text": [
            "Failed to extract one of the job postings\n",
            "Failed to extract one of the job postings\n",
            "Failed to extract one of the job postings\n",
            "Failed to extract one of the job postings\n"
          ]
        },
        {
          "output_type": "stream",
          "name": "stderr",
          "text": [
            "/usr/local/lib/python3.10/dist-packages/urllib3/connectionpool.py:1045: InsecureRequestWarning: Unverified HTTPS request is being made to host 'timesascent.com'. Adding certificate verification is strongly advised. See: https://urllib3.readthedocs.io/en/1.26.x/advanced-usage.html#ssl-warnings\n",
            "  warnings.warn(\n",
            "/usr/local/lib/python3.10/dist-packages/urllib3/connectionpool.py:1045: InsecureRequestWarning: Unverified HTTPS request is being made to host 'timesascent.com'. Adding certificate verification is strongly advised. See: https://urllib3.readthedocs.io/en/1.26.x/advanced-usage.html#ssl-warnings\n",
            "  warnings.warn(\n"
          ]
        },
        {
          "output_type": "stream",
          "name": "stdout",
          "text": [
            "Failed to extract one of the job postings\n",
            "Failed to extract one of the job postings\n",
            "Failed to extract one of the job postings\n",
            "Failed to extract one of the job postings\n"
          ]
        },
        {
          "output_type": "stream",
          "name": "stderr",
          "text": [
            "/usr/local/lib/python3.10/dist-packages/urllib3/connectionpool.py:1045: InsecureRequestWarning: Unverified HTTPS request is being made to host 'timesascent.com'. Adding certificate verification is strongly advised. See: https://urllib3.readthedocs.io/en/1.26.x/advanced-usage.html#ssl-warnings\n",
            "  warnings.warn(\n",
            "/usr/local/lib/python3.10/dist-packages/urllib3/connectionpool.py:1045: InsecureRequestWarning: Unverified HTTPS request is being made to host 'timesascent.com'. Adding certificate verification is strongly advised. See: https://urllib3.readthedocs.io/en/1.26.x/advanced-usage.html#ssl-warnings\n",
            "  warnings.warn(\n"
          ]
        },
        {
          "output_type": "stream",
          "name": "stdout",
          "text": [
            "Failed to extract one of the job postings\n",
            "Failed to extract one of the job postings\n",
            "Failed to extract one of the job postings\n",
            "Failed to extract one of the job postings\n"
          ]
        },
        {
          "output_type": "stream",
          "name": "stderr",
          "text": [
            "/usr/local/lib/python3.10/dist-packages/urllib3/connectionpool.py:1045: InsecureRequestWarning: Unverified HTTPS request is being made to host 'timesascent.com'. Adding certificate verification is strongly advised. See: https://urllib3.readthedocs.io/en/1.26.x/advanced-usage.html#ssl-warnings\n",
            "  warnings.warn(\n",
            "/usr/local/lib/python3.10/dist-packages/urllib3/connectionpool.py:1045: InsecureRequestWarning: Unverified HTTPS request is being made to host 'timesascent.com'. Adding certificate verification is strongly advised. See: https://urllib3.readthedocs.io/en/1.26.x/advanced-usage.html#ssl-warnings\n",
            "  warnings.warn(\n"
          ]
        },
        {
          "output_type": "stream",
          "name": "stdout",
          "text": [
            "Failed to extract one of the job postings\n",
            "Failed to extract one of the job postings\n",
            "Failed to extract one of the job postings\n",
            "Failed to extract one of the job postings\n"
          ]
        },
        {
          "output_type": "stream",
          "name": "stderr",
          "text": [
            "/usr/local/lib/python3.10/dist-packages/urllib3/connectionpool.py:1045: InsecureRequestWarning: Unverified HTTPS request is being made to host 'timesascent.com'. Adding certificate verification is strongly advised. See: https://urllib3.readthedocs.io/en/1.26.x/advanced-usage.html#ssl-warnings\n",
            "  warnings.warn(\n",
            "/usr/local/lib/python3.10/dist-packages/urllib3/connectionpool.py:1045: InsecureRequestWarning: Unverified HTTPS request is being made to host 'timesascent.com'. Adding certificate verification is strongly advised. See: https://urllib3.readthedocs.io/en/1.26.x/advanced-usage.html#ssl-warnings\n",
            "  warnings.warn(\n"
          ]
        },
        {
          "output_type": "stream",
          "name": "stdout",
          "text": [
            "Failed to extract one of the job postings\n",
            "Failed to extract one of the job postings\n",
            "Failed to extract one of the job postings\n",
            "Failed to extract one of the job postings\n"
          ]
        },
        {
          "output_type": "stream",
          "name": "stderr",
          "text": [
            "/usr/local/lib/python3.10/dist-packages/urllib3/connectionpool.py:1045: InsecureRequestWarning: Unverified HTTPS request is being made to host 'timesascent.com'. Adding certificate verification is strongly advised. See: https://urllib3.readthedocs.io/en/1.26.x/advanced-usage.html#ssl-warnings\n",
            "  warnings.warn(\n",
            "/usr/local/lib/python3.10/dist-packages/urllib3/connectionpool.py:1045: InsecureRequestWarning: Unverified HTTPS request is being made to host 'timesascent.com'. Adding certificate verification is strongly advised. See: https://urllib3.readthedocs.io/en/1.26.x/advanced-usage.html#ssl-warnings\n",
            "  warnings.warn(\n"
          ]
        },
        {
          "output_type": "stream",
          "name": "stdout",
          "text": [
            "Failed to extract one of the job postings\n",
            "Failed to extract one of the job postings\n",
            "Failed to extract one of the job postings\n",
            "Failed to extract one of the job postings\n"
          ]
        },
        {
          "output_type": "stream",
          "name": "stderr",
          "text": [
            "/usr/local/lib/python3.10/dist-packages/urllib3/connectionpool.py:1045: InsecureRequestWarning: Unverified HTTPS request is being made to host 'timesascent.com'. Adding certificate verification is strongly advised. See: https://urllib3.readthedocs.io/en/1.26.x/advanced-usage.html#ssl-warnings\n",
            "  warnings.warn(\n",
            "/usr/local/lib/python3.10/dist-packages/urllib3/connectionpool.py:1045: InsecureRequestWarning: Unverified HTTPS request is being made to host 'timesascent.com'. Adding certificate verification is strongly advised. See: https://urllib3.readthedocs.io/en/1.26.x/advanced-usage.html#ssl-warnings\n",
            "  warnings.warn(\n"
          ]
        },
        {
          "output_type": "stream",
          "name": "stdout",
          "text": [
            "Failed to extract one of the job postings\n",
            "Failed to extract one of the job postings\n",
            "Failed to extract one of the job postings\n",
            "Failed to extract one of the job postings\n"
          ]
        },
        {
          "output_type": "stream",
          "name": "stderr",
          "text": [
            "/usr/local/lib/python3.10/dist-packages/urllib3/connectionpool.py:1045: InsecureRequestWarning: Unverified HTTPS request is being made to host 'timesascent.com'. Adding certificate verification is strongly advised. See: https://urllib3.readthedocs.io/en/1.26.x/advanced-usage.html#ssl-warnings\n",
            "  warnings.warn(\n",
            "/usr/local/lib/python3.10/dist-packages/urllib3/connectionpool.py:1045: InsecureRequestWarning: Unverified HTTPS request is being made to host 'timesascent.com'. Adding certificate verification is strongly advised. See: https://urllib3.readthedocs.io/en/1.26.x/advanced-usage.html#ssl-warnings\n",
            "  warnings.warn(\n"
          ]
        },
        {
          "output_type": "stream",
          "name": "stdout",
          "text": [
            "Failed to extract one of the job postings\n",
            "Failed to extract one of the job postings\n",
            "Failed to extract one of the job postings\n",
            "Failed to extract one of the job postings\n"
          ]
        },
        {
          "output_type": "stream",
          "name": "stderr",
          "text": [
            "/usr/local/lib/python3.10/dist-packages/urllib3/connectionpool.py:1045: InsecureRequestWarning: Unverified HTTPS request is being made to host 'timesascent.com'. Adding certificate verification is strongly advised. See: https://urllib3.readthedocs.io/en/1.26.x/advanced-usage.html#ssl-warnings\n",
            "  warnings.warn(\n",
            "/usr/local/lib/python3.10/dist-packages/urllib3/connectionpool.py:1045: InsecureRequestWarning: Unverified HTTPS request is being made to host 'timesascent.com'. Adding certificate verification is strongly advised. See: https://urllib3.readthedocs.io/en/1.26.x/advanced-usage.html#ssl-warnings\n",
            "  warnings.warn(\n"
          ]
        },
        {
          "output_type": "stream",
          "name": "stdout",
          "text": [
            "Failed to extract one of the job postings\n",
            "Failed to extract one of the job postings\n",
            "Failed to extract one of the job postings\n",
            "Failed to extract one of the job postings\n",
            "Failed to extract one of the job postings\n",
            "Failed to extract one of the job postings\n",
            "Failed to extract one of the job postings\n",
            "Failed to extract one of the job postings\n",
            "Failed to extract one of the job postings\n",
            "Failed to extract one of the job postings\n",
            "Failed to extract one of the job postings\n",
            "Failed to extract one of the job postings\n",
            "Failed to extract one of the job postings\n",
            "Failed to extract one of the job postings\n",
            "Failed to extract one of the job postings\n",
            "Failed to extract one of the job postings\n",
            "Failed to extract one of the job postings\n",
            "Failed to extract one of the job postings\n"
          ]
        },
        {
          "output_type": "stream",
          "name": "stderr",
          "text": [
            "/usr/local/lib/python3.10/dist-packages/urllib3/connectionpool.py:1045: InsecureRequestWarning: Unverified HTTPS request is being made to host 'timesascent.com'. Adding certificate verification is strongly advised. See: https://urllib3.readthedocs.io/en/1.26.x/advanced-usage.html#ssl-warnings\n",
            "  warnings.warn(\n",
            "/usr/local/lib/python3.10/dist-packages/urllib3/connectionpool.py:1045: InsecureRequestWarning: Unverified HTTPS request is being made to host 'timesascent.com'. Adding certificate verification is strongly advised. See: https://urllib3.readthedocs.io/en/1.26.x/advanced-usage.html#ssl-warnings\n",
            "  warnings.warn(\n"
          ]
        },
        {
          "output_type": "stream",
          "name": "stdout",
          "text": [
            "Failed to extract one of the job postings\n",
            "Failed to extract one of the job postings\n",
            "Failed to extract one of the job postings\n",
            "Failed to extract one of the job postings\n"
          ]
        },
        {
          "output_type": "stream",
          "name": "stderr",
          "text": [
            "/usr/local/lib/python3.10/dist-packages/urllib3/connectionpool.py:1045: InsecureRequestWarning: Unverified HTTPS request is being made to host 'timesascent.com'. Adding certificate verification is strongly advised. See: https://urllib3.readthedocs.io/en/1.26.x/advanced-usage.html#ssl-warnings\n",
            "  warnings.warn(\n",
            "/usr/local/lib/python3.10/dist-packages/urllib3/connectionpool.py:1045: InsecureRequestWarning: Unverified HTTPS request is being made to host 'timesascent.com'. Adding certificate verification is strongly advised. See: https://urllib3.readthedocs.io/en/1.26.x/advanced-usage.html#ssl-warnings\n",
            "  warnings.warn(\n"
          ]
        },
        {
          "output_type": "stream",
          "name": "stdout",
          "text": [
            "Failed to extract one of the job postings\n",
            "Failed to extract one of the job postings\n",
            "Failed to extract one of the job postings\n",
            "Failed to extract one of the job postings\n"
          ]
        },
        {
          "output_type": "stream",
          "name": "stderr",
          "text": [
            "/usr/local/lib/python3.10/dist-packages/urllib3/connectionpool.py:1045: InsecureRequestWarning: Unverified HTTPS request is being made to host 'timesascent.com'. Adding certificate verification is strongly advised. See: https://urllib3.readthedocs.io/en/1.26.x/advanced-usage.html#ssl-warnings\n",
            "  warnings.warn(\n",
            "/usr/local/lib/python3.10/dist-packages/urllib3/connectionpool.py:1045: InsecureRequestWarning: Unverified HTTPS request is being made to host 'timesascent.com'. Adding certificate verification is strongly advised. See: https://urllib3.readthedocs.io/en/1.26.x/advanced-usage.html#ssl-warnings\n",
            "  warnings.warn(\n"
          ]
        },
        {
          "output_type": "stream",
          "name": "stdout",
          "text": [
            "Failed to extract one of the job postings\n",
            "Failed to extract one of the job postings\n",
            "Failed to extract one of the job postings\n",
            "Failed to extract one of the job postings\n"
          ]
        },
        {
          "output_type": "stream",
          "name": "stderr",
          "text": [
            "/usr/local/lib/python3.10/dist-packages/urllib3/connectionpool.py:1045: InsecureRequestWarning: Unverified HTTPS request is being made to host 'timesascent.com'. Adding certificate verification is strongly advised. See: https://urllib3.readthedocs.io/en/1.26.x/advanced-usage.html#ssl-warnings\n",
            "  warnings.warn(\n",
            "/usr/local/lib/python3.10/dist-packages/urllib3/connectionpool.py:1045: InsecureRequestWarning: Unverified HTTPS request is being made to host 'timesascent.com'. Adding certificate verification is strongly advised. See: https://urllib3.readthedocs.io/en/1.26.x/advanced-usage.html#ssl-warnings\n",
            "  warnings.warn(\n"
          ]
        },
        {
          "output_type": "stream",
          "name": "stdout",
          "text": [
            "Failed to extract one of the job postings\n",
            "Failed to extract one of the job postings\n",
            "Failed to extract one of the job postings\n",
            "Failed to extract one of the job postings\n"
          ]
        },
        {
          "output_type": "stream",
          "name": "stderr",
          "text": [
            "/usr/local/lib/python3.10/dist-packages/urllib3/connectionpool.py:1045: InsecureRequestWarning: Unverified HTTPS request is being made to host 'timesascent.com'. Adding certificate verification is strongly advised. See: https://urllib3.readthedocs.io/en/1.26.x/advanced-usage.html#ssl-warnings\n",
            "  warnings.warn(\n",
            "/usr/local/lib/python3.10/dist-packages/urllib3/connectionpool.py:1045: InsecureRequestWarning: Unverified HTTPS request is being made to host 'timesascent.com'. Adding certificate verification is strongly advised. See: https://urllib3.readthedocs.io/en/1.26.x/advanced-usage.html#ssl-warnings\n",
            "  warnings.warn(\n"
          ]
        },
        {
          "output_type": "stream",
          "name": "stdout",
          "text": [
            "Failed to extract one of the job postings\n",
            "Failed to extract one of the job postings\n",
            "Failed to extract one of the job postings\n",
            "Failed to extract one of the job postings\n"
          ]
        },
        {
          "output_type": "stream",
          "name": "stderr",
          "text": [
            "/usr/local/lib/python3.10/dist-packages/urllib3/connectionpool.py:1045: InsecureRequestWarning: Unverified HTTPS request is being made to host 'timesascent.com'. Adding certificate verification is strongly advised. See: https://urllib3.readthedocs.io/en/1.26.x/advanced-usage.html#ssl-warnings\n",
            "  warnings.warn(\n",
            "/usr/local/lib/python3.10/dist-packages/urllib3/connectionpool.py:1045: InsecureRequestWarning: Unverified HTTPS request is being made to host 'timesascent.com'. Adding certificate verification is strongly advised. See: https://urllib3.readthedocs.io/en/1.26.x/advanced-usage.html#ssl-warnings\n",
            "  warnings.warn(\n"
          ]
        },
        {
          "output_type": "stream",
          "name": "stdout",
          "text": [
            "Failed to extract one of the job postings\n",
            "Failed to extract one of the job postings\n",
            "Failed to extract one of the job postings\n",
            "Failed to extract one of the job postings\n"
          ]
        },
        {
          "output_type": "stream",
          "name": "stderr",
          "text": [
            "/usr/local/lib/python3.10/dist-packages/urllib3/connectionpool.py:1045: InsecureRequestWarning: Unverified HTTPS request is being made to host 'timesascent.com'. Adding certificate verification is strongly advised. See: https://urllib3.readthedocs.io/en/1.26.x/advanced-usage.html#ssl-warnings\n",
            "  warnings.warn(\n",
            "/usr/local/lib/python3.10/dist-packages/urllib3/connectionpool.py:1045: InsecureRequestWarning: Unverified HTTPS request is being made to host 'timesascent.com'. Adding certificate verification is strongly advised. See: https://urllib3.readthedocs.io/en/1.26.x/advanced-usage.html#ssl-warnings\n",
            "  warnings.warn(\n"
          ]
        },
        {
          "output_type": "stream",
          "name": "stdout",
          "text": [
            "Failed to extract one of the job postings\n",
            "Failed to extract one of the job postings\n",
            "Failed to extract one of the job postings\n",
            "Failed to extract one of the job postings\n"
          ]
        },
        {
          "output_type": "stream",
          "name": "stderr",
          "text": [
            "/usr/local/lib/python3.10/dist-packages/urllib3/connectionpool.py:1045: InsecureRequestWarning: Unverified HTTPS request is being made to host 'timesascent.com'. Adding certificate verification is strongly advised. See: https://urllib3.readthedocs.io/en/1.26.x/advanced-usage.html#ssl-warnings\n",
            "  warnings.warn(\n",
            "/usr/local/lib/python3.10/dist-packages/urllib3/connectionpool.py:1045: InsecureRequestWarning: Unverified HTTPS request is being made to host 'timesascent.com'. Adding certificate verification is strongly advised. See: https://urllib3.readthedocs.io/en/1.26.x/advanced-usage.html#ssl-warnings\n",
            "  warnings.warn(\n"
          ]
        },
        {
          "output_type": "stream",
          "name": "stdout",
          "text": [
            "Failed to extract one of the job postings\n",
            "Failed to extract one of the job postings\n",
            "Failed to extract one of the job postings\n",
            "Failed to extract one of the job postings\n"
          ]
        },
        {
          "output_type": "stream",
          "name": "stderr",
          "text": [
            "/usr/local/lib/python3.10/dist-packages/urllib3/connectionpool.py:1045: InsecureRequestWarning: Unverified HTTPS request is being made to host 'timesascent.com'. Adding certificate verification is strongly advised. See: https://urllib3.readthedocs.io/en/1.26.x/advanced-usage.html#ssl-warnings\n",
            "  warnings.warn(\n",
            "/usr/local/lib/python3.10/dist-packages/urllib3/connectionpool.py:1045: InsecureRequestWarning: Unverified HTTPS request is being made to host 'timesascent.com'. Adding certificate verification is strongly advised. See: https://urllib3.readthedocs.io/en/1.26.x/advanced-usage.html#ssl-warnings\n",
            "  warnings.warn(\n"
          ]
        },
        {
          "output_type": "stream",
          "name": "stdout",
          "text": [
            "Failed to extract one of the job postings\n",
            "Failed to extract one of the job postings\n",
            "Failed to extract one of the job postings\n",
            "Failed to extract one of the job postings\n"
          ]
        },
        {
          "output_type": "stream",
          "name": "stderr",
          "text": [
            "/usr/local/lib/python3.10/dist-packages/urllib3/connectionpool.py:1045: InsecureRequestWarning: Unverified HTTPS request is being made to host 'timesascent.com'. Adding certificate verification is strongly advised. See: https://urllib3.readthedocs.io/en/1.26.x/advanced-usage.html#ssl-warnings\n",
            "  warnings.warn(\n",
            "/usr/local/lib/python3.10/dist-packages/urllib3/connectionpool.py:1045: InsecureRequestWarning: Unverified HTTPS request is being made to host 'timesascent.com'. Adding certificate verification is strongly advised. See: https://urllib3.readthedocs.io/en/1.26.x/advanced-usage.html#ssl-warnings\n",
            "  warnings.warn(\n"
          ]
        },
        {
          "output_type": "stream",
          "name": "stdout",
          "text": [
            "Failed to extract one of the job postings\n",
            "Failed to extract one of the job postings\n",
            "Failed to extract one of the job postings\n",
            "Failed to extract one of the job postings\n"
          ]
        },
        {
          "output_type": "stream",
          "name": "stderr",
          "text": [
            "/usr/local/lib/python3.10/dist-packages/urllib3/connectionpool.py:1045: InsecureRequestWarning: Unverified HTTPS request is being made to host 'timesascent.com'. Adding certificate verification is strongly advised. See: https://urllib3.readthedocs.io/en/1.26.x/advanced-usage.html#ssl-warnings\n",
            "  warnings.warn(\n",
            "/usr/local/lib/python3.10/dist-packages/urllib3/connectionpool.py:1045: InsecureRequestWarning: Unverified HTTPS request is being made to host 'timesascent.com'. Adding certificate verification is strongly advised. See: https://urllib3.readthedocs.io/en/1.26.x/advanced-usage.html#ssl-warnings\n",
            "  warnings.warn(\n"
          ]
        },
        {
          "output_type": "stream",
          "name": "stdout",
          "text": [
            "Failed to extract one of the job postings\n",
            "Failed to extract one of the job postings\n",
            "Failed to extract one of the job postings\n",
            "Failed to extract one of the job postings\n"
          ]
        },
        {
          "output_type": "stream",
          "name": "stderr",
          "text": [
            "/usr/local/lib/python3.10/dist-packages/urllib3/connectionpool.py:1045: InsecureRequestWarning: Unverified HTTPS request is being made to host 'timesascent.com'. Adding certificate verification is strongly advised. See: https://urllib3.readthedocs.io/en/1.26.x/advanced-usage.html#ssl-warnings\n",
            "  warnings.warn(\n",
            "/usr/local/lib/python3.10/dist-packages/urllib3/connectionpool.py:1045: InsecureRequestWarning: Unverified HTTPS request is being made to host 'timesascent.com'. Adding certificate verification is strongly advised. See: https://urllib3.readthedocs.io/en/1.26.x/advanced-usage.html#ssl-warnings\n",
            "  warnings.warn(\n"
          ]
        },
        {
          "output_type": "stream",
          "name": "stdout",
          "text": [
            "Failed to extract one of the job postings\n",
            "Failed to extract one of the job postings\n",
            "Failed to extract one of the job postings\n",
            "Failed to extract one of the job postings\n"
          ]
        },
        {
          "output_type": "stream",
          "name": "stderr",
          "text": [
            "/usr/local/lib/python3.10/dist-packages/urllib3/connectionpool.py:1045: InsecureRequestWarning: Unverified HTTPS request is being made to host 'timesascent.com'. Adding certificate verification is strongly advised. See: https://urllib3.readthedocs.io/en/1.26.x/advanced-usage.html#ssl-warnings\n",
            "  warnings.warn(\n",
            "/usr/local/lib/python3.10/dist-packages/urllib3/connectionpool.py:1045: InsecureRequestWarning: Unverified HTTPS request is being made to host 'timesascent.com'. Adding certificate verification is strongly advised. See: https://urllib3.readthedocs.io/en/1.26.x/advanced-usage.html#ssl-warnings\n",
            "  warnings.warn(\n"
          ]
        },
        {
          "output_type": "stream",
          "name": "stdout",
          "text": [
            "Failed to extract one of the job postings\n",
            "Failed to extract one of the job postings\n",
            "Failed to extract one of the job postings\n",
            "Failed to extract one of the job postings\n"
          ]
        },
        {
          "output_type": "stream",
          "name": "stderr",
          "text": [
            "/usr/local/lib/python3.10/dist-packages/urllib3/connectionpool.py:1045: InsecureRequestWarning: Unverified HTTPS request is being made to host 'timesascent.com'. Adding certificate verification is strongly advised. See: https://urllib3.readthedocs.io/en/1.26.x/advanced-usage.html#ssl-warnings\n",
            "  warnings.warn(\n",
            "/usr/local/lib/python3.10/dist-packages/urllib3/connectionpool.py:1045: InsecureRequestWarning: Unverified HTTPS request is being made to host 'timesascent.com'. Adding certificate verification is strongly advised. See: https://urllib3.readthedocs.io/en/1.26.x/advanced-usage.html#ssl-warnings\n",
            "  warnings.warn(\n"
          ]
        },
        {
          "output_type": "stream",
          "name": "stdout",
          "text": [
            "Failed to extract one of the job postings\n",
            "Failed to extract one of the job postings\n",
            "Failed to extract one of the job postings\n",
            "Failed to extract one of the job postings\n"
          ]
        },
        {
          "output_type": "stream",
          "name": "stderr",
          "text": [
            "/usr/local/lib/python3.10/dist-packages/urllib3/connectionpool.py:1045: InsecureRequestWarning: Unverified HTTPS request is being made to host 'timesascent.com'. Adding certificate verification is strongly advised. See: https://urllib3.readthedocs.io/en/1.26.x/advanced-usage.html#ssl-warnings\n",
            "  warnings.warn(\n",
            "/usr/local/lib/python3.10/dist-packages/urllib3/connectionpool.py:1045: InsecureRequestWarning: Unverified HTTPS request is being made to host 'timesascent.com'. Adding certificate verification is strongly advised. See: https://urllib3.readthedocs.io/en/1.26.x/advanced-usage.html#ssl-warnings\n",
            "  warnings.warn(\n"
          ]
        },
        {
          "output_type": "stream",
          "name": "stdout",
          "text": [
            "Failed to extract one of the job postings\n",
            "Failed to extract one of the job postings\n",
            "Failed to extract one of the job postings\n",
            "Failed to extract one of the job postings\n"
          ]
        },
        {
          "output_type": "stream",
          "name": "stderr",
          "text": [
            "/usr/local/lib/python3.10/dist-packages/urllib3/connectionpool.py:1045: InsecureRequestWarning: Unverified HTTPS request is being made to host 'timesascent.com'. Adding certificate verification is strongly advised. See: https://urllib3.readthedocs.io/en/1.26.x/advanced-usage.html#ssl-warnings\n",
            "  warnings.warn(\n",
            "/usr/local/lib/python3.10/dist-packages/urllib3/connectionpool.py:1045: InsecureRequestWarning: Unverified HTTPS request is being made to host 'timesascent.com'. Adding certificate verification is strongly advised. See: https://urllib3.readthedocs.io/en/1.26.x/advanced-usage.html#ssl-warnings\n",
            "  warnings.warn(\n"
          ]
        },
        {
          "output_type": "stream",
          "name": "stdout",
          "text": [
            "Failed to extract one of the job postings\n",
            "Failed to extract one of the job postings\n",
            "Failed to extract one of the job postings\n",
            "Failed to extract one of the job postings\n"
          ]
        },
        {
          "output_type": "stream",
          "name": "stderr",
          "text": [
            "/usr/local/lib/python3.10/dist-packages/urllib3/connectionpool.py:1045: InsecureRequestWarning: Unverified HTTPS request is being made to host 'timesascent.com'. Adding certificate verification is strongly advised. See: https://urllib3.readthedocs.io/en/1.26.x/advanced-usage.html#ssl-warnings\n",
            "  warnings.warn(\n",
            "/usr/local/lib/python3.10/dist-packages/urllib3/connectionpool.py:1045: InsecureRequestWarning: Unverified HTTPS request is being made to host 'timesascent.com'. Adding certificate verification is strongly advised. See: https://urllib3.readthedocs.io/en/1.26.x/advanced-usage.html#ssl-warnings\n",
            "  warnings.warn(\n"
          ]
        },
        {
          "output_type": "stream",
          "name": "stdout",
          "text": [
            "Failed to extract one of the job postings\n",
            "Failed to extract one of the job postings\n",
            "Failed to extract one of the job postings\n",
            "Failed to extract one of the job postings\n"
          ]
        },
        {
          "output_type": "stream",
          "name": "stderr",
          "text": [
            "/usr/local/lib/python3.10/dist-packages/urllib3/connectionpool.py:1045: InsecureRequestWarning: Unverified HTTPS request is being made to host 'timesascent.com'. Adding certificate verification is strongly advised. See: https://urllib3.readthedocs.io/en/1.26.x/advanced-usage.html#ssl-warnings\n",
            "  warnings.warn(\n",
            "/usr/local/lib/python3.10/dist-packages/urllib3/connectionpool.py:1045: InsecureRequestWarning: Unverified HTTPS request is being made to host 'timesascent.com'. Adding certificate verification is strongly advised. See: https://urllib3.readthedocs.io/en/1.26.x/advanced-usage.html#ssl-warnings\n",
            "  warnings.warn(\n"
          ]
        },
        {
          "output_type": "stream",
          "name": "stdout",
          "text": [
            "Failed to extract one of the job postings\n",
            "Failed to extract one of the job postings\n",
            "Failed to extract one of the job postings\n",
            "Failed to extract one of the job postings\n"
          ]
        },
        {
          "output_type": "stream",
          "name": "stderr",
          "text": [
            "/usr/local/lib/python3.10/dist-packages/urllib3/connectionpool.py:1045: InsecureRequestWarning: Unverified HTTPS request is being made to host 'timesascent.com'. Adding certificate verification is strongly advised. See: https://urllib3.readthedocs.io/en/1.26.x/advanced-usage.html#ssl-warnings\n",
            "  warnings.warn(\n",
            "/usr/local/lib/python3.10/dist-packages/urllib3/connectionpool.py:1045: InsecureRequestWarning: Unverified HTTPS request is being made to host 'timesascent.com'. Adding certificate verification is strongly advised. See: https://urllib3.readthedocs.io/en/1.26.x/advanced-usage.html#ssl-warnings\n",
            "  warnings.warn(\n"
          ]
        },
        {
          "output_type": "stream",
          "name": "stdout",
          "text": [
            "Failed to extract one of the job postings\n",
            "Failed to extract one of the job postings\n",
            "Failed to extract one of the job postings\n",
            "Failed to extract one of the job postings\n"
          ]
        }
      ]
    },
    {
      "cell_type": "code",
      "source": [
        "\n",
        "# Write data to CSV file\n",
        "with open('job_postings.csv', 'w') as f:\n",
        "    writer = csv.DictWriter(f, fieldnames=fields)\n",
        "    writer.writeheader()\n",
        "    writer.writerows(job_postings)"
      ],
      "metadata": {
        "id": "cC4YRXFFqufn"
      },
      "execution_count": 19,
      "outputs": []
    }
  ]
}